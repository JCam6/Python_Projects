{
 "cells": [
  {
   "cell_type": "code",
   "execution_count": 1,
   "metadata": {},
   "outputs": [],
   "source": [
    "# Python 3.8.10 64-bit\n",
    "# Local Jupyter Notebook in VS Code\n",
    "\n",
    "# Install requirements as listed in pyweka documentation.\n",
    "# http://fracpete.github.io/python-weka-wrapper3/install.html#windows\n",
    "\n",
    "# Oracle JDK required.\n",
    "# https://www.oracle.com/java/technologies/downloads/#jdk17-windows"
   ]
  },
  {
   "cell_type": "markdown",
   "metadata": {},
   "source": [
    "Install packages and libraries"
   ]
  },
  {
   "cell_type": "code",
   "execution_count": 2,
   "metadata": {},
   "outputs": [
    {
     "name": "stdout",
     "output_type": "stream",
     "text": [
      "Processing c:\\users\\jc\\desktop\\onedrive - kennesaw state university\\mscy\\gra\\datasets\\iot-23\\numpy-1.21.5+vanilla-cp38-cp38-win_amd64.whl\n",
      "numpy is already installed with the same version as the provided wheel. Use --force-reinstall to force an installation of the wheel.\n",
      "Note: you may need to restart the kernel to use updated packages.\n",
      "Processing c:\\users\\jc\\desktop\\onedrive - kennesaw state university\\mscy\\gra\\datasets\\iot-23\\javabridge-1.0.19-cp38-cp38-win_amd64.whl\n",
      "Requirement already satisfied: numpy in c:\\users\\jc\\appdata\\local\\programs\\python\\python38\\lib\\site-packages (from javabridge==1.0.19) (1.21.5+vanilla)\n",
      "javabridge is already installed with the same version as the provided wheel. Use --force-reinstall to force an installation of the wheel.\n",
      "Note: you may need to restart the kernel to use updated packages.\n",
      "Processing c:\\users\\jc\\desktop\\onedrive - kennesaw state university\\mscy\\gra\\datasets\\iot-23\\matplotlib-3.5.1-cp38-cp38-win_amd64.whl\n",
      "Requirement already satisfied: packaging>=20.0 in c:\\users\\jc\\appdata\\local\\programs\\python\\python38\\lib\\site-packages (from matplotlib==3.5.1) (21.3)\n",
      "Requirement already satisfied: kiwisolver>=1.0.1 in c:\\users\\jc\\appdata\\local\\programs\\python\\python38\\lib\\site-packages (from matplotlib==3.5.1) (1.3.2)\n",
      "Requirement already satisfied: cycler>=0.10 in c:\\users\\jc\\appdata\\local\\programs\\python\\python38\\lib\\site-packages (from matplotlib==3.5.1) (0.11.0)\n",
      "Requirement already satisfied: pillow>=6.2.0 in c:\\users\\jc\\appdata\\local\\programs\\python\\python38\\lib\\site-packages (from matplotlib==3.5.1) (8.4.0)\n",
      "Requirement already satisfied: pyparsing>=2.2.1 in c:\\users\\jc\\appdata\\local\\programs\\python\\python38\\lib\\site-packages (from matplotlib==3.5.1) (3.0.6)\n",
      "Requirement already satisfied: python-dateutil>=2.7 in c:\\users\\jc\\appdata\\local\\programs\\python\\python38\\lib\\site-packages (from matplotlib==3.5.1) (2.8.2)\n",
      "Requirement already satisfied: numpy>=1.17 in c:\\users\\jc\\appdata\\local\\programs\\python\\python38\\lib\\site-packages (from matplotlib==3.5.1) (1.21.5+vanilla)\n",
      "Requirement already satisfied: fonttools>=4.22.0 in c:\\users\\jc\\appdata\\local\\programs\\python\\python38\\lib\\site-packages (from matplotlib==3.5.1) (4.28.5)\n",
      "Requirement already satisfied: six>=1.5 in c:\\users\\jc\\appdata\\local\\programs\\python\\python38\\lib\\site-packages (from python-dateutil>=2.7->matplotlib==3.5.1) (1.16.0)\n",
      "matplotlib is already installed with the same version as the provided wheel. Use --force-reinstall to force an installation of the wheel.\n",
      "Note: you may need to restart the kernel to use updated packages.\n"
     ]
    }
   ],
   "source": [
    "%pip install numpy-1.21.5+vanilla-cp38-cp38-win_amd64.whl\n",
    "%pip install javabridge-1.0.19-cp38-cp38-win_amd64.whl\n",
    "%pip install matplotlib-3.5.1-cp38-cp38-win_amd64.whl"
   ]
  },
  {
   "cell_type": "code",
   "execution_count": 3,
   "metadata": {},
   "outputs": [
    {
     "name": "stdout",
     "output_type": "stream",
     "text": [
      "Requirement already satisfied: python-weka-wrapper3 in c:\\users\\jc\\appdata\\local\\programs\\python\\python38\\lib\\site-packages (0.2.4)\n",
      "Requirement already satisfied: numpy in c:\\users\\jc\\appdata\\local\\programs\\python\\python38\\lib\\site-packages (from python-weka-wrapper3) (1.21.5+vanilla)\n",
      "Requirement already satisfied: javabridge>=1.0.14 in c:\\users\\jc\\appdata\\local\\programs\\python\\python38\\lib\\site-packages (from python-weka-wrapper3) (1.0.19)\n",
      "Requirement already satisfied: packaging in c:\\users\\jc\\appdata\\local\\programs\\python\\python38\\lib\\site-packages (from python-weka-wrapper3) (21.3)\n",
      "Requirement already satisfied: pyparsing!=3.0.5,>=2.0.2 in c:\\users\\jc\\appdata\\local\\programs\\python\\python38\\lib\\site-packages (from packaging->python-weka-wrapper3) (3.0.6)\n",
      "Note: you may need to restart the kernel to use updated packages.\n",
      "Requirement already satisfied: plotly in c:\\users\\jc\\appdata\\local\\programs\\python\\python38\\lib\\site-packages (5.5.0)\n",
      "Requirement already satisfied: tenacity>=6.2.0 in c:\\users\\jc\\appdata\\local\\programs\\python\\python38\\lib\\site-packages (from plotly) (8.0.1)\n",
      "Requirement already satisfied: six in c:\\users\\jc\\appdata\\local\\programs\\python\\python38\\lib\\site-packages (from plotly) (1.16.0)\n",
      "Note: you may need to restart the kernel to use updated packages.\n"
     ]
    }
   ],
   "source": [
    "%pip install python-weka-wrapper3\n",
    "%pip install plotly"
   ]
  },
  {
   "cell_type": "code",
   "execution_count": 4,
   "metadata": {},
   "outputs": [
    {
     "name": "stdout",
     "output_type": "stream",
     "text": [
      "Requirement already satisfied: zat in c:\\users\\jc\\appdata\\local\\programs\\python\\python38\\lib\\site-packages (0.4.4)\n",
      "Requirement already satisfied: requests in c:\\users\\jc\\appdata\\local\\programs\\python\\python38\\lib\\site-packages (from zat) (2.26.0)\n",
      "Requirement already satisfied: scikit-learn in c:\\users\\jc\\appdata\\local\\programs\\python\\python38\\lib\\site-packages (from zat) (1.0.2)\n",
      "Requirement already satisfied: watchdog in c:\\users\\jc\\appdata\\local\\programs\\python\\python38\\lib\\site-packages (from zat) (2.1.6)\n",
      "Requirement already satisfied: pandas in c:\\users\\jc\\appdata\\local\\programs\\python\\python38\\lib\\site-packages (from zat) (1.3.5)\n",
      "Requirement already satisfied: numpy>=1.17.3 in c:\\users\\jc\\appdata\\local\\programs\\python\\python38\\lib\\site-packages (from pandas->zat) (1.21.5+vanilla)\n",
      "Requirement already satisfied: python-dateutil>=2.7.3 in c:\\users\\jc\\appdata\\local\\programs\\python\\python38\\lib\\site-packages (from pandas->zat) (2.8.2)\n",
      "Requirement already satisfied: pytz>=2017.3 in c:\\users\\jc\\appdata\\local\\programs\\python\\python38\\lib\\site-packages (from pandas->zat) (2021.3)\n",
      "Requirement already satisfied: idna<4,>=2.5 in c:\\users\\jc\\appdata\\local\\programs\\python\\python38\\lib\\site-packages (from requests->zat) (3.3)\n",
      "Requirement already satisfied: certifi>=2017.4.17 in c:\\users\\jc\\appdata\\local\\programs\\python\\python38\\lib\\site-packages (from requests->zat) (2021.10.8)\n",
      "Requirement already satisfied: urllib3<1.27,>=1.21.1 in c:\\users\\jc\\appdata\\local\\programs\\python\\python38\\lib\\site-packages (from requests->zat) (1.26.7)\n",
      "Requirement already satisfied: charset-normalizer~=2.0.0 in c:\\users\\jc\\appdata\\local\\programs\\python\\python38\\lib\\site-packages (from requests->zat) (2.0.7)\n",
      "Requirement already satisfied: threadpoolctl>=2.0.0 in c:\\users\\jc\\appdata\\local\\programs\\python\\python38\\lib\\site-packages (from scikit-learn->zat) (3.0.0)\n",
      "Requirement already satisfied: joblib>=0.11 in c:\\users\\jc\\appdata\\local\\programs\\python\\python38\\lib\\site-packages (from scikit-learn->zat) (1.1.0)\n",
      "Requirement already satisfied: scipy>=1.1.0 in c:\\users\\jc\\appdata\\local\\programs\\python\\python38\\lib\\site-packages (from scikit-learn->zat) (1.7.3)\n",
      "Requirement already satisfied: six>=1.5 in c:\\users\\jc\\appdata\\local\\programs\\python\\python38\\lib\\site-packages (from python-dateutil>=2.7.3->pandas->zat) (1.16.0)\n",
      "Note: you may need to restart the kernel to use updated packages.\n"
     ]
    }
   ],
   "source": [
    "# install zeek analysis tool package\n",
    "# https://github.com/SuperCowPowers/zat/tree/master/zat\n",
    "\n",
    "%pip install zat"
   ]
  },
  {
   "cell_type": "code",
   "execution_count": 6,
   "metadata": {},
   "outputs": [],
   "source": [
    "# Install python packages typically used with weka. Add / Remove items as needed.\n",
    "\n",
    "import os\n",
    "import zat\n",
    "import glob\n",
    "import tempfile\n",
    "import itertools\n",
    "import traceback\n",
    "import numpy as np\n",
    "import pandas as pd\n",
    "import weka.core.jvm as jvm\n",
    "import matplotlib.pyplot as plt\n",
    "import weka.plot.classifiers as plot_cls\n",
    "import plotly.graph_objects as go\n",
    "import weka.plot.graph as graph\n",
    "import weka.plot.graph as plot_graph\n",
    "import weka.core.typeconv as typeconv\n",
    "import weka.core.converters as converters\n",
    "import plotly.graph_objects as go\n",
    "import weka.plot.classifiers as plcls\n",
    "\n",
    "from weka.filters import Filter\n",
    "from zat.log_to_dataframe import LogToDataFrame\n",
    "from zat.dataframe_to_matrix import DataFrameToMatrix\n",
    "from weka.core.classes import from_commandline\n",
    "from weka.core.classes import to_commandline\n",
    "from weka.classifiers import Evaluation\n",
    "from weka.core.classes import Random\n",
    "from weka.filters import Filter\n",
    "from weka.classifiers import Evaluation\n",
    "from weka.core.converters import Loader\n",
    "from weka.core.classes import Random, from_commandline\n",
    "from weka.classifiers import Classifier, SingleClassifierEnhancer, MultipleClassifiersCombiner, FilteredClassifier\n",
    "from weka.classifiers import PredictionOutput, Kernel, KernelClassifier\n",
    "from weka.experiments import SimpleCrossValidationExperiment, SimpleRandomSplitExperiment, Tester, ResultMatrix"
   ]
  },
  {
   "cell_type": "markdown",
   "metadata": {},
   "source": [
    "Load data from log file and create both dataframe and csv file"
   ]
  },
  {
   "cell_type": "code",
   "execution_count": 7,
   "metadata": {},
   "outputs": [],
   "source": [
    "# Create a Pandas dataframe from network log using zat logtodataframe function \n",
    "# https://mcfp.felk.cvut.cz/publicDatasets/IoT-23-Dataset/IndividualScenarios/CTU-IoT-Malware-Capture-20-1/bro/\n",
    "\n",
    "log_to_df = LogToDataFrame()\n",
    "log_df = log_to_df.create_dataframe(\"conn.log.labeled\")\n",
    "\n",
    "# Print out the head of the dataframe\n",
    "# log_df.head()\n",
    "\n",
    "# Save dataframe to csv file\n",
    "\n",
    "log_df.to_csv(\"testzat.csv\")"
   ]
  },
  {
   "cell_type": "code",
   "execution_count": 8,
   "metadata": {},
   "outputs": [
    {
     "data": {
      "text/html": [
       "<div>\n",
       "<style scoped>\n",
       "    .dataframe tbody tr th:only-of-type {\n",
       "        vertical-align: middle;\n",
       "    }\n",
       "\n",
       "    .dataframe tbody tr th {\n",
       "        vertical-align: top;\n",
       "    }\n",
       "\n",
       "    .dataframe thead th {\n",
       "        text-align: right;\n",
       "    }\n",
       "</style>\n",
       "<table border=\"1\" class=\"dataframe\">\n",
       "  <thead>\n",
       "    <tr style=\"text-align: right;\">\n",
       "      <th></th>\n",
       "      <th>id.orig_p</th>\n",
       "      <th>id.resp_p</th>\n",
       "      <th>duration</th>\n",
       "      <th>orig_bytes</th>\n",
       "      <th>resp_bytes</th>\n",
       "      <th>missed_bytes</th>\n",
       "      <th>orig_pkts</th>\n",
       "      <th>orig_ip_bytes</th>\n",
       "      <th>resp_pkts</th>\n",
       "      <th>resp_ip_bytes</th>\n",
       "    </tr>\n",
       "  </thead>\n",
       "  <tbody>\n",
       "    <tr>\n",
       "      <th>count</th>\n",
       "      <td>3209.000000</td>\n",
       "      <td>3209.000000</td>\n",
       "      <td>2324</td>\n",
       "      <td>2324.000000</td>\n",
       "      <td>2324.000000</td>\n",
       "      <td>3209.000000</td>\n",
       "      <td>3209.000000</td>\n",
       "      <td>3209.000000</td>\n",
       "      <td>3209.000000</td>\n",
       "      <td>3209.000000</td>\n",
       "    </tr>\n",
       "    <tr>\n",
       "      <th>mean</th>\n",
       "      <td>8939.868806</td>\n",
       "      <td>113.302586</td>\n",
       "      <td>0 days 00:00:37.898507848</td>\n",
       "      <td>72.502582</td>\n",
       "      <td>65.699225</td>\n",
       "      <td>2.387348</td>\n",
       "      <td>6.490807</td>\n",
       "      <td>310.303521</td>\n",
       "      <td>6.349018</td>\n",
       "      <td>291.973824</td>\n",
       "    </tr>\n",
       "    <tr>\n",
       "      <th>std</th>\n",
       "      <td>18604.179531</td>\n",
       "      <td>99.275039</td>\n",
       "      <td>0 days 00:20:58.145009362</td>\n",
       "      <td>556.850057</td>\n",
       "      <td>553.773292</td>\n",
       "      <td>88.679133</td>\n",
       "      <td>214.346608</td>\n",
       "      <td>9010.262223</td>\n",
       "      <td>224.835352</td>\n",
       "      <td>9432.739603</td>\n",
       "    </tr>\n",
       "    <tr>\n",
       "      <th>min</th>\n",
       "      <td>123.000000</td>\n",
       "      <td>22.000000</td>\n",
       "      <td>0 days 00:00:00.000480</td>\n",
       "      <td>0.000000</td>\n",
       "      <td>0.000000</td>\n",
       "      <td>0.000000</td>\n",
       "      <td>0.000000</td>\n",
       "      <td>0.000000</td>\n",
       "      <td>0.000000</td>\n",
       "      <td>0.000000</td>\n",
       "    </tr>\n",
       "    <tr>\n",
       "      <th>25%</th>\n",
       "      <td>123.000000</td>\n",
       "      <td>123.000000</td>\n",
       "      <td>0 days 00:00:00.002744</td>\n",
       "      <td>48.000000</td>\n",
       "      <td>48.000000</td>\n",
       "      <td>0.000000</td>\n",
       "      <td>1.000000</td>\n",
       "      <td>76.000000</td>\n",
       "      <td>0.000000</td>\n",
       "      <td>0.000000</td>\n",
       "    </tr>\n",
       "    <tr>\n",
       "      <th>50%</th>\n",
       "      <td>123.000000</td>\n",
       "      <td>123.000000</td>\n",
       "      <td>0 days 00:00:00.005746</td>\n",
       "      <td>48.000000</td>\n",
       "      <td>48.000000</td>\n",
       "      <td>0.000000</td>\n",
       "      <td>1.000000</td>\n",
       "      <td>76.000000</td>\n",
       "      <td>1.000000</td>\n",
       "      <td>76.000000</td>\n",
       "    </tr>\n",
       "    <tr>\n",
       "      <th>75%</th>\n",
       "      <td>123.000000</td>\n",
       "      <td>123.000000</td>\n",
       "      <td>0 days 00:00:00.056341500</td>\n",
       "      <td>48.000000</td>\n",
       "      <td>48.000000</td>\n",
       "      <td>0.000000</td>\n",
       "      <td>1.000000</td>\n",
       "      <td>76.000000</td>\n",
       "      <td>1.000000</td>\n",
       "      <td>76.000000</td>\n",
       "    </tr>\n",
       "    <tr>\n",
       "      <th>max</th>\n",
       "      <td>60974.000000</td>\n",
       "      <td>5355.000000</td>\n",
       "      <td>0 days 12:18:45.615625</td>\n",
       "      <td>19431.000000</td>\n",
       "      <td>19431.000000</td>\n",
       "      <td>4500.000000</td>\n",
       "      <td>8872.000000</td>\n",
       "      <td>372893.000000</td>\n",
       "      <td>9307.000000</td>\n",
       "      <td>388975.000000</td>\n",
       "    </tr>\n",
       "  </tbody>\n",
       "</table>\n",
       "</div>"
      ],
      "text/plain": [
       "          id.orig_p    id.resp_p                   duration    orig_bytes  \\\n",
       "count   3209.000000  3209.000000                       2324   2324.000000   \n",
       "mean    8939.868806   113.302586  0 days 00:00:37.898507848     72.502582   \n",
       "std    18604.179531    99.275039  0 days 00:20:58.145009362    556.850057   \n",
       "min      123.000000    22.000000     0 days 00:00:00.000480      0.000000   \n",
       "25%      123.000000   123.000000     0 days 00:00:00.002744     48.000000   \n",
       "50%      123.000000   123.000000     0 days 00:00:00.005746     48.000000   \n",
       "75%      123.000000   123.000000  0 days 00:00:00.056341500     48.000000   \n",
       "max    60974.000000  5355.000000     0 days 12:18:45.615625  19431.000000   \n",
       "\n",
       "         resp_bytes  missed_bytes    orig_pkts  orig_ip_bytes    resp_pkts  \\\n",
       "count   2324.000000   3209.000000  3209.000000    3209.000000  3209.000000   \n",
       "mean      65.699225      2.387348     6.490807     310.303521     6.349018   \n",
       "std      553.773292     88.679133   214.346608    9010.262223   224.835352   \n",
       "min        0.000000      0.000000     0.000000       0.000000     0.000000   \n",
       "25%       48.000000      0.000000     1.000000      76.000000     0.000000   \n",
       "50%       48.000000      0.000000     1.000000      76.000000     1.000000   \n",
       "75%       48.000000      0.000000     1.000000      76.000000     1.000000   \n",
       "max    19431.000000   4500.000000  8872.000000  372893.000000  9307.000000   \n",
       "\n",
       "       resp_ip_bytes  \n",
       "count    3209.000000  \n",
       "mean      291.973824  \n",
       "std      9432.739603  \n",
       "min         0.000000  \n",
       "25%         0.000000  \n",
       "50%        76.000000  \n",
       "75%        76.000000  \n",
       "max    388975.000000  "
      ]
     },
     "execution_count": 8,
     "metadata": {},
     "output_type": "execute_result"
    }
   ],
   "source": [
    "log_df.describe()"
   ]
  },
  {
   "cell_type": "markdown",
   "metadata": {},
   "source": [
    "Start Java VM for algorithm library"
   ]
  },
  {
   "cell_type": "code",
   "execution_count": 10,
   "metadata": {},
   "outputs": [
    {
     "name": "stderr",
     "output_type": "stream",
     "text": [
      "INFO:weka.core.jvm:JVM already running, call jvm.stop() first\n"
     ]
    }
   ],
   "source": [
    "import weka.core.jvm as jvm\n",
    "jvm.start(packages=True,max_heap_size=\"16g\")"
   ]
  },
  {
   "cell_type": "code",
   "execution_count": 11,
   "metadata": {},
   "outputs": [],
   "source": [
    "# Load csv file and filter empty columns # 13 and # 14\n",
    "\n",
    "from weka.core.converters import Loader\n",
    "\n",
    "csv_loader = Loader(classname=\"weka.core.converters.CSVLoader\")\n",
    "csv_data = csv_loader.load_file(\"testzat.csv\")\n",
    "csv_data.class_is_last()\n",
    "\n",
    "csv_remove = Filter(classname=\"weka.filters.unsupervised.attribute.Remove\", options=[\"-R\", \"13,14\"])\n",
    "csv_remove.inputformat(csv_data)\n",
    "dataset = csv_remove.filter(csv_data)\n"
   ]
  },
  {
   "cell_type": "markdown",
   "metadata": {},
   "source": [
    "Decision Tree"
   ]
  },
  {
   "cell_type": "code",
   "execution_count": 12,
   "metadata": {},
   "outputs": [
    {
     "name": "stdout",
     "output_type": "stream",
     "text": [
      "weka.classifiers.trees.J48\n",
      "==========================\n",
      "\n",
      "DESCRIPTION\n",
      "\n",
      "Class for generating a pruned or unpruned C4.5 decision tree. For more information, see\n",
      "\n",
      "Ross Quinlan (1993). C4.5: Programs for Machine Learning. Morgan Kaufmann Publishers, San Mateo, CA.\n",
      "\n",
      "OPTIONS\n",
      "\n",
      "-U\n",
      "\tUse unpruned tree.\n",
      "\n",
      "-O\n",
      "\tDo not collapse tree.\n",
      "\n",
      "-C <pruning confidence>\n",
      "\tSet confidence threshold for pruning.\n",
      "\t(default 0.25)\n",
      "\n",
      "-M <minimum number of instances>\n",
      "\tSet minimum number of instances per leaf.\n",
      "\t(default 2)\n",
      "\n",
      "-R\n",
      "\tUse reduced error pruning.\n",
      "\n",
      "-N <number of folds>\n",
      "\tSet number of folds for reduced error\n",
      "\tpruning. One fold is used as pruning set.\n",
      "\t(default 3)\n",
      "\n",
      "-B\n",
      "\tUse binary splits only.\n",
      "\n",
      "-S\n",
      "\tDo not perform subtree raising.\n",
      "\n",
      "-L\n",
      "\tDo not clean up after the tree has been built.\n",
      "\n",
      "-A\n",
      "\tLaplace smoothing for predicted probabilities.\n",
      "\n",
      "-J\n",
      "\tDo not use MDL correction for info gain on numeric attributes.\n",
      "\n",
      "-Q <seed>\n",
      "\tSeed for random data shuffling (default 1).\n",
      "\n",
      "-doNotMakeSplitPointActualValue\n",
      "\tDo not make split point actual value.\n",
      "\n",
      "-output-debug-info\n",
      "\tIf set, classifier is run in debug mode and\n",
      "\tmay output additional info to the console\n",
      "\n",
      "-do-not-check-capabilities\n",
      "\tIf set, classifier capabilities are not checked before classifier is built\n",
      "\t(use with caution).\n",
      "\n",
      "-num-decimal-places\n",
      "\tThe number of decimal places for the output of numbers in the model (default 2).\n",
      "\n",
      "-batch-size\n",
      "\tThe desired batch size for batch prediction  (default 100).\n",
      "\n"
     ]
    }
   ],
   "source": [
    "# Run to_help function to view algorithm description and options details\n",
    "\n",
    "print(Classifier(classname=\"weka.classifiers.trees.J48\").to_help()) "
   ]
  },
  {
   "cell_type": "code",
   "execution_count": 53,
   "metadata": {},
   "outputs": [
    {
     "name": "stdout",
     "output_type": "stream",
     "text": [
      "=== Decision Tree (J48) ===\n",
      "    a    b   <-- classified as\n",
      " 3192    1 |    a = -   Benign   -\n",
      "    0   16 |    b = -   Malicious   C&C-Torii\n",
      "\n",
      "\n",
      "Correctly Classified Instances        3208               99.9688 %\n",
      "Incorrectly Classified Instances         1                0.0312 %\n",
      "Kappa statistic                          0.9695\n",
      "Mean absolute error                      0.0006\n",
      "Root mean squared error                  0.0182\n",
      "Relative absolute error                  6.0355 %\n",
      "Root relative squared error             25.8632 %\n",
      "Total Number of Instances             3209     \n",
      "\n",
      "=== Detailed Accuracy By Class ===\n",
      "\n",
      "                 TP Rate  FP Rate  Precision  Recall   F-Measure  MCC      ROC Area  PRC Area  Class\n",
      "                 1.000    0.000    1.000      1.000    1.000      0.970    1.000     1.000     -   Benign   -\n",
      "                 1.000    0.000    0.941      1.000    0.970      0.970    1.000     0.887     -   Malicious   C&C-Torii\n",
      "Weighted Avg.    1.000    0.000    1.000      1.000    1.000      0.970    1.000     0.999     \n",
      "\n"
     ]
    }
   ],
   "source": [
    "# Build and run decision tree model\n",
    "\n",
    "DT = Classifier(classname=\"weka.classifiers.trees.J48\", options=[\"-C\", \"0.3\"])\n",
    "DT.build_classifier(dataset)\n",
    "\n",
    "DT_evl = Evaluation(dataset)\n",
    "DT_evl.crossvalidate_model(DT, dataset, 10, Random(1))\n",
    "print(DT_evl.matrix(\"=== Decision Tree (J48) ===\"))\n",
    "print(DT_evl.summary())\n",
    "print(DT_evl.class_details())"
   ]
  },
  {
   "cell_type": "code",
   "execution_count": 36,
   "metadata": {},
   "outputs": [
    {
     "data": {
      "image/png": "[encoded data removed]",
      "text/plain": [
       "<Figure size 432x288 with 1 Axes>"
      ]
     },
     "metadata": {
      "needs_background": "light"
     },
     "output_type": "display_data"
    }
   ],
   "source": [
    "# Display ROC Curve\n",
    "\n",
    "plcls.plot_roc(DT_evl, title=\"Area Under ROC Curve\", class_index=[0, 1], wait=True)"
   ]
  },
  {
   "cell_type": "code",
   "execution_count": 35,
   "metadata": {},
   "outputs": [
    {
     "data": {
      "image/png": "[encoded data removed]",
      "text/plain": [
       "<Figure size 432x288 with 1 Axes>"
      ]
     },
     "metadata": {
      "needs_background": "light"
     },
     "output_type": "display_data"
    }
   ],
   "source": [
    "# Display Precision Recall Curve\n",
    "\n",
    "plcls.plot_prc(DT_evl, title=\"Precision Recall Curve\", class_index=[0,1], wait=True)"
   ]
  },
  {
   "cell_type": "markdown",
   "metadata": {},
   "source": [
    "Bayes Network"
   ]
  },
  {
   "cell_type": "code",
   "execution_count": 24,
   "metadata": {},
   "outputs": [
    {
     "name": "stdout",
     "output_type": "stream",
     "text": [
      "weka.classifiers.bayes.BayesNet\n",
      "===============================\n",
      "\n",
      "DESCRIPTION\n",
      "\n",
      "Bayes Network learning using various search algorithms and quality measures.\n",
      "Base class for a Bayes Network classifier. Provides datastructures (network structure, conditional probability distributions, etc.) and facilities common to Bayes Network learning algorithms like K2 and B.\n",
      "\n",
      "For more information see:\n",
      "\n",
      "http://www.cs.waikato.ac.nz/~remco/weka.pdf\n",
      "\n",
      "OPTIONS\n",
      "\n",
      "-D\n",
      "\tDo not use ADTree data structure\n",
      "\n",
      "\n",
      "-B <BIF file>\n",
      "\tBIF file to compare with\n",
      "\n",
      "\n",
      "-Q weka.classifiers.bayes.net.search.SearchAlgorithm\n",
      "\tSearch algorithm\n",
      "\n",
      "\n",
      "-E weka.classifiers.bayes.net.estimate.SimpleEstimator\n",
      "\tEstimator algorithm\n",
      "\n",
      "\n",
      "-output-debug-info\n",
      "\tIf set, classifier is run in debug mode and\n",
      "\tmay output additional info to the console\n",
      "\n",
      "-do-not-check-capabilities\n",
      "\tIf set, classifier capabilities are not checked before classifier is built\n",
      "\t(use with caution).\n",
      "\n",
      "-num-decimal-places\n",
      "\tThe number of decimal places for the output of numbers in the model (default 2).\n",
      "\n",
      "-batch-size\n",
      "\tThe desired batch size for batch prediction  (default 100).\n",
      "\n",
      "\n",
      "Options specific to search method weka.classifiers.bayes.net.search.local.K2:\n",
      "\n",
      "\n",
      "-N\n",
      "\tInitial structure is empty (instead of Naive Bayes)\n",
      "\n",
      "-P <nr of parents>\n",
      "\tMaximum number of parents\n",
      "\n",
      "-R\n",
      "\tRandom order.\n",
      "\t(default false)\n",
      "\n",
      "-mbc\n",
      "\tApplies a Markov Blanket correction to the network structure, \n",
      "\tafter a network structure is learned. This ensures that all \n",
      "\tnodes in the network are part of the Markov blanket of the \n",
      "\tclassifier node.\n",
      "\n",
      "-S [BAYES|MDL|ENTROPY|AIC|CROSS_CLASSIC|CROSS_BAYES]\n",
      "\tScore type (BAYES, BDeu, MDL, ENTROPY and AIC)\n",
      "\n",
      "\n",
      "Options specific to estimator method weka.classifiers.bayes.net.estimate.SimpleEstimator:\n",
      "\n",
      "\n",
      "-A <alpha>\n",
      "\tInitial count (alpha)\n",
      "\n",
      "\n"
     ]
    }
   ],
   "source": [
    "# Run to_help function to view algorithm description and options details\n",
    "\n",
    "print(Classifier(classname=\"weka.classifiers.bayes.BayesNet\").to_help()) "
   ]
  },
  {
   "cell_type": "code",
   "execution_count": 62,
   "metadata": {},
   "outputs": [
    {
     "name": "stdout",
     "output_type": "stream",
     "text": [
      "=== Bayes Network ===\n",
      "    a    b   <-- classified as\n",
      " 3191    2 |    a = -   Benign   -\n",
      "    0   16 |    b = -   Malicious   C&C-Torii\n",
      "\n"
     ]
    }
   ],
   "source": [
    "# Build and run Bayesian Network classificaiton model with default options\n",
    "\n",
    "Nbn_cls = Classifier(classname=\"weka.classifiers.bayes.BayesNet\")\n",
    "Nbn_cls.build_classifier(dataset)\n",
    "\n",
    "Nbn_evl = Evaluation(dataset)\n",
    "Nbn_evl.crossvalidate_model(Nbn_cls, dataset, 10, Random(1))\n",
    "\n",
    "print(Nbn_evl.matrix(\"=== Bayes Network ===\"))"
   ]
  },
  {
   "cell_type": "code",
   "execution_count": 69,
   "metadata": {},
   "outputs": [
    {
     "data": {
      "image/png": "[encoded data removed]",
      "text/plain": [
       "<Figure size 432x288 with 1 Axes>"
      ]
     },
     "metadata": {
      "needs_background": "light"
     },
     "output_type": "display_data"
    }
   ],
   "source": [
    "# Display ROC Curve\n",
    "\n",
    "plcls.plot_roc(Nbn_evl, class_index=[0, 1], wait=True)"
   ]
  },
  {
   "cell_type": "markdown",
   "metadata": {},
   "source": [
    "AdaBoost Bayes Network"
   ]
  },
  {
   "cell_type": "code",
   "execution_count": 25,
   "metadata": {},
   "outputs": [
    {
     "name": "stdout",
     "output_type": "stream",
     "text": [
      "weka.classifiers.meta.AdaBoostM1\n",
      "================================\n",
      "\n",
      "DESCRIPTION\n",
      "\n",
      "Class for boosting a nominal class classifier using the Adaboost M1 method. Only nominal class problems can be tackled. Often dramatically improves performance, but sometimes overfits.\n",
      "\n",
      "For more information, see\n",
      "\n",
      "Yoav Freund, Robert E. Schapire: Experiments with a new boosting algorithm. In: Thirteenth International Conference on Machine Learning, San Francisco, 148-156, 1996.\n",
      "\n",
      "OPTIONS\n",
      "\n",
      "-P <num>\n",
      "\tPercentage of weight mass to base training on.\n",
      "\t(default 100, reduce to around 90 speed up)\n",
      "\n",
      "-Q\n",
      "\tUse resampling for boosting.\n",
      "\n",
      "-resume\n",
      "\tSet whether classifier can continue training after performing therequested number of iterations. \n",
      "\tNote that setting this to true will retain certain data structures which can increase the \n",
      "\tsize of the model.\n",
      "\n",
      "\n",
      "-S <num>\n",
      "\tRandom number seed.\n",
      "\t(default 1)\n",
      "\n",
      "-I <num>\n",
      "\tNumber of iterations.\n",
      "\t(current value 10)\n",
      "\n",
      "-W <classifier name>\n",
      "\tFull name of base classifier.\n",
      "\t(default: weka.classifiers.trees.DecisionStump)\n",
      "\n",
      "-output-debug-info\n",
      "\tIf set, classifier is run in debug mode and\n",
      "\tmay output additional info to the console\n",
      "\n",
      "-do-not-check-capabilities\n",
      "\tIf set, classifier capabilities are not checked before classifier is built\n",
      "\t(use with caution).\n",
      "\n",
      "-num-decimal-places\n",
      "\tThe number of decimal places for the output of numbers in the model (default 2).\n",
      "\n",
      "-batch-size\n",
      "\tThe desired batch size for batch prediction  (default 100).\n",
      "\n",
      "\n",
      "Options specific to classifier weka.classifiers.trees.DecisionStump:\n",
      "\n",
      "\n",
      "-output-debug-info\n",
      "\tIf set, classifier is run in debug mode and\n",
      "\tmay output additional info to the console\n",
      "\n",
      "-do-not-check-capabilities\n",
      "\tIf set, classifier capabilities are not checked before classifier is built\n",
      "\t(use with caution).\n",
      "\n",
      "-num-decimal-places\n",
      "\tThe number of decimal places for the output of numbers in the model (default 2).\n",
      "\n",
      "-batch-size\n",
      "\tThe desired batch size for batch prediction  (default 100).\n",
      "\n"
     ]
    }
   ],
   "source": [
    "# Run to_help function to view algorithm description and options details\n",
    "\n",
    "print(Classifier(classname=\"weka.classifiers.meta.AdaBoostM1\").to_help()) "
   ]
  },
  {
   "cell_type": "code",
   "execution_count": 12,
   "metadata": {},
   "outputs": [
    {
     "name": "stdout",
     "output_type": "stream",
     "text": [
      "=== AdaBoost Bayes Network ===\n",
      "    a    b   <-- classified as\n",
      " 3191    2 |    a = -   Benign   -\n",
      "    0   16 |    b = -   Malicious   C&C-Torii\n",
      "\n"
     ]
    }
   ],
   "source": [
    "# Build and run Bayesian Network model with adaptive boosting ensemble algorithm\n",
    "\n",
    "B_Nbn_cmdline = 'weka.classifiers.meta.AdaBoostM1 -P 100 -S 1 -I 10 -W weka.classifiers.bayes.BayesNet -- -D -Q weka.classifiers.bayes.net.search.local.K2 -- -P 1 -S BAYES -E weka.classifiers.bayes.net.estimate.SimpleEstimator -- -A 0.5'\n",
    "B_Nbn_cls = from_commandline(B_Nbn_cmdline, classname=\"weka.classifiers.Classifier\")\n",
    "B_Nbn_cls.build_classifier(dataset)\n",
    "\n",
    "B_Nbn_evl = Evaluation(dataset)\n",
    "B_Nbn_evl.crossvalidate_model(B_Nbn_cls, dataset, 10, Random(1))\n",
    "print(B_Nbn_evl.matrix(\"=== AdaBoost Bayes Network ===\"))"
   ]
  },
  {
   "cell_type": "code",
   "execution_count": 70,
   "metadata": {},
   "outputs": [
    {
     "data": {
      "image/png": "[encoded data removed]",
      "text/plain": [
       "<Figure size 432x288 with 1 Axes>"
      ]
     },
     "metadata": {
      "needs_background": "light"
     },
     "output_type": "display_data"
    }
   ],
   "source": [
    "# Display ROC Curve\n",
    "\n",
    "plcls.plot_roc(B_Nbn_evl, class_index=[0, 1], wait=True)"
   ]
  },
  {
   "cell_type": "markdown",
   "metadata": {},
   "source": [
    "AdaBoost Decision Stump"
   ]
  },
  {
   "cell_type": "code",
   "execution_count": 22,
   "metadata": {},
   "outputs": [
    {
     "name": "stdout",
     "output_type": "stream",
     "text": [
      "weka.classifiers.trees.DecisionStump\n",
      "====================================\n",
      "\n",
      "DESCRIPTION\n",
      "\n",
      "Class for building and using a decision stump. Usually used in conjunction with a boosting algorithm. Does regression (based on mean-squared error) or classification (based on entropy). Missing is treated as a separate value.\n",
      "\n",
      "OPTIONS\n",
      "\n",
      "-output-debug-info\n",
      "\tIf set, classifier is run in debug mode and\n",
      "\tmay output additional info to the console\n",
      "\n",
      "-do-not-check-capabilities\n",
      "\tIf set, classifier capabilities are not checked before classifier is built\n",
      "\t(use with caution).\n",
      "\n",
      "-num-decimal-places\n",
      "\tThe number of decimal places for the output of numbers in the model (default 2).\n",
      "\n",
      "-batch-size\n",
      "\tThe desired batch size for batch prediction  (default 100).\n",
      "\n"
     ]
    }
   ],
   "source": [
    "# Run to_help function to view algorithm description and options details\n",
    "\n",
    "print(Classifier(classname=\"weka.classifiers.trees.DecisionStump\").to_help()) "
   ]
  },
  {
   "cell_type": "code",
   "execution_count": 14,
   "metadata": {},
   "outputs": [
    {
     "name": "stdout",
     "output_type": "stream",
     "text": [
      "=== AdaBoost Decision Stump ===\n",
      "    a    b   <-- classified as\n",
      " 3193    0 |    a = -   Benign   -\n",
      "    0   16 |    b = -   Malicious   C&C-Torii\n",
      "\n"
     ]
    }
   ],
   "source": [
    "# Build and run Decision Stump model with adaptive boosting ensemble algorithm \n",
    "\n",
    "B_DS_cmdline = 'weka.classifiers.meta.AdaBoostM1 -P 100 -S 1 -I 10 -W weka.classifiers.trees.DecisionStump'\n",
    "B_DS_cls = from_commandline(B_DS_cmdline, classname=\"weka.classifiers.Classifier\")\n",
    "B_DS_cls.build_classifier(dataset)\n",
    "\n",
    "B_DS_evl = Evaluation(dataset)\n",
    "B_DS_evl.crossvalidate_model(B_DS_cls, dataset, 10, Random(1))\n",
    "print(B_DS_evl.matrix(\"=== AdaBoost Decision Stump ===\"))"
   ]
  },
  {
   "cell_type": "code",
   "execution_count": 71,
   "metadata": {},
   "outputs": [
    {
     "data": {
      "image/png": "[encoded data removed]",
      "text/plain": [
       "<Figure size 432x288 with 1 Axes>"
      ]
     },
     "metadata": {
      "needs_background": "light"
     },
     "output_type": "display_data"
    }
   ],
   "source": [
    "# Display ROC Curve\n",
    "\n",
    "plcls.plot_roc(B_DS_evl, class_index=[0, 1], wait=True)"
   ]
  },
  {
   "cell_type": "markdown",
   "metadata": {},
   "source": [
    "Naive Bayes"
   ]
  },
  {
   "cell_type": "code",
   "execution_count": 29,
   "metadata": {},
   "outputs": [
    {
     "name": "stdout",
     "output_type": "stream",
     "text": [
      "weka.classifiers.bayes.NaiveBayes\n",
      "=================================\n",
      "\n",
      "DESCRIPTION\n",
      "\n",
      "Class for a Naive Bayes classifier using estimator classes. Numeric estimator precision values are chosen based on analysis of the  training data. For this reason, the classifier is not an UpdateableClassifier (which in typical usage are initialized with zero training instances) -- if you need the UpdateableClassifier functionality, use the NaiveBayesUpdateable classifier. The NaiveBayesUpdateable classifier will  use a default precision of 0.1 for numeric attributes when buildClassifier is called with zero training instances.\n",
      "\n",
      "For more information on Naive Bayes classifiers, see\n",
      "\n",
      "George H. John, Pat Langley: Estimating Continuous Distributions in Bayesian Classifiers. In: Eleventh Conference on Uncertainty in Artificial Intelligence, San Mateo, 338-345, 1995.\n",
      "\n",
      "OPTIONS\n",
      "\n",
      "-K\n",
      "\tUse kernel density estimator rather than normal\n",
      "\tdistribution for numeric attributes\n",
      "\n",
      "-D\n",
      "\tUse supervised discretization to process numeric attributes\n",
      "\n",
      "\n",
      "-O\n",
      "\tDisplay model in old format (good when there are many classes)\n",
      "\n",
      "\n",
      "-output-debug-info\n",
      "\tIf set, classifier is run in debug mode and\n",
      "\tmay output additional info to the console\n",
      "\n",
      "-do-not-check-capabilities\n",
      "\tIf set, classifier capabilities are not checked before classifier is built\n",
      "\t(use with caution).\n",
      "\n",
      "-num-decimal-places\n",
      "\tThe number of decimal places for the output of numbers in the model (default 2).\n",
      "\n",
      "-batch-size\n",
      "\tThe desired batch size for batch prediction  (default 100).\n",
      "\n"
     ]
    }
   ],
   "source": [
    "# Run to_help function to view algorithm description and options details\n",
    "\n",
    "print(Classifier(classname=\"weka.classifiers.bayes.NaiveBayes\").to_help()) "
   ]
  },
  {
   "cell_type": "code",
   "execution_count": 46,
   "metadata": {},
   "outputs": [
    {
     "name": "stdout",
     "output_type": "stream",
     "text": [
      "=== Naive Bayes ===\n",
      "    a    b   <-- classified as\n",
      " 3193    0 |    a = -   Benign   -\n",
      "    0   16 |    b = -   Malicious   C&C-Torii\n",
      "\n"
     ]
    }
   ],
   "source": [
    "# Build and run Naive Bayes model\n",
    "\n",
    "NB_cls = Classifier(classname=\"weka.classifiers.bayes.NaiveBayes\")\n",
    "NB_cls.build_classifier(dataset)\n",
    "\n",
    "NB_evl = Evaluation(dataset)\n",
    "NB_evl.crossvalidate_model(NB_cls, dataset, 10, Random(1))\n",
    "\n",
    "print(NB_evl.matrix(\"=== Naive Bayes ===\"))"
   ]
  },
  {
   "cell_type": "code",
   "execution_count": 72,
   "metadata": {},
   "outputs": [
    {
     "data": {
      "image/png": "[encoded data removed]",
      "text/plain": [
       "<Figure size 432x288 with 1 Axes>"
      ]
     },
     "metadata": {
      "needs_background": "light"
     },
     "output_type": "display_data"
    }
   ],
   "source": [
    "# Display ROC Curve\n",
    "\n",
    "plcls.plot_roc(NB_evl, class_index=[0, 1], wait=True)"
   ]
  },
  {
   "cell_type": "markdown",
   "metadata": {},
   "source": [
    "MLP Nueral Network"
   ]
  },
  {
   "cell_type": "code",
   "execution_count": 30,
   "metadata": {},
   "outputs": [
    {
     "name": "stdout",
     "output_type": "stream",
     "text": [
      "weka.classifiers.functions.MLPClassifier\n",
      "========================================\n",
      "\n",
      "DESCRIPTION\n",
      "\n",
      "Trains a multilayer perceptron with one hidden layer using WEKA's Optimization class by minimizing the given loss function plus a quadratic penalty with the BFGS method. Note that all attributes are standardized, including the target. There are several parameters. The ridge parameter is used to determine the penalty on the size of the weights. The number of hidden units can also be specified. Note that large numbers produce long training times. Finally, it is possible to use conjugate gradient descent rather than BFGS updates, which may be faster for cases with many parameters. To improve speed, an approximate version of the logistic function is used as the default activation function for the hidden layer, but other activation functions can be specified. In the output layer, the sigmoid function is used for classification. If the approximate sigmoid is specified for the hidden layers, it is also used for the output layer. For regression, the identity function is used activation function in the output layer. Also, if delta values in the backpropagation step are within the user-specified tolerance, the gradient is not updated for that particular instance, which saves some additional time. Parallel calculation of loss function and gradient is possible when multiple CPU cores are present. Data is split into batches and processed in separate threads in this case. Note that this only improves runtime for larger datasets. Nominal attributes are processed using the unsupervised NominalToBinary filter and missing values are replaced globally using ReplaceMissingValues.\n",
      "\n",
      "OPTIONS\n",
      "\n",
      "-N <int>\n",
      "\tNumber of hidden units (default is 2).\n",
      "\n",
      "-R <double>\n",
      "\tRidge factor for quadratic penalty on weights (default is 0.01).\n",
      "\n",
      "-O <double>\n",
      "\tTolerance parameter for delta values (default is 1.0e-6).\n",
      "\n",
      "-G\n",
      "\tUse conjugate gradient descent (recommended for many attributes).\n",
      "\n",
      "-P <int>\n",
      "\tThe size of the thread pool, for example, the number of cores in the CPU. (default 1)\n",
      "\n",
      "-E <int>\n",
      "\tThe number of threads to use, which should be >= size of thread pool. (default 1)\n",
      "\n",
      "-L <classname and parameters>\n",
      "\tThe loss function to use.\n",
      "\t(default: weka.classifiers.functions.loss.SquaredError)\n",
      "\n",
      "-A <classname and parameters>\n",
      "\tThe activation function to use.\n",
      "\t(default: weka.classifiers.functions.activation.ApproximateSigmoid)\n",
      "\n",
      "-S <num>\n",
      "\tRandom number seed.\n",
      "\t(default 1)\n",
      "\n",
      "-output-debug-info\n",
      "\tIf set, classifier is run in debug mode and\n",
      "\tmay output additional info to the console\n",
      "\n",
      "-do-not-check-capabilities\n",
      "\tIf set, classifier capabilities are not checked before classifier is built\n",
      "\t(use with caution).\n",
      "\n",
      "-num-decimal-places\n",
      "\tThe number of decimal places for the output of numbers in the model (default 2).\n",
      "\n",
      "-batch-size\n",
      "\tThe desired batch size for batch prediction  (default 100).\n",
      "\n"
     ]
    }
   ],
   "source": [
    "# Run to_help function to view algorithm description and options details\n",
    "\n",
    "print(Classifier(classname=\"weka.classifiers.functions.MLPClassifier\").to_help()) "
   ]
  },
  {
   "cell_type": "code",
   "execution_count": 54,
   "metadata": {},
   "outputs": [
    {
     "name": "stdout",
     "output_type": "stream",
     "text": [
      "=== MLP Nueral Network ===\n",
      "    a    b   <-- classified as\n",
      " 3192    1 |    a = -   Benign   -\n",
      "    1   15 |    b = -   Malicious   C&C-Torii\n",
      "\n"
     ]
    }
   ],
   "source": [
    "# Build and run MLP model\n",
    "\n",
    "MLP_cls = Classifier(classname=\"weka.classifiers.functions.MLPClassifier\")\n",
    "MLP_cls.build_classifier(dataset)\n",
    "\n",
    "MLP_evl = Evaluation(dataset)\n",
    "MLP_evl.crossvalidate_model(MLP_cls, dataset, 10, Random(1))\n",
    "\n",
    "print(MLP_evl.matrix(\"=== MLP Nueral Network ===\"))"
   ]
  },
  {
   "cell_type": "code",
   "execution_count": 73,
   "metadata": {},
   "outputs": [
    {
     "data": {
      "image/png": "[encoded data removed]",
      "text/plain": [
       "<Figure size 432x288 with 1 Axes>"
      ]
     },
     "metadata": {
      "needs_background": "light"
     },
     "output_type": "display_data"
    }
   ],
   "source": [
    "# Display ROC Curve\n",
    "\n",
    "plcls.plot_roc(MLP_evl, class_index=[0, 1], wait=True)"
   ]
  },
  {
   "cell_type": "markdown",
   "metadata": {},
   "source": [
    "Stochastic Gradient Descent"
   ]
  },
  {
   "cell_type": "code",
   "execution_count": 33,
   "metadata": {},
   "outputs": [
    {
     "name": "stdout",
     "output_type": "stream",
     "text": [
      "weka.classifiers.functions.SGD\n",
      "==============================\n",
      "\n",
      "DESCRIPTION\n",
      "\n",
      "Implements stochastic gradient descent for learning various linear models (binary class SVM, binary class logistic regression, squared loss, Huber loss and epsilon-insensitive loss linear regression). Globally replaces all missing values and transforms nominal attributes into binary ones. It also normalizes all attributes, so the coefficients in the output are based on the normalized data.\n",
      "For numeric class attributes, the squared, Huber or epsilon-insensitve loss function must be used. Epsilon-insensitive and Huber loss may require a much higher learning rate.\n",
      "\n",
      "OPTIONS\n",
      "\n",
      "-F\n",
      "\tSet the loss function to minimize.\n",
      "\t0 = hinge loss (SVM), 1 = log loss (logistic regression),\n",
      "\t2 = squared loss (regression), 3 = epsilon insensitive loss (regression),\n",
      "\t4 = Huber loss (regression).\n",
      "\t(default = 0)\n",
      "\n",
      "-L\n",
      "\tThe learning rate. If normalization is\n",
      "\tturned off (as it is automatically for streaming data), then the\n",
      "\tdefault learning rate will need to be reduced (try 0.0001).\n",
      "\t(default = 0.01).\n",
      "\n",
      "-R <double>\n",
      "\tThe lambda regularization constant (default = 0.0001)\n",
      "\n",
      "-E <integer>\n",
      "\tThe number of epochs to perform (batch learning only, default = 500)\n",
      "\n",
      "-C <double>\n",
      "\tThe epsilon threshold (epsilon-insenstive and Huber loss only, default = 1e-3)\n",
      "\n",
      "-N\n",
      "\tDon't normalize the data\n",
      "\n",
      "-M\n",
      "\tDon't replace missing values\n",
      "\n",
      "-S <num>\n",
      "\tRandom number seed.\n",
      "\t(default 1)\n",
      "\n",
      "-output-debug-info\n",
      "\tIf set, classifier is run in debug mode and\n",
      "\tmay output additional info to the console\n",
      "\n",
      "-do-not-check-capabilities\n",
      "\tIf set, classifier capabilities are not checked before classifier is built\n",
      "\t(use with caution).\n",
      "\n",
      "-num-decimal-places\n",
      "\tThe number of decimal places for the output of numbers in the model (default 2).\n",
      "\n",
      "-batch-size\n",
      "\tThe desired batch size for batch prediction  (default 100).\n",
      "\n"
     ]
    }
   ],
   "source": [
    "# Run to_help function to view algorithm description and options details\n",
    "\n",
    "print(Classifier(classname=\"weka.classifiers.functions.SGD\").to_help()) "
   ]
  },
  {
   "cell_type": "code",
   "execution_count": 52,
   "metadata": {},
   "outputs": [
    {
     "name": "stdout",
     "output_type": "stream",
     "text": [
      "=== Stochastic Gradient Descent ===\n",
      "    a    b   <-- classified as\n",
      " 3191    2 |    a = -   Benign   -\n",
      "    0   16 |    b = -   Malicious   C&C-Torii\n",
      "\n"
     ]
    }
   ],
   "source": [
    "# Build and run SGD model\n",
    "\n",
    "SGD = Classifier(classname=\"weka.classifiers.functions.SGD\")\n",
    "SGD.build_classifier(dataset)\n",
    "\n",
    "SGD_evl = Evaluation(dataset)\n",
    "SGD_evl.crossvalidate_model(SGD, dataset, 10, Random(1))\n",
    "\n",
    "print(SGD_evl.matrix(\"=== Stochastic Gradient Descent ===\"))"
   ]
  },
  {
   "cell_type": "code",
   "execution_count": 76,
   "metadata": {},
   "outputs": [
    {
     "data": {
      "image/png": "[encoded data removed]",
      "text/plain": [
       "<Figure size 432x288 with 1 Axes>"
      ]
     },
     "metadata": {
      "needs_background": "light"
     },
     "output_type": "display_data"
    }
   ],
   "source": [
    "# Display ROC Curve\n",
    "\n",
    "plcls.plot_roc(SGD_evl, class_index=[0, 1], wait=True)"
   ]
  },
  {
   "cell_type": "markdown",
   "metadata": {},
   "source": [
    "KNN (K=1)"
   ]
  },
  {
   "cell_type": "code",
   "execution_count": 37,
   "metadata": {},
   "outputs": [
    {
     "name": "stdout",
     "output_type": "stream",
     "text": [
      "weka.classifiers.lazy.IBk\n",
      "=========================\n",
      "\n",
      "DESCRIPTION\n",
      "\n",
      "K-nearest neighbours classifier. Can select appropriate value of K based on cross-validation. Can also do distance weighting.\n",
      "\n",
      "For more information, see\n",
      "\n",
      "D. Aha, D. Kibler (1991). Instance-based learning algorithms. Machine Learning. 6:37-66.\n",
      "\n",
      "OPTIONS\n",
      "\n",
      "-I\n",
      "\tWeight neighbours by the inverse of their distance\n",
      "\t(use when k > 1)\n",
      "\n",
      "-F\n",
      "\tWeight neighbours by 1 - their distance\n",
      "\t(use when k > 1)\n",
      "\n",
      "-K <number of neighbors>\n",
      "\tNumber of nearest neighbours (k) used in classification.\n",
      "\t(Default = 1)\n",
      "\n",
      "-E\n",
      "\tMinimise mean squared error rather than mean absolute\n",
      "\terror when using -X option with numeric prediction.\n",
      "\n",
      "-W <window size>\n",
      "\tMaximum number of training instances maintained.\n",
      "\tTraining instances are dropped FIFO. (Default = no window)\n",
      "\n",
      "-X\n",
      "\tSelect the number of nearest neighbours between 1\n",
      "\tand the k value specified using hold-one-out evaluation\n",
      "\ton the training data (use when k > 1)\n",
      "\n",
      "-A\n",
      "\tThe nearest neighbour search algorithm to use (default: weka.core.neighboursearch.LinearNNSearch).\n",
      "\n",
      "\n",
      "-output-debug-info\n",
      "\tIf set, classifier is run in debug mode and\n",
      "\tmay output additional info to the console\n",
      "\n",
      "-do-not-check-capabilities\n",
      "\tIf set, classifier capabilities are not checked before classifier is built\n",
      "\t(use with caution).\n",
      "\n",
      "-num-decimal-places\n",
      "\tThe number of decimal places for the output of numbers in the model (default 2).\n",
      "\n",
      "-batch-size\n",
      "\tThe desired batch size for batch prediction  (default 100).\n",
      "\n"
     ]
    }
   ],
   "source": [
    "# Run to_help function to view algorithm description and options details\n",
    "\n",
    "print(Classifier(classname=\"weka.classifiers.lazy.IBk\").to_help()) "
   ]
  },
  {
   "cell_type": "code",
   "execution_count": 53,
   "metadata": {},
   "outputs": [
    {
     "name": "stdout",
     "output_type": "stream",
     "text": [
      "=== KNN (K=1) ===\n",
      "    a    b   <-- classified as\n",
      " 3192    1 |    a = -   Benign   -\n",
      "    0   16 |    b = -   Malicious   C&C-Torii\n",
      "\n"
     ]
    }
   ],
   "source": [
    "# Build and run KNN model\n",
    "\n",
    "IBk = Classifier(classname=\"weka.classifiers.lazy.IBk\", options=[\"-K\",\"1\"])\n",
    "IBk.build_classifier(dataset)\n",
    "\n",
    "IBk_evl = Evaluation(dataset)\n",
    "IBk_evl.crossvalidate_model(IBk, dataset, 10, Random(1))\n",
    "\n",
    "print(IBk_evl.matrix(\"=== KNN (K=1) ===\"))"
   ]
  },
  {
   "cell_type": "code",
   "execution_count": 77,
   "metadata": {},
   "outputs": [
    {
     "data": {
      "image/png": "[encoded data removed]",
      "text/plain": [
       "<Figure size 432x288 with 1 Axes>"
      ]
     },
     "metadata": {
      "needs_background": "light"
     },
     "output_type": "display_data"
    }
   ],
   "source": [
    "# Display ROC Curve\n",
    "\n",
    "plcls.plot_roc(IBk_evl, class_index=[0, 1], wait=True)"
   ]
  },
  {
   "cell_type": "markdown",
   "metadata": {},
   "source": [
    "Voting Feature Intervals"
   ]
  },
  {
   "cell_type": "code",
   "execution_count": 41,
   "metadata": {},
   "outputs": [
    {
     "name": "stdout",
     "output_type": "stream",
     "text": [
      "weka.classifiers.misc.VFI\n",
      "=========================\n",
      "\n",
      "DESCRIPTION\n",
      "\n",
      "Classification by voting feature intervals. Intervals are constucted around each class for each attribute (basically discretization). Class counts are recorded for each interval on each attribute. Classification is by voting. For more info see:\n",
      "\n",
      "G. Demiroz, A. Guvenir: Classification by voting feature intervals. In: 9th European Conference on Machine Learning, 85-92, 1997.\n",
      "\n",
      "Have added a simple attribute weighting scheme. Higher weight is assigned to more confident intervals, where confidence is a function of entropy:\n",
      "weight (att_i) = (entropy of class distrib att_i / max uncertainty)^-bias\n",
      "\n",
      "OPTIONS\n",
      "\n",
      "-C\n",
      "\tDon't weight voting intervals by confidence\n",
      "\n",
      "-B <bias>\n",
      "\tSet exponential bias towards confident intervals\n",
      "\t(default = 0.6)\n",
      "\n"
     ]
    }
   ],
   "source": [
    "# Run to_help function to view algorithm description and options details\n",
    "\n",
    "print(Classifier(classname=\"weka.classifiers.misc.VFI\").to_help())"
   ]
  },
  {
   "cell_type": "code",
   "execution_count": 60,
   "metadata": {},
   "outputs": [
    {
     "name": "stdout",
     "output_type": "stream",
     "text": [
      "=== Voting Feature Intervals ===\n",
      "    a    b   <-- classified as\n",
      " 3191    2 |    a = -   Benign   -\n",
      "    0   16 |    b = -   Malicious   C&C-Torii\n",
      "\n"
     ]
    }
   ],
   "source": [
    "# Build and run voting feature interval model\n",
    "\n",
    "VFI = Classifier(classname=\"weka.classifiers.misc.VFI\")\n",
    "VFI.build_classifier(dataset)\n",
    "\n",
    "VFI_evl = Evaluation(dataset)\n",
    "VFI_evl.crossvalidate_model(VFI, dataset, 10, Random(1))\n",
    "\n",
    "print(VFI_evl.matrix(\"=== Voting Feature Intervals ===\"))"
   ]
  },
  {
   "cell_type": "code",
   "execution_count": 78,
   "metadata": {},
   "outputs": [
    {
     "data": {
      "image/png": "[encoded data removed]",
      "text/plain": [
       "<Figure size 432x288 with 1 Axes>"
      ]
     },
     "metadata": {
      "needs_background": "light"
     },
     "output_type": "display_data"
    }
   ],
   "source": [
    "# Display ROC Curve\n",
    "\n",
    "plcls.plot_roc(VFI_evl, class_index=[0, 1], wait=True)"
   ]
  },
  {
   "cell_type": "markdown",
   "metadata": {},
   "source": [
    "Sequential Minimal Optimization SVM"
   ]
  },
  {
   "cell_type": "code",
   "execution_count": 63,
   "metadata": {},
   "outputs": [
    {
     "name": "stdout",
     "output_type": "stream",
     "text": [
      "weka.classifiers.functions.SMO\n",
      "==============================\n",
      "\n",
      "DESCRIPTION\n",
      "\n",
      "Implements John Platt's sequential minimal optimization algorithm for training a support vector classifier.\n",
      "\n",
      "This implementation globally replaces all missing values and transforms nominal attributes into binary ones. It also normalizes all attributes by default. (In that case the coefficients in the output are based on the normalized data, not the original data --- this is important for interpreting the classifier.)\n",
      "\n",
      "Multi-class problems are solved using pairwise classification (aka 1-vs-1).\n",
      "\n",
      "To obtain proper probability estimates, use the option that fits calibration models to the outputs of the support vector machine. In the multi-class case, the predicted probabilities are coupled using Hastie and Tibshirani's pairwise coupling method.\n",
      "\n",
      "Note: for improved speed normalization should be turned off when operating on SparseInstances.\n",
      "\n",
      "For more information on the SMO algorithm, see\n",
      "\n",
      "J. Platt: Fast Training of Support Vector Machines using Sequential Minimal Optimization. In B. Schoelkopf and C. Burges and A. Smola, editors, Advances in Kernel Methods - Support Vector Learning, 1998.\n",
      "\n",
      "S.S. Keerthi, S.K. Shevade, C. Bhattacharyya, K.R.K. Murthy (2001). Improvements to Platt's SMO Algorithm for SVM Classifier Design. Neural Computation. 13(3):637-649.\n",
      "\n",
      "Trevor Hastie, Robert Tibshirani: Classification by Pairwise Coupling. In: Advances in Neural Information Processing Systems, 1998.\n",
      "\n",
      "OPTIONS\n",
      "\n",
      "-no-checks\n",
      "\tTurns off all checks - use with caution!\n",
      "\tTurning them off assumes that data is purely numeric, doesn't\n",
      "\tcontain any missing values, and has a nominal class. Turning them\n",
      "\toff also means that no header information will be stored if the\n",
      "\tmachine is linear. Finally, it also assumes that no instance has\n",
      "\ta weight equal to 0.\n",
      "\t(default: checks on)\n",
      "\n",
      "-C <double>\n",
      "\tThe complexity constant C. (default 1)\n",
      "\n",
      "-N\n",
      "\tWhether to 0=normalize/1=standardize/2=neither. (default 0=normalize)\n",
      "\n",
      "-L <double>\n",
      "\tThe tolerance parameter. (default 1.0e-3)\n",
      "\n",
      "-P <double>\n",
      "\tThe epsilon for round-off error. (default 1.0e-12)\n",
      "\n",
      "-M\n",
      "\tFit calibration models to SVM outputs. \n",
      "\n",
      "-V <double>\n",
      "\tThe number of folds for the internal\n",
      "\tcross-validation. (default -1, use training data)\n",
      "\n",
      "-W <double>\n",
      "\tThe random number seed. (default 1)\n",
      "\n",
      "-K <classname and parameters>\n",
      "\tThe Kernel to use.\n",
      "\t(default: weka.classifiers.functions.supportVector.PolyKernel)\n",
      "\n",
      "-calibrator <scheme specification>\n",
      "\tFull name of calibration model, followed by options.\n",
      "\t(default: \"weka.classifiers.functions.Logistic\")\n",
      "\n",
      "-output-debug-info\n",
      "\tIf set, classifier is run in debug mode and\n",
      "\tmay output additional info to the console\n",
      "\n",
      "-do-not-check-capabilities\n",
      "\tIf set, classifier capabilities are not checked before classifier is built\n",
      "\t(use with caution).\n",
      "\n",
      "-num-decimal-places\n",
      "\tThe number of decimal places for the output of numbers in the model (default 2).\n",
      "\n",
      "-batch-size\n",
      "\tThe desired batch size for batch prediction  (default 100).\n",
      "\n",
      "\n",
      "Options specific to kernel weka.classifiers.functions.supportVector.PolyKernel:\n",
      "\n",
      "\n",
      "-E <num>\n",
      "\tThe Exponent to use.\n",
      "\t(default: 1.0)\n",
      "\n",
      "-L\n",
      "\tUse lower-order terms.\n",
      "\t(default: no)\n",
      "\n",
      "-C <num>\n",
      "\tThe size of the cache (a prime number), 0 for full cache and \n",
      "\t-1 to turn it off.\n",
      "\t(default: 250007)\n",
      "\n",
      "-output-debug-info\n",
      "\tEnables debugging output (if available) to be printed.\n",
      "\t(default: off)\n",
      "\n",
      "\n",
      "Options specific to calibrator weka.classifiers.functions.Logistic:\n",
      "\n",
      "\n",
      "-C\n",
      "\tUse conjugate gradient descent rather than BFGS updates.\n",
      "\n",
      "-S\n",
      "\tDo not standardize the attributes.\n",
      "\n",
      "-R <ridge>\n",
      "\tSet the ridge in the log-likelihood.\n",
      "\n",
      "-M <number>\n",
      "\tSet the maximum number of iterations (default -1, until convergence).\n",
      "\n",
      "-output-debug-info\n",
      "\tIf set, classifier is run in debug mode and\n",
      "\tmay output additional info to the console\n",
      "\n",
      "-do-not-check-capabilities\n",
      "\tIf set, classifier capabilities are not checked before classifier is built\n",
      "\t(use with caution).\n",
      "\n",
      "-num-decimal-places\n",
      "\tThe number of decimal places for the output of numbers in the model (default 4).\n",
      "\n",
      "-batch-size\n",
      "\tThe desired batch size for batch prediction  (default 100).\n",
      "\n"
     ]
    }
   ],
   "source": [
    "# Run to_help function to view algorithm description and options details\n",
    "\n",
    "print(Classifier(classname=\"weka.classifiers.functions.SMO\").to_help())"
   ]
  },
  {
   "cell_type": "code",
   "execution_count": 65,
   "metadata": {},
   "outputs": [
    {
     "name": "stdout",
     "output_type": "stream",
     "text": [
      "=== Sequential Minimal Optimization SVM ===\n",
      "    a    b   <-- classified as\n",
      " 3192    1 |    a = -   Benign   -\n",
      "    0   16 |    b = -   Malicious   C&C-Torii\n",
      "\n"
     ]
    }
   ],
   "source": [
    "# Build and run SMO SVM model\n",
    "\n",
    "SMO = Classifier(classname=\"weka.classifiers.functions.SMO\")\n",
    "SMO.build_classifier(dataset)\n",
    "\n",
    "SMO_evl = Evaluation(dataset)\n",
    "SMO_evl.crossvalidate_model(SMO, dataset, 10, Random(1))\n",
    "\n",
    "print(SMO_evl.matrix(\"=== Sequential Minimal Optimization SVM ===\"))"
   ]
  },
  {
   "cell_type": "code",
   "execution_count": 79,
   "metadata": {},
   "outputs": [
    {
     "data": {
      "image/png": "[encoded data removed]",
      "text/plain": [
       "<Figure size 432x288 with 1 Axes>"
      ]
     },
     "metadata": {
      "needs_background": "light"
     },
     "output_type": "display_data"
    }
   ],
   "source": [
    "import weka.plot.classifiers as plcls  # NB: matplotlib is required\n",
    "plcls.plot_roc(SMO_evl, class_index=[0, 1], wait=True)"
   ]
  },
  {
   "cell_type": "code",
   "execution_count": null,
   "metadata": {},
   "outputs": [],
   "source": []
  },
  {
   "cell_type": "code",
   "execution_count": null,
   "metadata": {},
   "outputs": [],
   "source": []
  },
  {
   "cell_type": "markdown",
   "metadata": {},
   "source": [
    "Stop Java VM"
   ]
  },
  {
   "cell_type": "code",
   "execution_count": 3,
   "metadata": {},
   "outputs": [],
   "source": [
    "# Stop JVM. May need to restart compute cluster or jupyter kernal if jvm restart is required.\n",
    "\n",
    "jvm.stop()"
   ]
  }
 ],
 "metadata": {
  "interpreter": {
   "hash": "092be12fe46acec16a89a20a9144297dd1787ffdf68dbaeaa6dfc7e5abf9ae2f"
  },
  "kernelspec": {
   "display_name": "Python 3.8.10 64-bit",
   "language": "python",
   "name": "python3"
  },
  "language_info": {
   "codemirror_mode": {
    "name": "ipython",
    "version": 3
   },
   "file_extension": ".py",
   "mimetype": "text/x-python",
   "name": "python",
   "nbconvert_exporter": "python",
   "pygments_lexer": "ipython3",
   "version": "3.8.10"
  },
  "orig_nbformat": 4
 },
 "nbformat": 4,
 "nbformat_minor": 2
}
