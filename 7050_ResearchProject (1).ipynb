{
 "cells": [
  {
   "cell_type": "code",
   "execution_count": 15,
   "id": "66018882-d35b-42c0-b83f-209aea62231c",
   "metadata": {},
   "outputs": [
    {
     "name": "stdout",
     "output_type": "stream",
     "text": [
      "Sat Apr 16 20:41:43 2022       \n",
      "+-----------------------------------------------------------------------------+\n",
      "| NVIDIA-SMI 510.60.02    Driver Version: 512.15       CUDA Version: 11.6     |\n",
      "|-------------------------------+----------------------+----------------------+\n",
      "| GPU  Name        Persistence-M| Bus-Id        Disp.A | Volatile Uncorr. ECC |\n",
      "| Fan  Temp  Perf  Pwr:Usage/Cap|         Memory-Usage | GPU-Util  Compute M. |\n",
      "|                               |                      |               MIG M. |\n",
      "|===============================+======================+======================|\n",
      "|   0  NVIDIA GeForce ...  On   | 00000000:0B:00.0  On |                  N/A |\n",
      "|  0%   46C    P5    49W / 240W |   2039MiB /  8192MiB |      2%      Default |\n",
      "|                               |                      |                  N/A |\n",
      "+-------------------------------+----------------------+----------------------+\n",
      "                                                                               \n",
      "+-----------------------------------------------------------------------------+\n",
      "| Processes:                                                                  |\n",
      "|  GPU   GI   CI        PID   Type   Process name                  GPU Memory |\n",
      "|        ID   ID                                                   Usage      |\n",
      "|=============================================================================|\n",
      "|    0   N/A  N/A       427      C   /python3.9                      N/A      |\n",
      "+-----------------------------------------------------------------------------+\n"
     ]
    }
   ],
   "source": [
    "!nvidia-smi"
   ]
  },
  {
   "cell_type": "code",
   "execution_count": 16,
   "id": "0d5aa2f0-8c23-4772-91a4-e4ef71a6bde0",
   "metadata": {
    "collapsed": true,
    "jupyter": {
     "outputs_hidden": true
    },
    "tags": []
   },
   "outputs": [
    {
     "name": "stdout",
     "output_type": "stream",
     "text": [
      "Requirement already satisfied: xgboost in ./miniconda3/envs/rapids-22.02/lib/python3.9/site-packages (1.4.2)\n",
      "Requirement already satisfied: keras in ./miniconda3/envs/rapids-22.02/lib/python3.9/site-packages (2.8.0)\n",
      "Requirement already satisfied: tensorflow in ./miniconda3/envs/rapids-22.02/lib/python3.9/site-packages (2.8.0)\n",
      "Requirement already satisfied: pydot in ./miniconda3/envs/rapids-22.02/lib/python3.9/site-packages (1.4.2)\n",
      "Requirement already satisfied: graphviz in ./miniconda3/envs/rapids-22.02/lib/python3.9/site-packages (0.8.4)\n",
      "Requirement already satisfied: numpy in ./miniconda3/envs/rapids-22.02/lib/python3.9/site-packages (from xgboost) (1.21.0)\n",
      "Requirement already satisfied: scipy in ./miniconda3/envs/rapids-22.02/lib/python3.9/site-packages (from xgboost) (1.6.3)\n",
      "Requirement already satisfied: grpcio<2.0,>=1.24.3 in ./miniconda3/envs/rapids-22.02/lib/python3.9/site-packages (from tensorflow) (1.44.0)\n",
      "Requirement already satisfied: six>=1.12.0 in ./miniconda3/envs/rapids-22.02/lib/python3.9/site-packages (from tensorflow) (1.16.0)\n",
      "Requirement already satisfied: setuptools in ./miniconda3/envs/rapids-22.02/lib/python3.9/site-packages (from tensorflow) (58.4.0)\n",
      "Requirement already satisfied: libclang>=9.0.1 in ./miniconda3/envs/rapids-22.02/lib/python3.9/site-packages (from tensorflow) (13.0.0)\n",
      "Requirement already satisfied: protobuf>=3.9.2 in ./miniconda3/envs/rapids-22.02/lib/python3.9/site-packages (from tensorflow) (3.19.4)\n",
      "Requirement already satisfied: keras-preprocessing>=1.1.1 in ./miniconda3/envs/rapids-22.02/lib/python3.9/site-packages (from tensorflow) (1.1.2)\n",
      "Requirement already satisfied: tensorboard<2.9,>=2.8 in ./miniconda3/envs/rapids-22.02/lib/python3.9/site-packages (from tensorflow) (2.8.0)\n",
      "Requirement already satisfied: h5py>=2.9.0 in ./miniconda3/envs/rapids-22.02/lib/python3.9/site-packages (from tensorflow) (3.6.0)\n",
      "Requirement already satisfied: wrapt>=1.11.0 in ./miniconda3/envs/rapids-22.02/lib/python3.9/site-packages (from tensorflow) (1.14.0)\n",
      "Requirement already satisfied: tf-estimator-nightly==2.8.0.dev2021122109 in ./miniconda3/envs/rapids-22.02/lib/python3.9/site-packages (from tensorflow) (2.8.0.dev2021122109)\n",
      "Requirement already satisfied: google-pasta>=0.1.1 in ./miniconda3/envs/rapids-22.02/lib/python3.9/site-packages (from tensorflow) (0.2.0)\n",
      "Requirement already satisfied: typing-extensions>=3.6.6 in ./miniconda3/envs/rapids-22.02/lib/python3.9/site-packages (from tensorflow) (4.1.1)\n",
      "Requirement already satisfied: flatbuffers>=1.12 in ./miniconda3/envs/rapids-22.02/lib/python3.9/site-packages (from tensorflow) (2.0)\n",
      "Requirement already satisfied: absl-py>=0.4.0 in ./miniconda3/envs/rapids-22.02/lib/python3.9/site-packages (from tensorflow) (1.0.0)\n",
      "Requirement already satisfied: tensorflow-io-gcs-filesystem>=0.23.1 in ./miniconda3/envs/rapids-22.02/lib/python3.9/site-packages (from tensorflow) (0.24.0)\n",
      "Requirement already satisfied: opt-einsum>=2.3.2 in ./miniconda3/envs/rapids-22.02/lib/python3.9/site-packages (from tensorflow) (3.3.0)\n",
      "Requirement already satisfied: gast>=0.2.1 in ./miniconda3/envs/rapids-22.02/lib/python3.9/site-packages (from tensorflow) (0.4.0)\n",
      "Requirement already satisfied: astunparse>=1.6.0 in ./miniconda3/envs/rapids-22.02/lib/python3.9/site-packages (from tensorflow) (1.6.3)\n",
      "Requirement already satisfied: termcolor>=1.1.0 in ./miniconda3/envs/rapids-22.02/lib/python3.9/site-packages (from tensorflow) (1.1.0)\n",
      "Requirement already satisfied: pyparsing>=2.1.4 in ./miniconda3/envs/rapids-22.02/lib/python3.9/site-packages (from pydot) (3.0.7)\n",
      "Requirement already satisfied: wheel<1.0,>=0.23.0 in ./miniconda3/envs/rapids-22.02/lib/python3.9/site-packages (from astunparse>=1.6.0->tensorflow) (0.37.0)\n",
      "Requirement already satisfied: google-auth-oauthlib<0.5,>=0.4.1 in ./miniconda3/envs/rapids-22.02/lib/python3.9/site-packages (from tensorboard<2.9,>=2.8->tensorflow) (0.4.6)\n",
      "Requirement already satisfied: requests<3,>=2.21.0 in ./miniconda3/envs/rapids-22.02/lib/python3.9/site-packages (from tensorboard<2.9,>=2.8->tensorflow) (2.27.1)\n",
      "Requirement already satisfied: tensorboard-data-server<0.7.0,>=0.6.0 in ./miniconda3/envs/rapids-22.02/lib/python3.9/site-packages (from tensorboard<2.9,>=2.8->tensorflow) (0.6.1)\n",
      "Requirement already satisfied: markdown>=2.6.8 in ./miniconda3/envs/rapids-22.02/lib/python3.9/site-packages (from tensorboard<2.9,>=2.8->tensorflow) (3.3.6)\n",
      "Requirement already satisfied: werkzeug>=0.11.15 in ./miniconda3/envs/rapids-22.02/lib/python3.9/site-packages (from tensorboard<2.9,>=2.8->tensorflow) (2.0.3)\n",
      "Requirement already satisfied: google-auth<3,>=1.6.3 in ./miniconda3/envs/rapids-22.02/lib/python3.9/site-packages (from tensorboard<2.9,>=2.8->tensorflow) (2.6.0)\n",
      "Requirement already satisfied: tensorboard-plugin-wit>=1.6.0 in ./miniconda3/envs/rapids-22.02/lib/python3.9/site-packages (from tensorboard<2.9,>=2.8->tensorflow) (1.8.1)\n",
      "Requirement already satisfied: pyasn1-modules>=0.2.1 in ./miniconda3/envs/rapids-22.02/lib/python3.9/site-packages (from google-auth<3,>=1.6.3->tensorboard<2.9,>=2.8->tensorflow) (0.2.8)\n",
      "Requirement already satisfied: rsa<5,>=3.1.4 in ./miniconda3/envs/rapids-22.02/lib/python3.9/site-packages (from google-auth<3,>=1.6.3->tensorboard<2.9,>=2.8->tensorflow) (4.8)\n",
      "Requirement already satisfied: cachetools<6.0,>=2.0.0 in ./miniconda3/envs/rapids-22.02/lib/python3.9/site-packages (from google-auth<3,>=1.6.3->tensorboard<2.9,>=2.8->tensorflow) (5.0.0)\n",
      "Requirement already satisfied: requests-oauthlib>=0.7.0 in ./miniconda3/envs/rapids-22.02/lib/python3.9/site-packages (from google-auth-oauthlib<0.5,>=0.4.1->tensorboard<2.9,>=2.8->tensorflow) (1.3.1)\n",
      "Requirement already satisfied: importlib-metadata>=4.4 in ./miniconda3/envs/rapids-22.02/lib/python3.9/site-packages (from markdown>=2.6.8->tensorboard<2.9,>=2.8->tensorflow) (4.11.2)\n",
      "Requirement already satisfied: urllib3<1.27,>=1.21.1 in ./miniconda3/envs/rapids-22.02/lib/python3.9/site-packages (from requests<3,>=2.21.0->tensorboard<2.9,>=2.8->tensorflow) (1.26.8)\n",
      "Requirement already satisfied: certifi>=2017.4.17 in ./miniconda3/envs/rapids-22.02/lib/python3.9/site-packages (from requests<3,>=2.21.0->tensorboard<2.9,>=2.8->tensorflow) (2021.10.8)\n",
      "Requirement already satisfied: idna<4,>=2.5 in ./miniconda3/envs/rapids-22.02/lib/python3.9/site-packages (from requests<3,>=2.21.0->tensorboard<2.9,>=2.8->tensorflow) (3.3)\n",
      "Requirement already satisfied: charset-normalizer~=2.0.0 in ./miniconda3/envs/rapids-22.02/lib/python3.9/site-packages (from requests<3,>=2.21.0->tensorboard<2.9,>=2.8->tensorflow) (2.0.12)\n",
      "Requirement already satisfied: zipp>=0.5 in ./miniconda3/envs/rapids-22.02/lib/python3.9/site-packages (from importlib-metadata>=4.4->markdown>=2.6.8->tensorboard<2.9,>=2.8->tensorflow) (3.7.0)\n",
      "Requirement already satisfied: pyasn1<0.5.0,>=0.4.6 in ./miniconda3/envs/rapids-22.02/lib/python3.9/site-packages (from pyasn1-modules>=0.2.1->google-auth<3,>=1.6.3->tensorboard<2.9,>=2.8->tensorflow) (0.4.8)\n",
      "Requirement already satisfied: oauthlib>=3.0.0 in ./miniconda3/envs/rapids-22.02/lib/python3.9/site-packages (from requests-oauthlib>=0.7.0->google-auth-oauthlib<0.5,>=0.4.1->tensorboard<2.9,>=2.8->tensorflow) (3.2.0)\n",
      "\u001b[33mWARNING: You are using pip version 21.3.1; however, version 22.0.4 is available.\n",
      "You should consider upgrading via the '/home/jc/miniconda3/envs/rapids-22.02/bin/python3.9 -m pip install --upgrade pip' command.\u001b[0m\n",
      "Note: you may need to restart the kernel to use updated packages.\n"
     ]
    }
   ],
   "source": [
    "# Import Packages\n",
    "%pip install xgboost keras tensorflow pydot graphviz\n",
    "\n",
    "# Import Libraries\n",
    "import tensorflow as tf\n",
    "import matplotlib.pyplot as plt\n",
    "import pandas as pd, numpy as np\n",
    "import seaborn as sns\n",
    "#import cudf\n",
    "import cupy as cp\n",
    "\n",
    "from tensorflow import keras\n",
    "from tensorflow.keras.models import Sequential   \n",
    "from tensorflow.keras.layers import Dense        \n",
    "from sklearn.preprocessing import LabelEncoder\n",
    "from sklearn.model_selection import train_test_split\n",
    "from sklearn.linear_model import LogisticRegression\n",
    "from sklearn.feature_selection import mutual_info_classif\n",
    "from sklearn.metrics import accuracy_score"
   ]
  },
  {
   "cell_type": "code",
   "execution_count": 17,
   "id": "fbe2df1f-a821-4594-9489-cc8d52b6a82d",
   "metadata": {},
   "outputs": [],
   "source": [
    "# Set dataframe and plot options\n",
    "pd.options.display.float_format = '{:,.2f}'.format\n",
    "pd.set_option(\"display.max_columns\", 101)\n",
    "plt.rcParams ['font.size'] = 14"
   ]
  },
  {
   "cell_type": "markdown",
   "id": "3b69e95a-c613-4d81-885a-cb3711ad018f",
   "metadata": {},
   "source": [
    "## Process Datasets For Modeling"
   ]
  },
  {
   "cell_type": "code",
   "execution_count": 18,
   "id": "911fb5e2-20d3-480c-8f44-43580b4cfa6a",
   "metadata": {},
   "outputs": [
    {
     "data": {
      "text/html": [
       "<div>\n",
       "<style scoped>\n",
       "    .dataframe tbody tr th:only-of-type {\n",
       "        vertical-align: middle;\n",
       "    }\n",
       "\n",
       "    .dataframe tbody tr th {\n",
       "        vertical-align: top;\n",
       "    }\n",
       "\n",
       "    .dataframe thead th {\n",
       "        text-align: right;\n",
       "    }\n",
       "</style>\n",
       "<table border=\"1\" class=\"dataframe\">\n",
       "  <thead>\n",
       "    <tr style=\"text-align: right;\">\n",
       "      <th></th>\n",
       "      <th>step</th>\n",
       "      <th>type</th>\n",
       "      <th>amount</th>\n",
       "      <th>nameOrig</th>\n",
       "      <th>oldbalanceOrg</th>\n",
       "      <th>newbalanceOrig</th>\n",
       "      <th>nameDest</th>\n",
       "      <th>oldbalanceDest</th>\n",
       "      <th>newbalanceDest</th>\n",
       "      <th>isFraud</th>\n",
       "      <th>isFlaggedFraud</th>\n",
       "    </tr>\n",
       "  </thead>\n",
       "  <tbody>\n",
       "    <tr>\n",
       "      <th>0</th>\n",
       "      <td>1</td>\n",
       "      <td>PAYMENT</td>\n",
       "      <td>9,839.64</td>\n",
       "      <td>C1231006815</td>\n",
       "      <td>170,136.00</td>\n",
       "      <td>160,296.36</td>\n",
       "      <td>M1979787155</td>\n",
       "      <td>0.00</td>\n",
       "      <td>0.00</td>\n",
       "      <td>0</td>\n",
       "      <td>0</td>\n",
       "    </tr>\n",
       "    <tr>\n",
       "      <th>1</th>\n",
       "      <td>1</td>\n",
       "      <td>PAYMENT</td>\n",
       "      <td>1,864.28</td>\n",
       "      <td>C1666544295</td>\n",
       "      <td>21,249.00</td>\n",
       "      <td>19,384.72</td>\n",
       "      <td>M2044282225</td>\n",
       "      <td>0.00</td>\n",
       "      <td>0.00</td>\n",
       "      <td>0</td>\n",
       "      <td>0</td>\n",
       "    </tr>\n",
       "    <tr>\n",
       "      <th>2</th>\n",
       "      <td>1</td>\n",
       "      <td>TRANSFER</td>\n",
       "      <td>181.00</td>\n",
       "      <td>C1305486145</td>\n",
       "      <td>181.00</td>\n",
       "      <td>0.00</td>\n",
       "      <td>C553264065</td>\n",
       "      <td>0.00</td>\n",
       "      <td>0.00</td>\n",
       "      <td>1</td>\n",
       "      <td>0</td>\n",
       "    </tr>\n",
       "    <tr>\n",
       "      <th>3</th>\n",
       "      <td>1</td>\n",
       "      <td>CASH_OUT</td>\n",
       "      <td>181.00</td>\n",
       "      <td>C840083671</td>\n",
       "      <td>181.00</td>\n",
       "      <td>0.00</td>\n",
       "      <td>C38997010</td>\n",
       "      <td>21,182.00</td>\n",
       "      <td>0.00</td>\n",
       "      <td>1</td>\n",
       "      <td>0</td>\n",
       "    </tr>\n",
       "    <tr>\n",
       "      <th>4</th>\n",
       "      <td>1</td>\n",
       "      <td>PAYMENT</td>\n",
       "      <td>11,668.14</td>\n",
       "      <td>C2048537720</td>\n",
       "      <td>41,554.00</td>\n",
       "      <td>29,885.86</td>\n",
       "      <td>M1230701703</td>\n",
       "      <td>0.00</td>\n",
       "      <td>0.00</td>\n",
       "      <td>0</td>\n",
       "      <td>0</td>\n",
       "    </tr>\n",
       "    <tr>\n",
       "      <th>5</th>\n",
       "      <td>1</td>\n",
       "      <td>PAYMENT</td>\n",
       "      <td>7,817.71</td>\n",
       "      <td>C90045638</td>\n",
       "      <td>53,860.00</td>\n",
       "      <td>46,042.29</td>\n",
       "      <td>M573487274</td>\n",
       "      <td>0.00</td>\n",
       "      <td>0.00</td>\n",
       "      <td>0</td>\n",
       "      <td>0</td>\n",
       "    </tr>\n",
       "    <tr>\n",
       "      <th>6</th>\n",
       "      <td>1</td>\n",
       "      <td>PAYMENT</td>\n",
       "      <td>7,107.77</td>\n",
       "      <td>C154988899</td>\n",
       "      <td>183,195.00</td>\n",
       "      <td>176,087.23</td>\n",
       "      <td>M408069119</td>\n",
       "      <td>0.00</td>\n",
       "      <td>0.00</td>\n",
       "      <td>0</td>\n",
       "      <td>0</td>\n",
       "    </tr>\n",
       "    <tr>\n",
       "      <th>7</th>\n",
       "      <td>1</td>\n",
       "      <td>PAYMENT</td>\n",
       "      <td>7,861.64</td>\n",
       "      <td>C1912850431</td>\n",
       "      <td>176,087.23</td>\n",
       "      <td>168,225.59</td>\n",
       "      <td>M633326333</td>\n",
       "      <td>0.00</td>\n",
       "      <td>0.00</td>\n",
       "      <td>0</td>\n",
       "      <td>0</td>\n",
       "    </tr>\n",
       "    <tr>\n",
       "      <th>8</th>\n",
       "      <td>1</td>\n",
       "      <td>PAYMENT</td>\n",
       "      <td>4,024.36</td>\n",
       "      <td>C1265012928</td>\n",
       "      <td>2,671.00</td>\n",
       "      <td>0.00</td>\n",
       "      <td>M1176932104</td>\n",
       "      <td>0.00</td>\n",
       "      <td>0.00</td>\n",
       "      <td>0</td>\n",
       "      <td>0</td>\n",
       "    </tr>\n",
       "    <tr>\n",
       "      <th>9</th>\n",
       "      <td>1</td>\n",
       "      <td>DEBIT</td>\n",
       "      <td>5,337.77</td>\n",
       "      <td>C712410124</td>\n",
       "      <td>41,720.00</td>\n",
       "      <td>36,382.23</td>\n",
       "      <td>C195600860</td>\n",
       "      <td>41,898.00</td>\n",
       "      <td>40,348.79</td>\n",
       "      <td>0</td>\n",
       "      <td>0</td>\n",
       "    </tr>\n",
       "  </tbody>\n",
       "</table>\n",
       "</div>"
      ],
      "text/plain": [
       "   step      type    amount     nameOrig  oldbalanceOrg  newbalanceOrig  \\\n",
       "0     1   PAYMENT  9,839.64  C1231006815     170,136.00      160,296.36   \n",
       "1     1   PAYMENT  1,864.28  C1666544295      21,249.00       19,384.72   \n",
       "2     1  TRANSFER    181.00  C1305486145         181.00            0.00   \n",
       "3     1  CASH_OUT    181.00   C840083671         181.00            0.00   \n",
       "4     1   PAYMENT 11,668.14  C2048537720      41,554.00       29,885.86   \n",
       "5     1   PAYMENT  7,817.71    C90045638      53,860.00       46,042.29   \n",
       "6     1   PAYMENT  7,107.77   C154988899     183,195.00      176,087.23   \n",
       "7     1   PAYMENT  7,861.64  C1912850431     176,087.23      168,225.59   \n",
       "8     1   PAYMENT  4,024.36  C1265012928       2,671.00            0.00   \n",
       "9     1     DEBIT  5,337.77   C712410124      41,720.00       36,382.23   \n",
       "\n",
       "      nameDest  oldbalanceDest  newbalanceDest  isFraud  isFlaggedFraud  \n",
       "0  M1979787155            0.00            0.00        0               0  \n",
       "1  M2044282225            0.00            0.00        0               0  \n",
       "2   C553264065            0.00            0.00        1               0  \n",
       "3    C38997010       21,182.00            0.00        1               0  \n",
       "4  M1230701703            0.00            0.00        0               0  \n",
       "5   M573487274            0.00            0.00        0               0  \n",
       "6   M408069119            0.00            0.00        0               0  \n",
       "7   M633326333            0.00            0.00        0               0  \n",
       "8  M1176932104            0.00            0.00        0               0  \n",
       "9   C195600860       41,898.00       40,348.79        0               0  "
      ]
     },
     "execution_count": 18,
     "metadata": {},
     "output_type": "execute_result"
    }
   ],
   "source": [
    "data = pd.read_csv(\"PS_20174392719_1491204439457_log.csv\")\n",
    "data.head(10)"
   ]
  },
  {
   "cell_type": "code",
   "execution_count": 19,
   "id": "8358ba57-cb77-49d1-b316-976d01f6bbc9",
   "metadata": {},
   "outputs": [
    {
     "name": "stdout",
     "output_type": "stream",
     "text": [
      "<class 'pandas.core.frame.DataFrame'>\n",
      "RangeIndex: 6362620 entries, 0 to 6362619\n",
      "Data columns (total 11 columns):\n",
      " #   Column          Dtype  \n",
      "---  ------          -----  \n",
      " 0   step            int64  \n",
      " 1   type            object \n",
      " 2   amount          float64\n",
      " 3   nameOrig        object \n",
      " 4   oldbalanceOrg   float64\n",
      " 5   newbalanceOrig  float64\n",
      " 6   nameDest        object \n",
      " 7   oldbalanceDest  float64\n",
      " 8   newbalanceDest  float64\n",
      " 9   isFraud         int64  \n",
      " 10  isFlaggedFraud  int64  \n",
      "dtypes: float64(5), int64(3), object(3)\n",
      "memory usage: 534.0+ MB\n"
     ]
    }
   ],
   "source": [
    "data.info()"
   ]
  },
  {
   "cell_type": "code",
   "execution_count": 20,
   "id": "e4494a10-6f4d-47df-8cc1-31d19a019101",
   "metadata": {},
   "outputs": [
    {
     "data": {
      "text/html": [
       "<div>\n",
       "<style scoped>\n",
       "    .dataframe tbody tr th:only-of-type {\n",
       "        vertical-align: middle;\n",
       "    }\n",
       "\n",
       "    .dataframe tbody tr th {\n",
       "        vertical-align: top;\n",
       "    }\n",
       "\n",
       "    .dataframe thead th {\n",
       "        text-align: right;\n",
       "    }\n",
       "</style>\n",
       "<table border=\"1\" class=\"dataframe\">\n",
       "  <thead>\n",
       "    <tr style=\"text-align: right;\">\n",
       "      <th></th>\n",
       "      <th>step</th>\n",
       "      <th>amount</th>\n",
       "      <th>oldbalanceOrg</th>\n",
       "      <th>newbalanceOrig</th>\n",
       "      <th>oldbalanceDest</th>\n",
       "      <th>newbalanceDest</th>\n",
       "      <th>isFraud</th>\n",
       "      <th>isFlaggedFraud</th>\n",
       "    </tr>\n",
       "  </thead>\n",
       "  <tbody>\n",
       "    <tr>\n",
       "      <th>count</th>\n",
       "      <td>6,362,620.00</td>\n",
       "      <td>6,362,620.00</td>\n",
       "      <td>6,362,620.00</td>\n",
       "      <td>6,362,620.00</td>\n",
       "      <td>6,362,620.00</td>\n",
       "      <td>6,362,620.00</td>\n",
       "      <td>6,362,620.00</td>\n",
       "      <td>6,362,620.00</td>\n",
       "    </tr>\n",
       "    <tr>\n",
       "      <th>mean</th>\n",
       "      <td>243.40</td>\n",
       "      <td>179,861.90</td>\n",
       "      <td>833,883.10</td>\n",
       "      <td>855,113.67</td>\n",
       "      <td>1,100,701.67</td>\n",
       "      <td>1,224,996.40</td>\n",
       "      <td>0.00</td>\n",
       "      <td>0.00</td>\n",
       "    </tr>\n",
       "    <tr>\n",
       "      <th>std</th>\n",
       "      <td>142.33</td>\n",
       "      <td>603,858.23</td>\n",
       "      <td>2,888,242.67</td>\n",
       "      <td>2,924,048.50</td>\n",
       "      <td>3,399,180.11</td>\n",
       "      <td>3,674,128.94</td>\n",
       "      <td>0.04</td>\n",
       "      <td>0.00</td>\n",
       "    </tr>\n",
       "    <tr>\n",
       "      <th>min</th>\n",
       "      <td>1.00</td>\n",
       "      <td>0.00</td>\n",
       "      <td>0.00</td>\n",
       "      <td>0.00</td>\n",
       "      <td>0.00</td>\n",
       "      <td>0.00</td>\n",
       "      <td>0.00</td>\n",
       "      <td>0.00</td>\n",
       "    </tr>\n",
       "    <tr>\n",
       "      <th>25%</th>\n",
       "      <td>156.00</td>\n",
       "      <td>13,389.57</td>\n",
       "      <td>0.00</td>\n",
       "      <td>0.00</td>\n",
       "      <td>0.00</td>\n",
       "      <td>0.00</td>\n",
       "      <td>0.00</td>\n",
       "      <td>0.00</td>\n",
       "    </tr>\n",
       "    <tr>\n",
       "      <th>50%</th>\n",
       "      <td>239.00</td>\n",
       "      <td>74,871.94</td>\n",
       "      <td>14,208.00</td>\n",
       "      <td>0.00</td>\n",
       "      <td>132,705.66</td>\n",
       "      <td>214,661.44</td>\n",
       "      <td>0.00</td>\n",
       "      <td>0.00</td>\n",
       "    </tr>\n",
       "    <tr>\n",
       "      <th>75%</th>\n",
       "      <td>335.00</td>\n",
       "      <td>208,721.48</td>\n",
       "      <td>107,315.18</td>\n",
       "      <td>144,258.41</td>\n",
       "      <td>943,036.71</td>\n",
       "      <td>1,111,909.25</td>\n",
       "      <td>0.00</td>\n",
       "      <td>0.00</td>\n",
       "    </tr>\n",
       "    <tr>\n",
       "      <th>max</th>\n",
       "      <td>743.00</td>\n",
       "      <td>92,445,516.64</td>\n",
       "      <td>59,585,040.37</td>\n",
       "      <td>49,585,040.37</td>\n",
       "      <td>356,015,889.35</td>\n",
       "      <td>356,179,278.92</td>\n",
       "      <td>1.00</td>\n",
       "      <td>1.00</td>\n",
       "    </tr>\n",
       "  </tbody>\n",
       "</table>\n",
       "</div>"
      ],
      "text/plain": [
       "              step        amount  oldbalanceOrg  newbalanceOrig  \\\n",
       "count 6,362,620.00  6,362,620.00   6,362,620.00    6,362,620.00   \n",
       "mean        243.40    179,861.90     833,883.10      855,113.67   \n",
       "std         142.33    603,858.23   2,888,242.67    2,924,048.50   \n",
       "min           1.00          0.00           0.00            0.00   \n",
       "25%         156.00     13,389.57           0.00            0.00   \n",
       "50%         239.00     74,871.94      14,208.00            0.00   \n",
       "75%         335.00    208,721.48     107,315.18      144,258.41   \n",
       "max         743.00 92,445,516.64  59,585,040.37   49,585,040.37   \n",
       "\n",
       "       oldbalanceDest  newbalanceDest      isFraud  isFlaggedFraud  \n",
       "count    6,362,620.00    6,362,620.00 6,362,620.00    6,362,620.00  \n",
       "mean     1,100,701.67    1,224,996.40         0.00            0.00  \n",
       "std      3,399,180.11    3,674,128.94         0.04            0.00  \n",
       "min              0.00            0.00         0.00            0.00  \n",
       "25%              0.00            0.00         0.00            0.00  \n",
       "50%        132,705.66      214,661.44         0.00            0.00  \n",
       "75%        943,036.71    1,111,909.25         0.00            0.00  \n",
       "max    356,015,889.35  356,179,278.92         1.00            1.00  "
      ]
     },
     "execution_count": 20,
     "metadata": {},
     "output_type": "execute_result"
    }
   ],
   "source": [
    "data.describe()"
   ]
  },
  {
   "cell_type": "code",
   "execution_count": 21,
   "id": "ddf28cde-9bd7-4237-a993-884ff55a24e0",
   "metadata": {},
   "outputs": [
    {
     "name": "stdout",
     "output_type": "stream",
     "text": [
      "step              0\n",
      "type              0\n",
      "amount            0\n",
      "nameOrig          0\n",
      "oldbalanceOrg     0\n",
      "newbalanceOrig    0\n",
      "nameDest          0\n",
      "oldbalanceDest    0\n",
      "newbalanceDest    0\n",
      "isFraud           0\n",
      "isFlaggedFraud    0\n",
      "dtype: int64\n"
     ]
    }
   ],
   "source": [
    "#check for null values\n",
    "print(data.isnull().sum(axis = 0))"
   ]
  },
  {
   "cell_type": "code",
   "execution_count": 22,
   "id": "6963fa76-2f19-42ad-9bdb-ad665b24b120",
   "metadata": {
    "tags": []
   },
   "outputs": [],
   "source": [
    "#drop step\n",
    "data = data.drop(columns = ['step'])"
   ]
  },
  {
   "cell_type": "code",
   "execution_count": 23,
   "id": "11701482-e1d0-47ad-92b8-83c3d750ec05",
   "metadata": {},
   "outputs": [
    {
     "data": {
      "text/html": [
       "<div>\n",
       "<style scoped>\n",
       "    .dataframe tbody tr th:only-of-type {\n",
       "        vertical-align: middle;\n",
       "    }\n",
       "\n",
       "    .dataframe tbody tr th {\n",
       "        vertical-align: top;\n",
       "    }\n",
       "\n",
       "    .dataframe thead th {\n",
       "        text-align: right;\n",
       "    }\n",
       "</style>\n",
       "<table border=\"1\" class=\"dataframe\">\n",
       "  <thead>\n",
       "    <tr style=\"text-align: right;\">\n",
       "      <th></th>\n",
       "      <th>type</th>\n",
       "      <th>amount</th>\n",
       "      <th>nameOrig</th>\n",
       "      <th>oldbalanceOrg</th>\n",
       "      <th>newbalanceOrig</th>\n",
       "      <th>nameDest</th>\n",
       "      <th>oldbalanceDest</th>\n",
       "      <th>newbalanceDest</th>\n",
       "      <th>isFraud</th>\n",
       "      <th>isFlaggedFraud</th>\n",
       "    </tr>\n",
       "  </thead>\n",
       "  <tbody>\n",
       "    <tr>\n",
       "      <th>0</th>\n",
       "      <td>PAYMENT</td>\n",
       "      <td>9,839.64</td>\n",
       "      <td>C1231006815</td>\n",
       "      <td>170,136.00</td>\n",
       "      <td>160,296.36</td>\n",
       "      <td>M1979787155</td>\n",
       "      <td>0.00</td>\n",
       "      <td>0.00</td>\n",
       "      <td>0</td>\n",
       "      <td>0</td>\n",
       "    </tr>\n",
       "    <tr>\n",
       "      <th>1</th>\n",
       "      <td>PAYMENT</td>\n",
       "      <td>1,864.28</td>\n",
       "      <td>C1666544295</td>\n",
       "      <td>21,249.00</td>\n",
       "      <td>19,384.72</td>\n",
       "      <td>M2044282225</td>\n",
       "      <td>0.00</td>\n",
       "      <td>0.00</td>\n",
       "      <td>0</td>\n",
       "      <td>0</td>\n",
       "    </tr>\n",
       "    <tr>\n",
       "      <th>2</th>\n",
       "      <td>TRANSFER</td>\n",
       "      <td>181.00</td>\n",
       "      <td>C1305486145</td>\n",
       "      <td>181.00</td>\n",
       "      <td>0.00</td>\n",
       "      <td>C553264065</td>\n",
       "      <td>0.00</td>\n",
       "      <td>0.00</td>\n",
       "      <td>1</td>\n",
       "      <td>0</td>\n",
       "    </tr>\n",
       "    <tr>\n",
       "      <th>3</th>\n",
       "      <td>CASH_OUT</td>\n",
       "      <td>181.00</td>\n",
       "      <td>C840083671</td>\n",
       "      <td>181.00</td>\n",
       "      <td>0.00</td>\n",
       "      <td>C38997010</td>\n",
       "      <td>21,182.00</td>\n",
       "      <td>0.00</td>\n",
       "      <td>1</td>\n",
       "      <td>0</td>\n",
       "    </tr>\n",
       "    <tr>\n",
       "      <th>4</th>\n",
       "      <td>PAYMENT</td>\n",
       "      <td>11,668.14</td>\n",
       "      <td>C2048537720</td>\n",
       "      <td>41,554.00</td>\n",
       "      <td>29,885.86</td>\n",
       "      <td>M1230701703</td>\n",
       "      <td>0.00</td>\n",
       "      <td>0.00</td>\n",
       "      <td>0</td>\n",
       "      <td>0</td>\n",
       "    </tr>\n",
       "  </tbody>\n",
       "</table>\n",
       "</div>"
      ],
      "text/plain": [
       "       type    amount     nameOrig  oldbalanceOrg  newbalanceOrig  \\\n",
       "0   PAYMENT  9,839.64  C1231006815     170,136.00      160,296.36   \n",
       "1   PAYMENT  1,864.28  C1666544295      21,249.00       19,384.72   \n",
       "2  TRANSFER    181.00  C1305486145         181.00            0.00   \n",
       "3  CASH_OUT    181.00   C840083671         181.00            0.00   \n",
       "4   PAYMENT 11,668.14  C2048537720      41,554.00       29,885.86   \n",
       "\n",
       "      nameDest  oldbalanceDest  newbalanceDest  isFraud  isFlaggedFraud  \n",
       "0  M1979787155            0.00            0.00        0               0  \n",
       "1  M2044282225            0.00            0.00        0               0  \n",
       "2   C553264065            0.00            0.00        1               0  \n",
       "3    C38997010       21,182.00            0.00        1               0  \n",
       "4  M1230701703            0.00            0.00        0               0  "
      ]
     },
     "execution_count": 23,
     "metadata": {},
     "output_type": "execute_result"
    }
   ],
   "source": [
    "data.head()"
   ]
  },
  {
   "cell_type": "code",
   "execution_count": 24,
   "id": "54163209-5a40-4cbc-89bb-c2cc597cd5b2",
   "metadata": {},
   "outputs": [
    {
     "data": {
      "image/png": "[encoded data removed]",
      "text/plain": [
       "<Figure size 1152x720 with 2 Axes>"
      ]
     },
     "metadata": {
      "needs_background": "light"
     },
     "output_type": "display_data"
    }
   ],
   "source": [
    "plt.figure(figsize = (16,10))\n",
    "sns.heatmap(data.corr(), annot = True, cmap = \"YlGnBu\")\n",
    "plt.show()"
   ]
  },
  {
   "cell_type": "code",
   "execution_count": 25,
   "id": "d4110555-c9b5-4f30-9115-3cd9ecd11a13",
   "metadata": {},
   "outputs": [],
   "source": [
    "#Feature encoding\n",
    "\n",
    "for col in data.columns[0:]:\n",
    "    label = LabelEncoder()\n",
    "    label.fit(data[col].values)\n",
    "    data[col] = label.transform(list(data[col].values)).astype(float)\n"
   ]
  },
  {
   "cell_type": "code",
   "execution_count": 26,
   "id": "5fd96ae7-92c6-4307-9999-df6d3554d26a",
   "metadata": {},
   "outputs": [
    {
     "data": {
      "text/html": [
       "<div>\n",
       "<style scoped>\n",
       "    .dataframe tbody tr th:only-of-type {\n",
       "        vertical-align: middle;\n",
       "    }\n",
       "\n",
       "    .dataframe tbody tr th {\n",
       "        vertical-align: top;\n",
       "    }\n",
       "\n",
       "    .dataframe thead th {\n",
       "        text-align: right;\n",
       "    }\n",
       "</style>\n",
       "<table border=\"1\" class=\"dataframe\">\n",
       "  <thead>\n",
       "    <tr style=\"text-align: right;\">\n",
       "      <th></th>\n",
       "      <th>type</th>\n",
       "      <th>amount</th>\n",
       "      <th>nameOrig</th>\n",
       "      <th>oldbalanceOrg</th>\n",
       "      <th>newbalanceOrig</th>\n",
       "      <th>nameDest</th>\n",
       "      <th>oldbalanceDest</th>\n",
       "      <th>newbalanceDest</th>\n",
       "      <th>isFraud</th>\n",
       "      <th>isFlaggedFraud</th>\n",
       "    </tr>\n",
       "  </thead>\n",
       "  <tbody>\n",
       "    <tr>\n",
       "      <th>0</th>\n",
       "      <td>3.00</td>\n",
       "      <td>710,400.00</td>\n",
       "      <td>757,869.00</td>\n",
       "      <td>587,897.00</td>\n",
       "      <td>1,157,557.00</td>\n",
       "      <td>1,662,094.00</td>\n",
       "      <td>0.00</td>\n",
       "      <td>0.00</td>\n",
       "      <td>0.00</td>\n",
       "      <td>0.00</td>\n",
       "    </tr>\n",
       "    <tr>\n",
       "      <th>1</th>\n",
       "      <td>3.00</td>\n",
       "      <td>141,767.00</td>\n",
       "      <td>2,188,998.00</td>\n",
       "      <td>140,919.00</td>\n",
       "      <td>336,044.00</td>\n",
       "      <td>1,733,924.00</td>\n",
       "      <td>0.00</td>\n",
       "      <td>0.00</td>\n",
       "      <td>0.00</td>\n",
       "      <td>0.00</td>\n",
       "    </tr>\n",
       "    <tr>\n",
       "      <th>2</th>\n",
       "      <td>4.00</td>\n",
       "      <td>13,666.00</td>\n",
       "      <td>1,002,156.00</td>\n",
       "      <td>1,672.00</td>\n",
       "      <td>0.00</td>\n",
       "      <td>439,685.00</td>\n",
       "      <td>0.00</td>\n",
       "      <td>0.00</td>\n",
       "      <td>1.00</td>\n",
       "      <td>0.00</td>\n",
       "    </tr>\n",
       "    <tr>\n",
       "      <th>3</th>\n",
       "      <td>1.00</td>\n",
       "      <td>13,666.00</td>\n",
       "      <td>5,828,262.00</td>\n",
       "      <td>1,672.00</td>\n",
       "      <td>0.00</td>\n",
       "      <td>391,696.00</td>\n",
       "      <td>82,843.00</td>\n",
       "      <td>0.00</td>\n",
       "      <td>1.00</td>\n",
       "      <td>0.00</td>\n",
       "    </tr>\n",
       "    <tr>\n",
       "      <th>4</th>\n",
       "      <td>3.00</td>\n",
       "      <td>822,964.00</td>\n",
       "      <td>3,445,981.00</td>\n",
       "      <td>230,032.00</td>\n",
       "      <td>456,430.00</td>\n",
       "      <td>828,919.00</td>\n",
       "      <td>0.00</td>\n",
       "      <td>0.00</td>\n",
       "      <td>0.00</td>\n",
       "      <td>0.00</td>\n",
       "    </tr>\n",
       "    <tr>\n",
       "      <th>5</th>\n",
       "      <td>3.00</td>\n",
       "      <td>576,823.00</td>\n",
       "      <td>6,026,525.00</td>\n",
       "      <td>276,798.00</td>\n",
       "      <td>599,444.00</td>\n",
       "      <td>2,247,218.00</td>\n",
       "      <td>0.00</td>\n",
       "      <td>0.00</td>\n",
       "      <td>0.00</td>\n",
       "      <td>0.00</td>\n",
       "    </tr>\n",
       "    <tr>\n",
       "      <th>6</th>\n",
       "      <td>3.00</td>\n",
       "      <td>527,683.00</td>\n",
       "      <td>1,805,947.00</td>\n",
       "      <td>613,186.00</td>\n",
       "      <td>1,208,464.00</td>\n",
       "      <td>2,063,363.00</td>\n",
       "      <td>0.00</td>\n",
       "      <td>0.00</td>\n",
       "      <td>0.00</td>\n",
       "      <td>0.00</td>\n",
       "    </tr>\n",
       "    <tr>\n",
       "      <th>7</th>\n",
       "      <td>3.00</td>\n",
       "      <td>579,814.00</td>\n",
       "      <td>2,999,171.00</td>\n",
       "      <td>599,250.00</td>\n",
       "      <td>1,183,430.00</td>\n",
       "      <td>2,314,008.00</td>\n",
       "      <td>0.00</td>\n",
       "      <td>0.00</td>\n",
       "      <td>0.00</td>\n",
       "      <td>0.00</td>\n",
       "    </tr>\n",
       "    <tr>\n",
       "      <th>8</th>\n",
       "      <td>3.00</td>\n",
       "      <td>304,861.00</td>\n",
       "      <td>869,140.00</td>\n",
       "      <td>20,694.00</td>\n",
       "      <td>0.00</td>\n",
       "      <td>768,940.00</td>\n",
       "      <td>0.00</td>\n",
       "      <td>0.00</td>\n",
       "      <td>0.00</td>\n",
       "      <td>0.00</td>\n",
       "    </tr>\n",
       "    <tr>\n",
       "      <th>9</th>\n",
       "      <td>2.00</td>\n",
       "      <td>401,807.00</td>\n",
       "      <td>5,407,276.00</td>\n",
       "      <td>230,701.00</td>\n",
       "      <td>515,728.00</td>\n",
       "      <td>282,960.00</td>\n",
       "      <td>155,355.00</td>\n",
       "      <td>127,382.00</td>\n",
       "      <td>0.00</td>\n",
       "      <td>0.00</td>\n",
       "    </tr>\n",
       "  </tbody>\n",
       "</table>\n",
       "</div>"
      ],
      "text/plain": [
       "   type     amount     nameOrig  oldbalanceOrg  newbalanceOrig     nameDest  \\\n",
       "0  3.00 710,400.00   757,869.00     587,897.00    1,157,557.00 1,662,094.00   \n",
       "1  3.00 141,767.00 2,188,998.00     140,919.00      336,044.00 1,733,924.00   \n",
       "2  4.00  13,666.00 1,002,156.00       1,672.00            0.00   439,685.00   \n",
       "3  1.00  13,666.00 5,828,262.00       1,672.00            0.00   391,696.00   \n",
       "4  3.00 822,964.00 3,445,981.00     230,032.00      456,430.00   828,919.00   \n",
       "5  3.00 576,823.00 6,026,525.00     276,798.00      599,444.00 2,247,218.00   \n",
       "6  3.00 527,683.00 1,805,947.00     613,186.00    1,208,464.00 2,063,363.00   \n",
       "7  3.00 579,814.00 2,999,171.00     599,250.00    1,183,430.00 2,314,008.00   \n",
       "8  3.00 304,861.00   869,140.00      20,694.00            0.00   768,940.00   \n",
       "9  2.00 401,807.00 5,407,276.00     230,701.00      515,728.00   282,960.00   \n",
       "\n",
       "   oldbalanceDest  newbalanceDest  isFraud  isFlaggedFraud  \n",
       "0            0.00            0.00     0.00            0.00  \n",
       "1            0.00            0.00     0.00            0.00  \n",
       "2            0.00            0.00     1.00            0.00  \n",
       "3       82,843.00            0.00     1.00            0.00  \n",
       "4            0.00            0.00     0.00            0.00  \n",
       "5            0.00            0.00     0.00            0.00  \n",
       "6            0.00            0.00     0.00            0.00  \n",
       "7            0.00            0.00     0.00            0.00  \n",
       "8            0.00            0.00     0.00            0.00  \n",
       "9      155,355.00      127,382.00     0.00            0.00  "
      ]
     },
     "execution_count": 26,
     "metadata": {},
     "output_type": "execute_result"
    }
   ],
   "source": [
    "data.head(10)"
   ]
  },
  {
   "cell_type": "code",
   "execution_count": 27,
   "id": "786bb5c8-85be-4d93-a793-cb9e22a5efbb",
   "metadata": {},
   "outputs": [],
   "source": [
    "#Create model train and test splits of 80/20 from train dataset.\n",
    "y = data['isFraud']\n",
    "x = data.drop(columns = ['isFraud','isFlaggedFraud'])\n",
    "x_train, x_test, y_train, y_test = train_test_split(x, y, test_size = 0.2, random_state = 1)"
   ]
  },
  {
   "cell_type": "markdown",
   "id": "311a636d-1db0-4f61-84ca-f8d065ddb0a8",
   "metadata": {},
   "source": [
    "## Evaluate Accuracy Of ML Models"
   ]
  },
  {
   "cell_type": "code",
   "execution_count": 28,
   "id": "6144e25e-be7d-4e95-b9a9-cf235dd20c73",
   "metadata": {},
   "outputs": [
    {
     "name": "stdout",
     "output_type": "stream",
     "text": [
      "Accuracy is: 99.93%\n"
     ]
    }
   ],
   "source": [
    "# Logistic Regression GPU Model\n",
    "from cuml.linear_model import LogisticRegression as cuLR\n",
    "cuLG_model = cuLR(max_iter=500)\n",
    "cuLG_model.fit(x_train, y_train)\n",
    "cuLG_predictions = cuLG_model.predict(x_test)\n",
    "print(\"Accuracy is: \" + \"{:,.2%}\".format(accuracy_score(y_test,cuLG_predictions)))"
   ]
  },
  {
   "cell_type": "code",
   "execution_count": null,
   "id": "82aad958-8cad-4608-9188-b9999ad16733",
   "metadata": {},
   "outputs": [],
   "source": [
    "# mini batch SGD GPU Model\n",
    "from cuml.linear_model import MBSGDClassifier as MBSGD\n",
    "MBSGD_model = MBSGD()\n",
    "MBSGD_model.fit(x_train, y_train)\n",
    "MBSGD_predictions = MBSGD_model.predict(x_test)\n",
    "print(\"Accuracy is: \" + \"{:,.2%}\".format(accuracy_score(y_test,MBSGD_predictions)))"
   ]
  },
  {
   "cell_type": "code",
   "execution_count": null,
   "id": "8f29d8af-7669-4d7c-830a-2d3df2e9733a",
   "metadata": {},
   "outputs": [],
   "source": [
    "# Stochastic Gradient Descent GPU Model\n",
    "from cuml.solvers import SGD as cumlSGD\n",
    "cumlSGD_model = cumlSGD()\n",
    "cumlSGD_model.fit(x_train, y_train)\n",
    "cumlSGD_predictions = cumlSGD_model.predict(x_test)\n",
    "print(\"Accuracy is: \" + \"{:,.2%}\".format(accuracy_score(y_test,cumlSGD_predictions)))"
   ]
  },
  {
   "cell_type": "code",
   "execution_count": 17,
   "id": "5c4b86a1-58b0-441a-984c-81e8a257bdab",
   "metadata": {},
   "outputs": [
    {
     "name": "stdout",
     "output_type": "stream",
     "text": [
      "Accuracy is: 99.96%\n"
     ]
    }
   ],
   "source": [
    "# Random Forest Model\n",
    "from sklearn.ensemble import RandomForestClassifier\n",
    "RF_model = RandomForestClassifier(n_estimators = 50, max_depth = 12, random_state = 1)\n",
    "RF_model.fit(x_train, y_train)\n",
    "RF_predictions = RF_model.predict(x_test)\n",
    "print(\"Accuracy is: \" + \"{:,.2%}\".format(accuracy_score(y_test,RF_predictions)))"
   ]
  },
  {
   "cell_type": "code",
   "execution_count": 19,
   "id": "340245b0-11a3-4eb9-9297-db0a05c28bb8",
   "metadata": {},
   "outputs": [
    {
     "name": "stdout",
     "output_type": "stream",
     "text": [
      "Accuracy is: 99.87%\n"
     ]
    }
   ],
   "source": [
    "# Single Layer Neural Network\n",
    "from sklearn.neural_network import MLPClassifier\n",
    "MLP_model = MLPClassifier(hidden_layer_sizes=(len(x_train.columns),), activation='relu', solver='adam', batch_size='auto', random_state = 1, max_iter=1000) # max_iter = epochs\n",
    "MLP_model.fit(x_train, y_train)\n",
    "MLP_predictions = MLP_model.predict(x_test)\n",
    "print(\"Accuracy is: \" + \"{:,.2%}\".format(accuracy_score(y_test,MLP_predictions)))"
   ]
  },
  {
   "cell_type": "code",
   "execution_count": 20,
   "id": "abfaa9fe-3910-47f4-9521-303f65ed2866",
   "metadata": {},
   "outputs": [
    {
     "name": "stdout",
     "output_type": "stream",
     "text": [
      "Accuracy is: 99.87%\n"
     ]
    }
   ],
   "source": [
    "# Gaussian Naive Bayes\n",
    "from sklearn.naive_bayes import GaussianNB as GNB\n",
    "GNB_model = GNB()\n",
    "GNB_model.fit(x_train, y_train)\n",
    "GNB_predictions = GNB_model.predict(x_test)\n",
    "print(\"Accuracy is: \" + \"{:,.2%}\".format(accuracy_score(y_test,GNB_predictions)))"
   ]
  },
  {
   "cell_type": "code",
   "execution_count": 21,
   "id": "b231e09d-8df1-4307-b481-094a0509f34b",
   "metadata": {},
   "outputs": [
    {
     "name": "stdout",
     "output_type": "stream",
     "text": [
      "Accuracy is: 99.93%\n"
     ]
    }
   ],
   "source": [
    "# Support Vector Machine\n",
    "from sklearn.svm import SVC\n",
    "SVM_model = SVC()\n",
    "SVM_model.fit(x_train, y_train)\n",
    "SVM_predictions = SVM_model.predict(x_test)\n",
    "print(\"Accuracy is: \" + \"{:,.2%}\".format(accuracy_score(y_test,SVM_predictions)))"
   ]
  },
  {
   "cell_type": "code",
   "execution_count": 22,
   "id": "dd84aa0d-e22f-4a7a-bee1-f5c251ab0e34",
   "metadata": {},
   "outputs": [
    {
     "name": "stdout",
     "output_type": "stream",
     "text": [
      "Accuracy is: 99.93%\n"
     ]
    }
   ],
   "source": [
    "# K Nearest Neighbors\n",
    "from sklearn.neighbors import KNeighborsClassifier as KNN\n",
    "KNN_model = KNN(n_neighbors = 3) # optimal value of 3\n",
    "KNN_model.fit(x_train, y_train)\n",
    "KNN_predictions = KNN_model.predict(x_test)\n",
    "print(\"Accuracy is: \" + \"{:,.2%}\".format(accuracy_score(y_test,KNN_predictions)))"
   ]
  },
  {
   "cell_type": "code",
   "execution_count": 23,
   "id": "f488ad22-6052-494c-91ef-2e060f0e0cdd",
   "metadata": {},
   "outputs": [
    {
     "name": "stdout",
     "output_type": "stream",
     "text": [
      "Accuracy is: 99.87%\n"
     ]
    }
   ],
   "source": [
    "# Gradient Boost\n",
    "from sklearn.ensemble import GradientBoostingClassifier\n",
    "GBC_model = GradientBoostingClassifier(n_estimators = 50, learning_rate = 1.0, max_depth = 1, random_state = 1)\n",
    "GBC_model.fit(x_train, y_train)\n",
    "GBC_predictions = GBC_model.predict(x_test)\n",
    "print(\"Accuracy is: \" + \"{:,.2%}\".format(accuracy_score(y_test,GBC_predictions)))"
   ]
  },
  {
   "cell_type": "code",
   "execution_count": 24,
   "id": "66d5e31c-dc7d-4001-ae9e-cf56a5d71bfb",
   "metadata": {
    "tags": []
   },
   "outputs": [
    {
     "name": "stderr",
     "output_type": "stream",
     "text": [
      "/home/jc/miniconda3/envs/rapids-22.02/lib/python3.9/site-packages/xgboost/sklearn.py:1224: UserWarning: The use of label encoder in XGBClassifier is deprecated and will be removed in a future release. To remove this warning, do the following: 1) Pass option use_label_encoder=False when constructing XGBClassifier object; and 2) Encode your labels (y) as integers starting with 0, i.e. 0, 1, 2, ..., [num_class - 1].\n",
      "  warnings.warn(label_encoder_deprecation_msg, UserWarning)\n"
     ]
    },
    {
     "name": "stdout",
     "output_type": "stream",
     "text": [
      "[10:07:52] WARNING: /opt/conda/envs/rapids/conda-bld/xgboost_1643825494080/work/src/learner.cc:1115: Starting in XGBoost 1.3.0, the default evaluation metric used with the objective 'binary:logistic' was changed from 'error' to 'logloss'. Explicitly set eval_metric if you'd like to restore the old behavior.\n",
      "Accuracy is: 99.97%\n"
     ]
    }
   ],
   "source": [
    "# XGBoost\n",
    "from xgboost import XGBClassifier\n",
    "XGB_model = XGBClassifier()\n",
    "XGB_model.fit(x_train, y_train)\n",
    "XGB_predictions = XGB_model.predict(x_test)\n",
    "print(\"Accuracy is: \" + \"{:,.2%}\".format(accuracy_score(y_test,XGB_predictions)))"
   ]
  },
  {
   "cell_type": "markdown",
   "id": "aafa31b1-8c8d-4838-8c9f-705b6ef38f13",
   "metadata": {},
   "source": [
    "## Visualize Feature Importance"
   ]
  },
  {
   "cell_type": "code",
   "execution_count": 18,
   "id": "2d2fa85c-0cd7-484f-b3fc-75c4b2bd99a1",
   "metadata": {},
   "outputs": [
    {
     "data": {
      "image/png": "[encoded data removed]",
      "text/plain": [
       "<Figure size 576x360 with 1 Axes>"
      ]
     },
     "metadata": {
      "needs_background": "light"
     },
     "output_type": "display_data"
    }
   ],
   "source": [
    "# Using the feature importance attribute of the Random Forest classifier\n",
    "feature_importance = pd.Series(RF_model.feature_importances_)\n",
    "feature_importance.index = x_train.columns\n",
    "feature_importance = feature_importance.sort_values(ascending = False)\n",
    "\n",
    "# Plot values\n",
    "plt.figure(figsize = (8,5))\n",
    "plt.barh(x_train.columns, feature_importance)\n",
    "plt.show()"
   ]
  },
  {
   "cell_type": "code",
   "execution_count": 19,
   "id": "289a5527-d595-4b72-ba2d-398f64ad100d",
   "metadata": {},
   "outputs": [],
   "source": [
    "# Save Processed Dataset to new csv\n",
    "data.to_csv(\"ProcessedData.csv\", index=False)"
   ]
  },
  {
   "cell_type": "code",
   "execution_count": null,
   "id": "b5f9542a-9867-43c8-b2b8-583cedae8431",
   "metadata": {},
   "outputs": [],
   "source": []
  }
 ],
 "metadata": {
  "kernelspec": {
   "display_name": "Python 3",
   "language": "python",
   "name": "python3"
  },
  "language_info": {
   "codemirror_mode": {
    "name": "ipython",
    "version": 3
   },
   "file_extension": ".py",
   "mimetype": "text/x-python",
   "name": "python",
   "nbconvert_exporter": "python",
   "pygments_lexer": "ipython3",
   "version": "3.9.10"
  }
 },
 "nbformat": 4,
 "nbformat_minor": 5
}
