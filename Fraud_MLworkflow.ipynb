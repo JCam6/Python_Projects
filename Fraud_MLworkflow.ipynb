{
 "cells": [
  {
   "cell_type": "markdown",
   "metadata": {},
   "source": [
    "### NCR Digital Banking Fraud Detection Modeling\n",
    "#### Author: Jermaine Cameron\n",
    "##### Date: July 2021\n",
    "##### Datafile: 2020Feb17to26.csv (1.4m instances, 190 labeled fraud)\n",
    "##### Toolset: Data Science VM in Azure"
   ]
  },
  {
   "cell_type": "code",
   "execution_count": null,
   "metadata": {},
   "outputs": [],
   "source": []
  },
  {
   "cell_type": "markdown",
   "metadata": {},
   "source": [
    "### Step 1: Install and import python packages"
   ]
  },
  {
   "cell_type": "code",
   "execution_count": 1,
   "metadata": {
    "application/vnd.databricks.v1+cell": {
     "inputWidgets": {},
     "nuid": "aa730605-b88f-482d-955d-5b3926794542",
     "showTitle": false,
     "title": ""
    }
   },
   "outputs": [
    {
     "name": "stdout",
     "output_type": "stream",
     "text": [
      "Requirement already satisfied: python-weka-wrapper3 in c:\\miniconda\\envs\\py38_default\\lib\\site-packages (0.2.3)\n",
      "Requirement already satisfied: numpy in c:\\miniconda\\envs\\py38_default\\lib\\site-packages (from python-weka-wrapper3) (1.19.5)\n",
      "Requirement already satisfied: javabridge>=1.0.14 in c:\\miniconda\\envs\\py38_default\\lib\\site-packages (from python-weka-wrapper3) (1.0.19)\n"
     ]
    }
   ],
   "source": [
    "# Install python weka wrapper\n",
    "# See other requirements information at links below\n",
    "# https://pypi.org/project/python-weka-wrapper/\n",
    "# http://fracpete.github.io/python-weka-wrapper3/index.html#requirements\n",
    "\n",
    "!pip install python-weka-wrapper3"
   ]
  },
  {
   "cell_type": "code",
   "execution_count": 2,
   "metadata": {},
   "outputs": [
    {
     "name": "stdout",
     "output_type": "stream",
     "text": [
      "Requirement already satisfied: plotly in c:\\miniconda\\envs\\py38_default\\lib\\site-packages (5.0.0)\n",
      "Requirement already satisfied: tenacity>=6.2.0 in c:\\miniconda\\envs\\py38_default\\lib\\site-packages (from plotly) (7.0.0)\n",
      "Requirement already satisfied: six in c:\\miniconda\\envs\\py38_default\\lib\\site-packages (from plotly) (1.15.0)\n"
     ]
    }
   ],
   "source": [
    "# Install plotly for additional charts\n",
    "\n",
    "!pip install plotly"
   ]
  },
  {
   "cell_type": "code",
   "execution_count": 3,
   "metadata": {
    "application/vnd.databricks.v1+cell": {
     "inputWidgets": {},
     "nuid": "fd03a2ab-4add-4c97-9392-fef8ad59d665",
     "showTitle": false,
     "title": ""
    }
   },
   "outputs": [],
   "source": [
    "# Install python packages typically used with weka. Add / Remove items as needed.\n",
    "\n",
    "import os\n",
    "import tempfile\n",
    "import itertools\n",
    "import traceback\n",
    "import numpy as np\n",
    "import weka.core.jvm as jvm\n",
    "import matplotlib.pyplot as plt\n",
    "import weka.plot.classifiers as plot_cls\n",
    "import plotly.graph_objects as go\n",
    "import weka.plot.graph as plot_graph\n",
    "import weka.core.typeconv as typeconv\n",
    "import weka.core.converters as converters\n",
    "import plotly.graph_objects as go\n",
    "\n",
    "from weka.filters import Filter\n",
    "from weka.core.classes import from_commandline\n",
    "from weka.core.classes import to_commandline\n",
    "from weka.classifiers import Evaluation\n",
    "from weka.core.classes import Random\n",
    "from weka.filters import Filter\n",
    "from weka.classifiers import Evaluation\n",
    "from weka.core.converters import Loader\n",
    "from weka.core.classes import Random, from_commandline\n",
    "from weka.classifiers import Classifier, SingleClassifierEnhancer, MultipleClassifiersCombiner, FilteredClassifier\n",
    "from weka.classifiers import PredictionOutput, Kernel, KernelClassifier\n",
    "from weka.experiments import SimpleCrossValidationExperiment, SimpleRandomSplitExperiment, Tester, ResultMatrix"
   ]
  },
  {
   "cell_type": "code",
   "execution_count": 4,
   "metadata": {},
   "outputs": [],
   "source": [
    "# Manually create plot function to be used later\n",
    "\n",
    "def plot_confusion_matrix(cm, title):\n",
    "\n",
    "  plt.gcf().clear()\n",
    "  fig = plt.figure(1)\n",
    "  classes = ['No Fraud', 'Fraud']\n",
    "  plt.imshow(cm, interpolation='none', cmap=plt.cm.BuGn, vmin=0, vmax=255)\n",
    "  plt.title(title)\n",
    "  tick_marks = np.arange(len(classes))\n",
    "  plt.xticks(tick_marks, classes)\n",
    "  plt.yticks(tick_marks, classes)\n",
    "\n",
    "  fmt = 'd'\n",
    "  thresh = 155\n",
    "  \n",
    "  for i, j in itertools.product(range(cm.shape[0]), range(cm.shape[1])):\n",
    "      plt.text(j, i, format(cm[i, j], fmt),\n",
    "               horizontalalignment=\"center\",\n",
    "               color=\"white\" if cm[i, j] > thresh else \"black\")\n",
    "\n",
    "  plt.tight_layout()\n",
    "  plt.ylabel('Actual')\n",
    "  plt.xlabel('Predicted') \n",
    "  \n",
    "  image = fig \n",
    "  display(image)\n",
    "  plt.close(fig)"
   ]
  },
  {
   "cell_type": "code",
   "execution_count": null,
   "metadata": {},
   "outputs": [],
   "source": []
  },
  {
   "cell_type": "markdown",
   "metadata": {},
   "source": [
    "### Step 2: Start Java Virtual Environment for WEKA"
   ]
  },
  {
   "cell_type": "code",
   "execution_count": 5,
   "metadata": {
    "application/vnd.databricks.v1+cell": {
     "inputWidgets": {},
     "nuid": "fe227d5d-ee51-46e1-9a8a-d3b8572b92fb",
     "showTitle": false,
     "title": ""
    }
   },
   "outputs": [
    {
     "name": "stderr",
     "output_type": "stream",
     "text": [
      "DEBUG:weka.core.jvm:Adding bundled jars\n",
      "DEBUG:weka.core.jvm:Classpath=['C:\\\\Miniconda\\\\envs\\\\py38_default\\\\Lib\\\\site-packages\\\\javabridge\\\\jars\\\\rhino-1.7R4.jar', 'C:\\\\Miniconda\\\\envs\\\\py38_default\\\\Lib\\\\site-packages\\\\javabridge\\\\jars\\\\runnablequeue.jar', 'C:\\\\Miniconda\\\\envs\\\\py38_default\\\\Lib\\\\site-packages\\\\javabridge\\\\jars\\\\cpython.jar', 'c:\\\\Miniconda\\\\envs\\\\py38_default\\\\lib\\\\site-packages\\\\weka\\\\lib\\\\python-weka-wrapper.jar', 'c:\\\\Miniconda\\\\envs\\\\py38_default\\\\lib\\\\site-packages\\\\weka\\\\lib\\\\weka.jar']\n",
      "DEBUG:weka.core.jvm:MaxHeapSize=16g\n",
      "DEBUG:weka.core.jvm:Package support enabled\n"
     ]
    }
   ],
   "source": [
    "# Start Java Virtual Environment for WEKA and allocate memory\n",
    "\n",
    "import weka.core.jvm as jvm\n",
    "jvm.start(packages=True,max_heap_size=\"16g\")"
   ]
  },
  {
   "cell_type": "code",
   "execution_count": null,
   "metadata": {},
   "outputs": [],
   "source": []
  },
  {
   "cell_type": "markdown",
   "metadata": {},
   "source": [
    "### Step 3: Convert CSV file and load data"
   ]
  },
  {
   "cell_type": "code",
   "execution_count": 6,
   "metadata": {},
   "outputs": [],
   "source": [
    "# Convert csv file to weka arff format and index classification column\n",
    "\n",
    "data_load = converters.load_any_file(\"2020Feb17to26.csv\", class_index=\"last-1\")\n",
    "data_convert = converters.save_any_file(data_load,\"2020Feb17to26.arff\")"
   ]
  },
  {
   "cell_type": "code",
   "execution_count": 7,
   "metadata": {},
   "outputs": [],
   "source": [
    "# Load arff file and index classification column\n",
    "\n",
    "loader = Loader(classname=\"weka.core.converters.ArffLoader\")\n",
    "dataset = loader.load_file(\"2020Feb17to26.arff\", class_index=\"last-1\")"
   ]
  },
  {
   "cell_type": "code",
   "execution_count": null,
   "metadata": {},
   "outputs": [],
   "source": []
  },
  {
   "cell_type": "markdown",
   "metadata": {},
   "source": [
    "### Step 4: Build and run models with WEKA algorithms"
   ]
  },
  {
   "cell_type": "markdown",
   "metadata": {},
   "source": [
    "#### Step 4A: Decision Tree"
   ]
  },
  {
   "cell_type": "code",
   "execution_count": 8,
   "metadata": {},
   "outputs": [
    {
     "name": "stdout",
     "output_type": "stream",
     "text": [
      "=== Decision Tree (J48) ===\n",
      "       a       b   <-- classified as\n",
      " 1402785       0 |       a = NoFraud\n",
      "     190       0 |       b = Fraud\n",
      "\n"
     ]
    }
   ],
   "source": [
    "# Build and run decision tree classification model with default options\n",
    "\n",
    "cls = Classifier(classname=\"weka.classifiers.trees.J48\", options=[\"-C\", \"0.3\"])\n",
    "cls.build_classifier(dataset)\n",
    "\n",
    "#print(cls.to_help()) # Run to_help function to view algorithm description and options details\n",
    "\n",
    "evl = Evaluation(dataset)\n",
    "evl.crossvalidate_model(cls, dataset, 10, Random(1))\n",
    "print(evl.matrix(\"=== Decision Tree (J48) ===\"))"
   ]
  },
  {
   "cell_type": "code",
   "execution_count": 9,
   "metadata": {},
   "outputs": [
    {
     "data": {
      "image/png": "[encoded data removed]",
      "text/plain": [
       "<Figure size 432x288 with 1 Axes>"
      ]
     },
     "metadata": {},
     "output_type": "display_data"
    },
    {
     "name": "stdout",
     "output_type": "stream",
     "text": [
      "F-Measure: nan\n",
      "Recall: 0.0\n"
     ]
    }
   ],
   "source": [
    "# Create array and print outcome matrix graphic with f measure and recall for positive classifier\n",
    "\n",
    "DT_matrix = np.array([[1402785, 0],\\\n",
    "                      [190, 0]])\n",
    "plot_confusion_matrix(DT_matrix, \"Outcome Matrix (Decision Tree)\")\n",
    "\n",
    "print(\"F-Measure: \" + str(evl.f_measure(1)))\n",
    "print(\"Recall: \" + str(evl.recall(1)))"
   ]
  },
  {
   "cell_type": "code",
   "execution_count": null,
   "metadata": {},
   "outputs": [],
   "source": []
  },
  {
   "cell_type": "markdown",
   "metadata": {},
   "source": [
    "#### Step 4B: Bayesian Network"
   ]
  },
  {
   "cell_type": "code",
   "execution_count": 10,
   "metadata": {},
   "outputs": [
    {
     "name": "stdout",
     "output_type": "stream",
     "text": [
      "=== Bayes Network ===\n",
      "       a       b   <-- classified as\n",
      " 1401756    1029 |       a = NoFraud\n",
      "       0     190 |       b = Fraud\n",
      "\n"
     ]
    }
   ],
   "source": [
    "# Build and run Bayesian Network classificaiton model with default options\n",
    "\n",
    "Nbn_cmdline = 'weka.classifiers.bayes.BayesNet -D -Q weka.classifiers.bayes.net.search.local.K2 -- -P 1 -S BAYES -E weka.classifiers.bayes.net.estimate.SimpleEstimator -- -A 0.5'\n",
    "Nbn_cls = from_commandline(Nbn_cmdline, classname=\"weka.classifiers.Classifier\")\n",
    "Nbn_cls.build_classifier(dataset)\n",
    "\n",
    "#print(Nbn_cls.to_help()) # Run to_help function to view algorithm description and options details\n",
    "\n",
    "Nbn_evl = Evaluation(dataset)\n",
    "Nbn_evl.crossvalidate_model(Nbn_cls, dataset, 10, Random(1))\n",
    "print(Nbn_evl.matrix(\"=== Bayes Network ===\"))"
   ]
  },
  {
   "cell_type": "code",
   "execution_count": 11,
   "metadata": {},
   "outputs": [
    {
     "data": {
      "image/png": "[encoded data removed]",
      "text/plain": [
       "<Figure size 432x288 with 1 Axes>"
      ]
     },
     "metadata": {},
     "output_type": "display_data"
    },
    {
     "name": "stdout",
     "output_type": "stream",
     "text": [
      "F-Measure: 0.269694819020582\n",
      "Recall: 1.0\n"
     ]
    }
   ],
   "source": [
    "# Create array and print outcome matrix graphic with f measure and recall for positive classifier\n",
    "\n",
    "Nbn_matrix = np.array([[1401756, 1029],\\\n",
    "                       [0, 190]])\n",
    "plot_confusion_matrix(Nbn_matrix, \"Outcome Matrix (Bayesian Network)\")\n",
    "\n",
    "print(\"F-Measure: \" + str(Nbn_evl.f_measure(1)))\n",
    "print(\"Recall: \" + str(Nbn_evl.recall(1)))"
   ]
  },
  {
   "cell_type": "code",
   "execution_count": null,
   "metadata": {},
   "outputs": [],
   "source": []
  },
  {
   "cell_type": "markdown",
   "metadata": {},
   "source": [
    "#### Step 4C: Bayesian Network Ensemble"
   ]
  },
  {
   "cell_type": "code",
   "execution_count": 12,
   "metadata": {},
   "outputs": [
    {
     "name": "stdout",
     "output_type": "stream",
     "text": [
      "=== AdaBoost Bayes Network ===\n",
      "       a       b   <-- classified as\n",
      " 1402640     145 |       a = NoFraud\n",
      "       0     190 |       b = Fraud\n",
      "\n"
     ]
    }
   ],
   "source": [
    "# Build and run Bayesian Network model with adaptive boosting ensemble algorithm\n",
    "\n",
    "B_Nbn_cmdline = 'weka.classifiers.meta.AdaBoostM1 -P 100 -S 1 -I 10 -W weka.classifiers.bayes.BayesNet -- -D -Q weka.classifiers.bayes.net.search.local.K2 -- -P 1 -S BAYES -E weka.classifiers.bayes.net.estimate.SimpleEstimator -- -A 0.5'\n",
    "B_Nbn_cls = from_commandline(B_Nbn_cmdline, classname=\"weka.classifiers.Classifier\")\n",
    "B_Nbn_cls.build_classifier(dataset)\n",
    "\n",
    "#print(B_Nbn_cls.to_help()) # Run to_help function to view algorithm description and options details\n",
    "\n",
    "B_Nbn_evl = Evaluation(dataset)\n",
    "B_Nbn_evl.crossvalidate_model(B_Nbn_cls, dataset, 10, Random(1))\n",
    "print(B_Nbn_evl.matrix(\"=== AdaBoost Bayes Network ===\"))"
   ]
  },
  {
   "cell_type": "code",
   "execution_count": 13,
   "metadata": {},
   "outputs": [
    {
     "data": {
      "image/png": "[encoded data removed]",
      "text/plain": [
       "<Figure size 432x288 with 1 Axes>"
      ]
     },
     "metadata": {},
     "output_type": "display_data"
    },
    {
     "name": "stdout",
     "output_type": "stream",
     "text": [
      "F-Measure: 0.7238095238095238\n",
      "Recall: 1.0\n"
     ]
    }
   ],
   "source": [
    "# Create array and print outcome matrix graphic with f measure and recall for positive classifier\n",
    "\n",
    "B_Nbn_matrix = np.array([[1402640, 145],\\\n",
    "                         [0, 190]])\n",
    "plot_confusion_matrix(B_Nbn_matrix, \"Outcome Matrix (Boosted Bayesian Network)\")\n",
    "\n",
    "print(\"F-Measure: \" + str(B_Nbn_evl.f_measure(1)))\n",
    "print(\"Recall: \" + str(B_Nbn_evl.recall(1)))"
   ]
  },
  {
   "cell_type": "code",
   "execution_count": null,
   "metadata": {},
   "outputs": [],
   "source": []
  },
  {
   "cell_type": "markdown",
   "metadata": {},
   "source": [
    "#### Step 4D: Decision Stump Ensemble"
   ]
  },
  {
   "cell_type": "code",
   "execution_count": 14,
   "metadata": {},
   "outputs": [
    {
     "name": "stdout",
     "output_type": "stream",
     "text": [
      "=== AdaBoost Decision Stump ===\n",
      "       a       b   <-- classified as\n",
      " 1402778       7 |       a = NoFraud\n",
      "       0     190 |       b = Fraud\n",
      "\n"
     ]
    }
   ],
   "source": [
    "# Build and run Decision Stump model with adaptive boosting ensemble algorithm \n",
    "\n",
    "B_DS_cmdline = 'weka.classifiers.meta.AdaBoostM1 -P 100 -S 1 -I 10 -W weka.classifiers.trees.DecisionStump'\n",
    "B_DS_cls = from_commandline(B_DS_cmdline, classname=\"weka.classifiers.Classifier\")\n",
    "B_DS_cls.build_classifier(dataset)\n",
    "\n",
    "#print(B_DS_cls.to_help()) # Run to_help function to view algorithm description and options details\n",
    "\n",
    "B_DS_evl = Evaluation(dataset)\n",
    "B_DS_evl.crossvalidate_model(B_DS_cls, dataset, 10, Random(1))\n",
    "print(B_DS_evl.matrix(\"=== AdaBoost Decision Stump ===\"))"
   ]
  },
  {
   "cell_type": "code",
   "execution_count": 15,
   "metadata": {},
   "outputs": [
    {
     "data": {
      "image/png": "[encoded data removed]",
      "text/plain": [
       "<Figure size 432x288 with 1 Axes>"
      ]
     },
     "metadata": {},
     "output_type": "display_data"
    },
    {
     "name": "stdout",
     "output_type": "stream",
     "text": [
      "F-Measure: 0.9819121447028424\n",
      "Recall: 1.0\n"
     ]
    }
   ],
   "source": [
    "# Create array and print outcome matrix graphic with f measure and recall for positive classifier\n",
    "\n",
    "B_Nbn_matrix = np.array([[1402778, 7],\\\n",
    "                         [0, 190]])\n",
    "plot_confusion_matrix(B_Nbn_matrix, \"Outcome Matrix (Boosted Decision Stump)\")\n",
    "\n",
    "print(\"F-Measure: \" + str(B_DS_evl.f_measure(1)))\n",
    "print(\"Recall: \" + str(B_DS_evl.recall(1)))"
   ]
  },
  {
   "cell_type": "code",
   "execution_count": null,
   "metadata": {},
   "outputs": [],
   "source": []
  },
  {
   "cell_type": "markdown",
   "metadata": {},
   "source": [
    "#### Step 4E: Bayesian Network Ensemble w/o IP Address Attribute"
   ]
  },
  {
   "cell_type": "code",
   "execution_count": 16,
   "metadata": {},
   "outputs": [],
   "source": [
    "# Filter dataset to exclude IP address column (2nd column in dataset)\n",
    "\n",
    "remove = Filter(classname=\"weka.filters.unsupervised.attribute.Remove\", options=[\"-R\", \"2\"])\n",
    "remove.inputformat(dataset)\n",
    "dataset_filtered = remove.filter(dataset)"
   ]
  },
  {
   "cell_type": "code",
   "execution_count": 17,
   "metadata": {},
   "outputs": [
    {
     "name": "stdout",
     "output_type": "stream",
     "text": [
      "=== AdaBoost Bayes Network w/o IP ===\n",
      "       a       b   <-- classified as\n",
      " 1402618     167 |       a = NoFraud\n",
      "      22     168 |       b = Fraud\n",
      "\n"
     ]
    }
   ],
   "source": [
    "# Build and run Bayesian Network model without IP address attribute and with adaptive boosting ensemble algorithm\n",
    "\n",
    "NoIP_B_Nbn_cmdline = 'weka.classifiers.meta.AdaBoostM1 -P 100 -S 1 -I 10 -W weka.classifiers.bayes.BayesNet -- -D -Q weka.classifiers.bayes.net.search.local.K2 -- -P 1 -S BAYES -E weka.classifiers.bayes.net.estimate.SimpleEstimator -- -A 0.5'\n",
    "NoIP_B_Nbn_cls = from_commandline(NoIP_B_Nbn_cmdline, classname=\"weka.classifiers.Classifier\")\n",
    "NoIP_B_Nbn_cls.build_classifier(dataset_filtered)\n",
    "\n",
    "#print(NoIP_B_Nbn_cls.to_help()) # Run to_help function to view algorithm description and options details\n",
    "\n",
    "NoIP_B_Nbn_evl = Evaluation(dataset_filtered)\n",
    "NoIP_B_Nbn_evl.crossvalidate_model(NoIP_B_Nbn_cls, dataset_filtered, 10, Random(1))\n",
    "print(NoIP_B_Nbn_evl.matrix(\"=== AdaBoost Bayes Network w/o IP ===\"))"
   ]
  },
  {
   "cell_type": "code",
   "execution_count": 18,
   "metadata": {},
   "outputs": [
    {
     "data": {
      "image/png": "[encoded data removed]",
      "text/plain": [
       "<Figure size 432x288 with 1 Axes>"
      ]
     },
     "metadata": {},
     "output_type": "display_data"
    },
    {
     "name": "stdout",
     "output_type": "stream",
     "text": [
      "F-Measure: 0.6399999999999999\n",
      "Recall: 0.8842105263157894\n"
     ]
    }
   ],
   "source": [
    "# Create array and print outcome matrix graphic with f measure and recall for positive classifier\n",
    "\n",
    "NoIP_B_Nbn_matrix = np.array([[1402618, 167],\\\n",
    "                         [22, 168]])\n",
    "plot_confusion_matrix(NoIP_B_Nbn_matrix, \"Outcome Matrix (Boosted Bayesian Network w/o IP)\")\n",
    "\n",
    "print(\"F-Measure: \" + str(NoIP_B_Nbn_evl.f_measure(1)))\n",
    "print(\"Recall: \" + str(NoIP_B_Nbn_evl.recall(1)))"
   ]
  },
  {
   "cell_type": "code",
   "execution_count": null,
   "metadata": {},
   "outputs": [],
   "source": []
  },
  {
   "cell_type": "code",
   "execution_count": null,
   "metadata": {},
   "outputs": [],
   "source": []
  },
  {
   "cell_type": "markdown",
   "metadata": {},
   "source": [
    "### Step 5: Close Java Virtual Environment for WEKA"
   ]
  },
  {
   "cell_type": "code",
   "execution_count": 19,
   "metadata": {
    "application/vnd.databricks.v1+cell": {
     "inputWidgets": {},
     "nuid": "e96bd695-1704-444e-a269-cd4ce1c88d90",
     "showTitle": false,
     "title": ""
    }
   },
   "outputs": [],
   "source": [
    "# Stop JVM. May need to restart compute cluster or jupyter kernal if jvm restart is required.\n",
    "\n",
    "# jvm.stop()"
   ]
  }
 ],
 "metadata": {
  "application/vnd.databricks.v1+notebook": {
   "dashboards": [],
   "language": "python",
   "notebookMetadata": {
    "pythonIndentUnit": 2
   },
   "notebookName": "pww",
   "notebookOrigID": 1214799341707741,
   "widgets": {}
  },
  "kernelspec": {
   "display_name": "Python 3",
   "language": "python",
   "name": "python3"
  },
  "language_info": {
   "codemirror_mode": {
    "name": "ipython",
    "version": 3
   },
   "file_extension": ".py",
   "mimetype": "text/x-python",
   "name": "python",
   "nbconvert_exporter": "python",
   "pygments_lexer": "ipython3",
   "version": "3.8.5"
  }
 },
 "nbformat": 4,
 "nbformat_minor": 4
}
