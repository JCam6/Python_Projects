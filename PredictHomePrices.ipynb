{
 "cells": [
  {
   "cell_type": "markdown",
   "metadata": {},
   "source": [
    "## **CYBR7240 Assignment 6**\n",
    "#### Jermaine Cameron\n",
    "#### April 28, 2021"
   ]
  },
  {
   "cell_type": "markdown",
   "metadata": {},
   "source": [
    "\n",
    "### **Part 1: Process the data. The following steps will be completed first:**\n",
    "\n",
    "###    - Read in the CSV file and convert to arrays.\n",
    "###    - Split dataset into the input features and the label.\n",
    "###    - Scale data so that the input features have similar orders of magnitude.\n",
    "###    - Split dataset into the training set, the validation set and the test set."
   ]
  },
  {
   "cell_type": "code",
   "execution_count": 1,
   "metadata": {},
   "outputs": [],
   "source": [
    "import pandas as pd"
   ]
  },
  {
   "cell_type": "code",
   "execution_count": 2,
   "metadata": {},
   "outputs": [],
   "source": [
    "df = pd.read_csv('housepricedata.csv')"
   ]
  },
  {
   "cell_type": "code",
   "execution_count": 3,
   "metadata": {
    "collapsed": true,
    "jupyter": {
     "outputs_hidden": true
    },
    "tags": []
   },
   "outputs": [
    {
     "data": {
      "text/html": [
       "<div>\n",
       "<style scoped>\n",
       "    .dataframe tbody tr th:only-of-type {\n",
       "        vertical-align: middle;\n",
       "    }\n",
       "\n",
       "    .dataframe tbody tr th {\n",
       "        vertical-align: top;\n",
       "    }\n",
       "\n",
       "    .dataframe thead th {\n",
       "        text-align: right;\n",
       "    }\n",
       "</style>\n",
       "<table border=\"1\" class=\"dataframe\">\n",
       "  <thead>\n",
       "    <tr style=\"text-align: right;\">\n",
       "      <th></th>\n",
       "      <th>LotArea</th>\n",
       "      <th>OverallQual</th>\n",
       "      <th>OverallCond</th>\n",
       "      <th>TotalBsmtSF</th>\n",
       "      <th>FullBath</th>\n",
       "      <th>HalfBath</th>\n",
       "      <th>BedroomAbvGr</th>\n",
       "      <th>TotRmsAbvGrd</th>\n",
       "      <th>Fireplaces</th>\n",
       "      <th>GarageArea</th>\n",
       "      <th>AboveMedianPrice</th>\n",
       "    </tr>\n",
       "  </thead>\n",
       "  <tbody>\n",
       "    <tr>\n",
       "      <th>0</th>\n",
       "      <td>8450</td>\n",
       "      <td>7</td>\n",
       "      <td>5</td>\n",
       "      <td>856</td>\n",
       "      <td>2</td>\n",
       "      <td>1</td>\n",
       "      <td>3</td>\n",
       "      <td>8</td>\n",
       "      <td>0</td>\n",
       "      <td>548</td>\n",
       "      <td>1</td>\n",
       "    </tr>\n",
       "    <tr>\n",
       "      <th>1</th>\n",
       "      <td>9600</td>\n",
       "      <td>6</td>\n",
       "      <td>8</td>\n",
       "      <td>1262</td>\n",
       "      <td>2</td>\n",
       "      <td>0</td>\n",
       "      <td>3</td>\n",
       "      <td>6</td>\n",
       "      <td>1</td>\n",
       "      <td>460</td>\n",
       "      <td>1</td>\n",
       "    </tr>\n",
       "    <tr>\n",
       "      <th>2</th>\n",
       "      <td>11250</td>\n",
       "      <td>7</td>\n",
       "      <td>5</td>\n",
       "      <td>920</td>\n",
       "      <td>2</td>\n",
       "      <td>1</td>\n",
       "      <td>3</td>\n",
       "      <td>6</td>\n",
       "      <td>1</td>\n",
       "      <td>608</td>\n",
       "      <td>1</td>\n",
       "    </tr>\n",
       "    <tr>\n",
       "      <th>3</th>\n",
       "      <td>9550</td>\n",
       "      <td>7</td>\n",
       "      <td>5</td>\n",
       "      <td>756</td>\n",
       "      <td>1</td>\n",
       "      <td>0</td>\n",
       "      <td>3</td>\n",
       "      <td>7</td>\n",
       "      <td>1</td>\n",
       "      <td>642</td>\n",
       "      <td>0</td>\n",
       "    </tr>\n",
       "    <tr>\n",
       "      <th>4</th>\n",
       "      <td>14260</td>\n",
       "      <td>8</td>\n",
       "      <td>5</td>\n",
       "      <td>1145</td>\n",
       "      <td>2</td>\n",
       "      <td>1</td>\n",
       "      <td>4</td>\n",
       "      <td>9</td>\n",
       "      <td>1</td>\n",
       "      <td>836</td>\n",
       "      <td>1</td>\n",
       "    </tr>\n",
       "    <tr>\n",
       "      <th>...</th>\n",
       "      <td>...</td>\n",
       "      <td>...</td>\n",
       "      <td>...</td>\n",
       "      <td>...</td>\n",
       "      <td>...</td>\n",
       "      <td>...</td>\n",
       "      <td>...</td>\n",
       "      <td>...</td>\n",
       "      <td>...</td>\n",
       "      <td>...</td>\n",
       "      <td>...</td>\n",
       "    </tr>\n",
       "    <tr>\n",
       "      <th>1455</th>\n",
       "      <td>7917</td>\n",
       "      <td>6</td>\n",
       "      <td>5</td>\n",
       "      <td>953</td>\n",
       "      <td>2</td>\n",
       "      <td>1</td>\n",
       "      <td>3</td>\n",
       "      <td>7</td>\n",
       "      <td>1</td>\n",
       "      <td>460</td>\n",
       "      <td>1</td>\n",
       "    </tr>\n",
       "    <tr>\n",
       "      <th>1456</th>\n",
       "      <td>13175</td>\n",
       "      <td>6</td>\n",
       "      <td>6</td>\n",
       "      <td>1542</td>\n",
       "      <td>2</td>\n",
       "      <td>0</td>\n",
       "      <td>3</td>\n",
       "      <td>7</td>\n",
       "      <td>2</td>\n",
       "      <td>500</td>\n",
       "      <td>1</td>\n",
       "    </tr>\n",
       "    <tr>\n",
       "      <th>1457</th>\n",
       "      <td>9042</td>\n",
       "      <td>7</td>\n",
       "      <td>9</td>\n",
       "      <td>1152</td>\n",
       "      <td>2</td>\n",
       "      <td>0</td>\n",
       "      <td>4</td>\n",
       "      <td>9</td>\n",
       "      <td>2</td>\n",
       "      <td>252</td>\n",
       "      <td>1</td>\n",
       "    </tr>\n",
       "    <tr>\n",
       "      <th>1458</th>\n",
       "      <td>9717</td>\n",
       "      <td>5</td>\n",
       "      <td>6</td>\n",
       "      <td>1078</td>\n",
       "      <td>1</td>\n",
       "      <td>0</td>\n",
       "      <td>2</td>\n",
       "      <td>5</td>\n",
       "      <td>0</td>\n",
       "      <td>240</td>\n",
       "      <td>0</td>\n",
       "    </tr>\n",
       "    <tr>\n",
       "      <th>1459</th>\n",
       "      <td>9937</td>\n",
       "      <td>5</td>\n",
       "      <td>6</td>\n",
       "      <td>1256</td>\n",
       "      <td>1</td>\n",
       "      <td>1</td>\n",
       "      <td>3</td>\n",
       "      <td>6</td>\n",
       "      <td>0</td>\n",
       "      <td>276</td>\n",
       "      <td>0</td>\n",
       "    </tr>\n",
       "  </tbody>\n",
       "</table>\n",
       "<p>1460 rows × 11 columns</p>\n",
       "</div>"
      ],
      "text/plain": [
       "      LotArea  OverallQual  OverallCond  TotalBsmtSF  FullBath  HalfBath  \\\n",
       "0        8450            7            5          856         2         1   \n",
       "1        9600            6            8         1262         2         0   \n",
       "2       11250            7            5          920         2         1   \n",
       "3        9550            7            5          756         1         0   \n",
       "4       14260            8            5         1145         2         1   \n",
       "...       ...          ...          ...          ...       ...       ...   \n",
       "1455     7917            6            5          953         2         1   \n",
       "1456    13175            6            6         1542         2         0   \n",
       "1457     9042            7            9         1152         2         0   \n",
       "1458     9717            5            6         1078         1         0   \n",
       "1459     9937            5            6         1256         1         1   \n",
       "\n",
       "      BedroomAbvGr  TotRmsAbvGrd  Fireplaces  GarageArea  AboveMedianPrice  \n",
       "0                3             8           0         548                 1  \n",
       "1                3             6           1         460                 1  \n",
       "2                3             6           1         608                 1  \n",
       "3                3             7           1         642                 0  \n",
       "4                4             9           1         836                 1  \n",
       "...            ...           ...         ...         ...               ...  \n",
       "1455             3             7           1         460                 1  \n",
       "1456             3             7           2         500                 1  \n",
       "1457             4             9           2         252                 1  \n",
       "1458             2             5           0         240                 0  \n",
       "1459             3             6           0         276                 0  \n",
       "\n",
       "[1460 rows x 11 columns]"
      ]
     },
     "execution_count": 3,
     "metadata": {},
     "output_type": "execute_result"
    }
   ],
   "source": [
    "df"
   ]
  },
  {
   "cell_type": "code",
   "execution_count": 4,
   "metadata": {},
   "outputs": [],
   "source": [
    "dataset = df.values"
   ]
  },
  {
   "cell_type": "code",
   "execution_count": 5,
   "metadata": {},
   "outputs": [
    {
     "data": {
      "text/plain": [
       "array([[ 8450,     7,     5, ...,     0,   548,     1],\n",
       "       [ 9600,     6,     8, ...,     1,   460,     1],\n",
       "       [11250,     7,     5, ...,     1,   608,     1],\n",
       "       ...,\n",
       "       [ 9042,     7,     9, ...,     2,   252,     1],\n",
       "       [ 9717,     5,     6, ...,     0,   240,     0],\n",
       "       [ 9937,     5,     6, ...,     0,   276,     0]], dtype=int64)"
      ]
     },
     "execution_count": 5,
     "metadata": {},
     "output_type": "execute_result"
    }
   ],
   "source": [
    "dataset"
   ]
  },
  {
   "cell_type": "code",
   "execution_count": 6,
   "metadata": {},
   "outputs": [],
   "source": [
    "X = dataset[:,0:10]"
   ]
  },
  {
   "cell_type": "code",
   "execution_count": 7,
   "metadata": {},
   "outputs": [],
   "source": [
    "Y = dataset[:,10]"
   ]
  },
  {
   "cell_type": "code",
   "execution_count": 8,
   "metadata": {},
   "outputs": [],
   "source": [
    "from sklearn import preprocessing"
   ]
  },
  {
   "cell_type": "code",
   "execution_count": 9,
   "metadata": {},
   "outputs": [],
   "source": [
    "min_max_scaler = preprocessing.MinMaxScaler()\n",
    "X_scale = min_max_scaler.fit_transform(X)"
   ]
  },
  {
   "cell_type": "code",
   "execution_count": 10,
   "metadata": {},
   "outputs": [
    {
     "data": {
      "text/plain": [
       "array([[0.0334198 , 0.66666667, 0.5       , ..., 0.5       , 0.        ,\n",
       "        0.3864598 ],\n",
       "       [0.03879502, 0.55555556, 0.875     , ..., 0.33333333, 0.33333333,\n",
       "        0.32440056],\n",
       "       [0.04650728, 0.66666667, 0.5       , ..., 0.33333333, 0.33333333,\n",
       "        0.42877292],\n",
       "       ...,\n",
       "       [0.03618687, 0.66666667, 1.        , ..., 0.58333333, 0.66666667,\n",
       "        0.17771509],\n",
       "       [0.03934189, 0.44444444, 0.625     , ..., 0.25      , 0.        ,\n",
       "        0.16925247],\n",
       "       [0.04037019, 0.44444444, 0.625     , ..., 0.33333333, 0.        ,\n",
       "        0.19464034]])"
      ]
     },
     "execution_count": 10,
     "metadata": {},
     "output_type": "execute_result"
    }
   ],
   "source": [
    "X_scale"
   ]
  },
  {
   "cell_type": "code",
   "execution_count": 11,
   "metadata": {},
   "outputs": [],
   "source": [
    "from sklearn.model_selection import train_test_split"
   ]
  },
  {
   "cell_type": "code",
   "execution_count": 12,
   "metadata": {},
   "outputs": [],
   "source": [
    "X_train, X_val_and_test, Y_train, Y_val_and_test = train_test_split(X_scale, Y, test_size=0.3)"
   ]
  },
  {
   "cell_type": "code",
   "execution_count": 13,
   "metadata": {},
   "outputs": [],
   "source": [
    "X_val, X_test, Y_val, Y_test = train_test_split(X_val_and_test, Y_val_and_test, test_size=0.5)"
   ]
  },
  {
   "cell_type": "code",
   "execution_count": 14,
   "metadata": {},
   "outputs": [
    {
     "name": "stdout",
     "output_type": "stream",
     "text": [
      "(1022, 10) (219, 10) (219, 10) (1022,) (219,) (219,)\n"
     ]
    }
   ],
   "source": [
    "print(X_train.shape, X_val.shape, X_test.shape, Y_train.shape, Y_val.shape, Y_test.shape)"
   ]
  },
  {
   "cell_type": "markdown",
   "metadata": {},
   "source": [
    "### **Part 2: Building and Training the Neural Network. The following steps will be completed next:**\n",
    "### - Set up the architecture.\n",
    "### - Train and evaluate the model."
   ]
  },
  {
   "cell_type": "code",
   "execution_count": 15,
   "metadata": {},
   "outputs": [],
   "source": [
    "from keras.models import Sequential\n",
    "from keras.layers import Dense"
   ]
  },
  {
   "cell_type": "code",
   "execution_count": 16,
   "metadata": {},
   "outputs": [],
   "source": [
    "model = Sequential([\n",
    "    Dense(32, activation='relu', input_shape=(10,)),\n",
    "    Dense(32, activation='relu'),\n",
    "    Dense(1, activation='sigmoid'),\n",
    "])"
   ]
  },
  {
   "cell_type": "code",
   "execution_count": 17,
   "metadata": {},
   "outputs": [],
   "source": [
    "model.compile(optimizer='sgd',\n",
    "              loss='binary_crossentropy',\n",
    "              metrics=['accuracy'])"
   ]
  },
  {
   "cell_type": "code",
   "execution_count": 18,
   "metadata": {
    "collapsed": true,
    "jupyter": {
     "outputs_hidden": true
    },
    "tags": []
   },
   "outputs": [
    {
     "name": "stdout",
     "output_type": "stream",
     "text": [
      "Epoch 1/100\n",
      "32/32 [==============================] - 0s 5ms/step - loss: 0.6695 - accuracy: 0.5137 - val_loss: 0.6881 - val_accuracy: 0.4521\n",
      "Epoch 2/100\n",
      "32/32 [==============================] - 0s 2ms/step - loss: 0.6626 - accuracy: 0.5137 - val_loss: 0.6802 - val_accuracy: 0.4521\n",
      "Epoch 3/100\n",
      "32/32 [==============================] - 0s 2ms/step - loss: 0.6568 - accuracy: 0.5147 - val_loss: 0.6737 - val_accuracy: 0.4521\n",
      "Epoch 4/100\n",
      "32/32 [==============================] - 0s 2ms/step - loss: 0.6516 - accuracy: 0.5147 - val_loss: 0.6679 - val_accuracy: 0.4521\n",
      "Epoch 5/100\n",
      "32/32 [==============================] - 0s 2ms/step - loss: 0.6464 - accuracy: 0.5274 - val_loss: 0.6630 - val_accuracy: 0.4658\n",
      "Epoch 6/100\n",
      "32/32 [==============================] - 0s 2ms/step - loss: 0.6416 - accuracy: 0.5382 - val_loss: 0.6579 - val_accuracy: 0.4886\n",
      "Epoch 7/100\n",
      "32/32 [==============================] - 0s 2ms/step - loss: 0.6365 - accuracy: 0.6008 - val_loss: 0.6532 - val_accuracy: 0.5525\n",
      "Epoch 8/100\n",
      "32/32 [==============================] - 0s 2ms/step - loss: 0.6314 - accuracy: 0.6507 - val_loss: 0.6483 - val_accuracy: 0.5799\n",
      "Epoch 9/100\n",
      "32/32 [==============================] - 0s 1ms/step - loss: 0.6260 - accuracy: 0.6703 - val_loss: 0.6430 - val_accuracy: 0.6347\n",
      "Epoch 10/100\n",
      "32/32 [==============================] - 0s 2ms/step - loss: 0.6203 - accuracy: 0.7025 - val_loss: 0.6376 - val_accuracy: 0.6575\n",
      "Epoch 11/100\n",
      "32/32 [==============================] - 0s 2ms/step - loss: 0.6145 - accuracy: 0.7407 - val_loss: 0.6328 - val_accuracy: 0.6758\n",
      "Epoch 12/100\n",
      "32/32 [==============================] - 0s 1ms/step - loss: 0.6084 - accuracy: 0.7564 - val_loss: 0.6281 - val_accuracy: 0.6849\n",
      "Epoch 13/100\n",
      "32/32 [==============================] - 0s 1ms/step - loss: 0.6022 - accuracy: 0.7495 - val_loss: 0.6218 - val_accuracy: 0.6941\n",
      "Epoch 14/100\n",
      "32/32 [==============================] - 0s 2ms/step - loss: 0.5957 - accuracy: 0.7701 - val_loss: 0.6156 - val_accuracy: 0.7078\n",
      "Epoch 15/100\n",
      "32/32 [==============================] - 0s 2ms/step - loss: 0.5890 - accuracy: 0.7945 - val_loss: 0.6100 - val_accuracy: 0.7215\n",
      "Epoch 16/100\n",
      "32/32 [==============================] - 0s 2ms/step - loss: 0.5824 - accuracy: 0.8014 - val_loss: 0.6040 - val_accuracy: 0.7489\n",
      "Epoch 17/100\n",
      "32/32 [==============================] - 0s 2ms/step - loss: 0.5754 - accuracy: 0.8043 - val_loss: 0.5977 - val_accuracy: 0.7626\n",
      "Epoch 18/100\n",
      "32/32 [==============================] - 0s 2ms/step - loss: 0.5682 - accuracy: 0.8092 - val_loss: 0.5908 - val_accuracy: 0.7945\n",
      "Epoch 19/100\n",
      "32/32 [==============================] - 0s 2ms/step - loss: 0.5612 - accuracy: 0.8268 - val_loss: 0.5855 - val_accuracy: 0.7945\n",
      "Epoch 20/100\n",
      "32/32 [==============================] - 0s 2ms/step - loss: 0.5540 - accuracy: 0.8249 - val_loss: 0.5782 - val_accuracy: 0.8082\n",
      "Epoch 21/100\n",
      "32/32 [==============================] - 0s 2ms/step - loss: 0.5468 - accuracy: 0.8356 - val_loss: 0.5727 - val_accuracy: 0.8128\n",
      "Epoch 22/100\n",
      "32/32 [==============================] - 0s 2ms/step - loss: 0.5394 - accuracy: 0.8376 - val_loss: 0.5657 - val_accuracy: 0.8128\n",
      "Epoch 23/100\n",
      "32/32 [==============================] - 0s 1ms/step - loss: 0.5319 - accuracy: 0.8415 - val_loss: 0.5599 - val_accuracy: 0.8128\n",
      "Epoch 24/100\n",
      "32/32 [==============================] - 0s 1ms/step - loss: 0.5244 - accuracy: 0.8337 - val_loss: 0.5517 - val_accuracy: 0.8174\n",
      "Epoch 25/100\n",
      "32/32 [==============================] - 0s 2ms/step - loss: 0.5172 - accuracy: 0.8434 - val_loss: 0.5462 - val_accuracy: 0.8128\n",
      "Epoch 26/100\n",
      "32/32 [==============================] - 0s 2ms/step - loss: 0.5099 - accuracy: 0.8464 - val_loss: 0.5402 - val_accuracy: 0.8082\n",
      "Epoch 27/100\n",
      "32/32 [==============================] - 0s 1ms/step - loss: 0.5024 - accuracy: 0.8444 - val_loss: 0.5338 - val_accuracy: 0.8174\n",
      "Epoch 28/100\n",
      "32/32 [==============================] - 0s 2ms/step - loss: 0.4951 - accuracy: 0.8454 - val_loss: 0.5271 - val_accuracy: 0.8265\n",
      "Epoch 29/100\n",
      "32/32 [==============================] - 0s 1ms/step - loss: 0.4879 - accuracy: 0.8503 - val_loss: 0.5213 - val_accuracy: 0.8265\n",
      "Epoch 30/100\n",
      "32/32 [==============================] - 0s 2ms/step - loss: 0.4807 - accuracy: 0.8464 - val_loss: 0.5141 - val_accuracy: 0.8356\n",
      "Epoch 31/100\n",
      "32/32 [==============================] - 0s 2ms/step - loss: 0.4734 - accuracy: 0.8523 - val_loss: 0.5080 - val_accuracy: 0.8402\n",
      "Epoch 32/100\n",
      "32/32 [==============================] - 0s 2ms/step - loss: 0.4665 - accuracy: 0.8513 - val_loss: 0.5011 - val_accuracy: 0.8493\n",
      "Epoch 33/100\n",
      "32/32 [==============================] - 0s 2ms/step - loss: 0.4597 - accuracy: 0.8532 - val_loss: 0.4943 - val_accuracy: 0.8493\n",
      "Epoch 34/100\n",
      "32/32 [==============================] - 0s 2ms/step - loss: 0.4529 - accuracy: 0.8532 - val_loss: 0.4880 - val_accuracy: 0.8539\n",
      "Epoch 35/100\n",
      "32/32 [==============================] - 0s 2ms/step - loss: 0.4464 - accuracy: 0.8581 - val_loss: 0.4824 - val_accuracy: 0.8584\n",
      "Epoch 36/100\n",
      "32/32 [==============================] - 0s 2ms/step - loss: 0.4396 - accuracy: 0.8640 - val_loss: 0.4769 - val_accuracy: 0.8584\n",
      "Epoch 37/100\n",
      "32/32 [==============================] - 0s 2ms/step - loss: 0.4332 - accuracy: 0.8630 - val_loss: 0.4711 - val_accuracy: 0.8584\n",
      "Epoch 38/100\n",
      "32/32 [==============================] - 0s 1ms/step - loss: 0.4271 - accuracy: 0.8659 - val_loss: 0.4668 - val_accuracy: 0.8539\n",
      "Epoch 39/100\n",
      "32/32 [==============================] - 0s 2ms/step - loss: 0.4209 - accuracy: 0.8640 - val_loss: 0.4612 - val_accuracy: 0.8584\n",
      "Epoch 40/100\n",
      "32/32 [==============================] - 0s 2ms/step - loss: 0.4146 - accuracy: 0.8650 - val_loss: 0.4546 - val_accuracy: 0.8721\n",
      "Epoch 41/100\n",
      "32/32 [==============================] - 0s 1ms/step - loss: 0.4089 - accuracy: 0.8679 - val_loss: 0.4509 - val_accuracy: 0.8630\n",
      "Epoch 42/100\n",
      "32/32 [==============================] - 0s 2ms/step - loss: 0.4031 - accuracy: 0.8699 - val_loss: 0.4454 - val_accuracy: 0.8721\n",
      "Epoch 43/100\n",
      "32/32 [==============================] - 0s 2ms/step - loss: 0.3976 - accuracy: 0.8689 - val_loss: 0.4401 - val_accuracy: 0.8721\n",
      "Epoch 44/100\n",
      "32/32 [==============================] - 0s 2ms/step - loss: 0.3924 - accuracy: 0.8699 - val_loss: 0.4350 - val_accuracy: 0.8767\n",
      "Epoch 45/100\n",
      "32/32 [==============================] - 0s 2ms/step - loss: 0.3875 - accuracy: 0.8699 - val_loss: 0.4300 - val_accuracy: 0.8721\n",
      "Epoch 46/100\n",
      "32/32 [==============================] - 0s 2ms/step - loss: 0.3824 - accuracy: 0.8699 - val_loss: 0.4264 - val_accuracy: 0.8767\n",
      "Epoch 47/100\n",
      "32/32 [==============================] - 0s 2ms/step - loss: 0.3777 - accuracy: 0.8708 - val_loss: 0.4218 - val_accuracy: 0.8721\n",
      "Epoch 48/100\n",
      "32/32 [==============================] - 0s 1ms/step - loss: 0.3730 - accuracy: 0.8718 - val_loss: 0.4177 - val_accuracy: 0.8767\n",
      "Epoch 49/100\n",
      "32/32 [==============================] - 0s 2ms/step - loss: 0.3688 - accuracy: 0.8728 - val_loss: 0.4132 - val_accuracy: 0.8858\n",
      "Epoch 50/100\n",
      "32/32 [==============================] - 0s 2ms/step - loss: 0.3644 - accuracy: 0.8718 - val_loss: 0.4115 - val_accuracy: 0.8721\n",
      "Epoch 51/100\n",
      "32/32 [==============================] - 0s 2ms/step - loss: 0.3604 - accuracy: 0.8738 - val_loss: 0.4075 - val_accuracy: 0.8767\n",
      "Epoch 52/100\n",
      "32/32 [==============================] - 0s 2ms/step - loss: 0.3566 - accuracy: 0.8718 - val_loss: 0.4031 - val_accuracy: 0.8858\n",
      "Epoch 53/100\n",
      "32/32 [==============================] - 0s 1ms/step - loss: 0.3532 - accuracy: 0.8777 - val_loss: 0.3998 - val_accuracy: 0.8904\n",
      "Epoch 54/100\n",
      "32/32 [==============================] - 0s 1ms/step - loss: 0.3495 - accuracy: 0.8738 - val_loss: 0.3959 - val_accuracy: 0.8904\n",
      "Epoch 55/100\n",
      "32/32 [==============================] - 0s 2ms/step - loss: 0.3461 - accuracy: 0.8757 - val_loss: 0.3944 - val_accuracy: 0.8858\n",
      "Epoch 56/100\n",
      "32/32 [==============================] - 0s 2ms/step - loss: 0.3427 - accuracy: 0.8738 - val_loss: 0.3909 - val_accuracy: 0.8904\n",
      "Epoch 57/100\n",
      "32/32 [==============================] - 0s 1ms/step - loss: 0.3396 - accuracy: 0.8757 - val_loss: 0.3877 - val_accuracy: 0.8904\n",
      "Epoch 58/100\n",
      "32/32 [==============================] - 0s 2ms/step - loss: 0.3368 - accuracy: 0.8757 - val_loss: 0.3864 - val_accuracy: 0.8904\n",
      "Epoch 59/100\n",
      "32/32 [==============================] - 0s 2ms/step - loss: 0.3333 - accuracy: 0.8708 - val_loss: 0.3825 - val_accuracy: 0.8767\n",
      "Epoch 60/100\n",
      "32/32 [==============================] - 0s 1ms/step - loss: 0.3308 - accuracy: 0.8718 - val_loss: 0.3827 - val_accuracy: 0.8858\n",
      "Epoch 61/100\n",
      "32/32 [==============================] - 0s 1ms/step - loss: 0.3281 - accuracy: 0.8757 - val_loss: 0.3832 - val_accuracy: 0.8858\n",
      "Epoch 62/100\n",
      "32/32 [==============================] - 0s 2ms/step - loss: 0.3262 - accuracy: 0.8748 - val_loss: 0.3794 - val_accuracy: 0.8858\n",
      "Epoch 63/100\n",
      "32/32 [==============================] - 0s 2ms/step - loss: 0.3236 - accuracy: 0.8757 - val_loss: 0.3738 - val_accuracy: 0.8813\n",
      "Epoch 64/100\n",
      "32/32 [==============================] - 0s 2ms/step - loss: 0.3218 - accuracy: 0.8787 - val_loss: 0.3717 - val_accuracy: 0.8858\n",
      "Epoch 65/100\n",
      "32/32 [==============================] - 0s 2ms/step - loss: 0.3195 - accuracy: 0.8777 - val_loss: 0.3716 - val_accuracy: 0.8858\n",
      "Epoch 66/100\n",
      "32/32 [==============================] - 0s 1ms/step - loss: 0.3172 - accuracy: 0.8767 - val_loss: 0.3698 - val_accuracy: 0.8858\n",
      "Epoch 67/100\n",
      "32/32 [==============================] - 0s 2ms/step - loss: 0.3154 - accuracy: 0.8738 - val_loss: 0.3680 - val_accuracy: 0.8858\n",
      "Epoch 68/100\n",
      "32/32 [==============================] - 0s 2ms/step - loss: 0.3139 - accuracy: 0.8748 - val_loss: 0.3659 - val_accuracy: 0.8858\n",
      "Epoch 69/100\n",
      "32/32 [==============================] - 0s 2ms/step - loss: 0.3119 - accuracy: 0.8777 - val_loss: 0.3638 - val_accuracy: 0.8858\n",
      "Epoch 70/100\n",
      "32/32 [==============================] - 0s 2ms/step - loss: 0.3108 - accuracy: 0.8836 - val_loss: 0.3638 - val_accuracy: 0.8904\n",
      "Epoch 71/100\n",
      "32/32 [==============================] - 0s 2ms/step - loss: 0.3085 - accuracy: 0.8796 - val_loss: 0.3615 - val_accuracy: 0.8858\n",
      "Epoch 72/100\n",
      "32/32 [==============================] - 0s 1ms/step - loss: 0.3071 - accuracy: 0.8796 - val_loss: 0.3608 - val_accuracy: 0.8904\n",
      "Epoch 73/100\n",
      "32/32 [==============================] - 0s 2ms/step - loss: 0.3056 - accuracy: 0.8777 - val_loss: 0.3597 - val_accuracy: 0.8904\n",
      "Epoch 74/100\n",
      "32/32 [==============================] - 0s 1ms/step - loss: 0.3042 - accuracy: 0.8806 - val_loss: 0.3582 - val_accuracy: 0.8904\n",
      "Epoch 75/100\n",
      "32/32 [==============================] - 0s 2ms/step - loss: 0.3028 - accuracy: 0.8826 - val_loss: 0.3570 - val_accuracy: 0.8858\n",
      "Epoch 76/100\n",
      "32/32 [==============================] - 0s 2ms/step - loss: 0.3008 - accuracy: 0.8836 - val_loss: 0.3542 - val_accuracy: 0.8767\n",
      "Epoch 77/100\n",
      "32/32 [==============================] - 0s 2ms/step - loss: 0.3004 - accuracy: 0.8865 - val_loss: 0.3536 - val_accuracy: 0.8767\n",
      "Epoch 78/100\n",
      "32/32 [==============================] - 0s 2ms/step - loss: 0.2990 - accuracy: 0.8777 - val_loss: 0.3540 - val_accuracy: 0.8904\n",
      "Epoch 79/100\n",
      "32/32 [==============================] - 0s 1ms/step - loss: 0.2980 - accuracy: 0.8845 - val_loss: 0.3518 - val_accuracy: 0.8858\n",
      "Epoch 80/100\n",
      "32/32 [==============================] - 0s 2ms/step - loss: 0.2968 - accuracy: 0.8826 - val_loss: 0.3542 - val_accuracy: 0.8858\n",
      "Epoch 81/100\n",
      "32/32 [==============================] - 0s 2ms/step - loss: 0.2959 - accuracy: 0.8806 - val_loss: 0.3509 - val_accuracy: 0.8858\n",
      "Epoch 82/100\n",
      "32/32 [==============================] - 0s 2ms/step - loss: 0.2941 - accuracy: 0.8826 - val_loss: 0.3487 - val_accuracy: 0.8813\n",
      "Epoch 83/100\n",
      "32/32 [==============================] - 0s 1ms/step - loss: 0.2937 - accuracy: 0.8845 - val_loss: 0.3481 - val_accuracy: 0.8813\n",
      "Epoch 84/100\n",
      "32/32 [==============================] - 0s 2ms/step - loss: 0.2932 - accuracy: 0.8806 - val_loss: 0.3472 - val_accuracy: 0.8813\n",
      "Epoch 85/100\n",
      "32/32 [==============================] - 0s 1ms/step - loss: 0.2910 - accuracy: 0.8826 - val_loss: 0.3505 - val_accuracy: 0.8813\n",
      "Epoch 86/100\n",
      "32/32 [==============================] - 0s 1ms/step - loss: 0.2906 - accuracy: 0.8787 - val_loss: 0.3453 - val_accuracy: 0.8813\n",
      "Epoch 87/100\n",
      "32/32 [==============================] - 0s 2ms/step - loss: 0.2901 - accuracy: 0.8836 - val_loss: 0.3476 - val_accuracy: 0.8904\n",
      "Epoch 88/100\n",
      "32/32 [==============================] - 0s 2ms/step - loss: 0.2893 - accuracy: 0.8836 - val_loss: 0.3447 - val_accuracy: 0.8858\n",
      "Epoch 89/100\n",
      "32/32 [==============================] - 0s 2ms/step - loss: 0.2882 - accuracy: 0.8826 - val_loss: 0.3463 - val_accuracy: 0.8904\n",
      "Epoch 90/100\n",
      "32/32 [==============================] - 0s 2ms/step - loss: 0.2875 - accuracy: 0.8836 - val_loss: 0.3425 - val_accuracy: 0.8813\n",
      "Epoch 91/100\n",
      "32/32 [==============================] - 0s 1ms/step - loss: 0.2863 - accuracy: 0.8796 - val_loss: 0.3427 - val_accuracy: 0.8904\n",
      "Epoch 92/100\n",
      "32/32 [==============================] - 0s 1ms/step - loss: 0.2859 - accuracy: 0.8836 - val_loss: 0.3420 - val_accuracy: 0.8904\n",
      "Epoch 93/100\n",
      "32/32 [==============================] - 0s 2ms/step - loss: 0.2852 - accuracy: 0.8845 - val_loss: 0.3418 - val_accuracy: 0.8904\n",
      "Epoch 94/100\n",
      "32/32 [==============================] - 0s 2ms/step - loss: 0.2839 - accuracy: 0.8885 - val_loss: 0.3403 - val_accuracy: 0.8904\n",
      "Epoch 95/100\n",
      "32/32 [==============================] - 0s 2ms/step - loss: 0.2840 - accuracy: 0.8865 - val_loss: 0.3417 - val_accuracy: 0.8858\n",
      "Epoch 96/100\n",
      "32/32 [==============================] - 0s 2ms/step - loss: 0.2832 - accuracy: 0.8836 - val_loss: 0.3425 - val_accuracy: 0.8858\n",
      "Epoch 97/100\n",
      "32/32 [==============================] - 0s 2ms/step - loss: 0.2828 - accuracy: 0.8865 - val_loss: 0.3408 - val_accuracy: 0.8813\n",
      "Epoch 98/100\n",
      "32/32 [==============================] - 0s 2ms/step - loss: 0.2818 - accuracy: 0.8875 - val_loss: 0.3385 - val_accuracy: 0.8904\n",
      "Epoch 99/100\n",
      "32/32 [==============================] - 0s 2ms/step - loss: 0.2814 - accuracy: 0.8875 - val_loss: 0.3381 - val_accuracy: 0.8904\n",
      "Epoch 100/100\n",
      "32/32 [==============================] - 0s 2ms/step - loss: 0.2801 - accuracy: 0.8855 - val_loss: 0.3368 - val_accuracy: 0.8904\n"
     ]
    }
   ],
   "source": [
    "hist = model.fit(X_train, Y_train,\n",
    "          batch_size=32, epochs=100,\n",
    "          validation_data=(X_val, Y_val))"
   ]
  },
  {
   "cell_type": "code",
   "execution_count": 19,
   "metadata": {},
   "outputs": [
    {
     "name": "stdout",
     "output_type": "stream",
     "text": [
      "7/7 [==============================] - 0s 0s/step - loss: 0.2437 - accuracy: 0.8995\n"
     ]
    },
    {
     "data": {
      "text/plain": [
       "0.8995434045791626"
      ]
     },
     "execution_count": 19,
     "metadata": {},
     "output_type": "execute_result"
    }
   ],
   "source": [
    "model.evaluate(X_test, Y_test)[1]"
   ]
  },
  {
   "cell_type": "markdown",
   "metadata": {},
   "source": [
    "### **Part 3: Visualize Loss and Accuracy. The following step will be completed next:**\n",
    "### - Use matplotlib to visualize loss and accuracy\n"
   ]
  },
  {
   "cell_type": "code",
   "execution_count": 20,
   "metadata": {},
   "outputs": [],
   "source": [
    "import matplotlib.pyplot as plt"
   ]
  },
  {
   "cell_type": "code",
   "execution_count": 21,
   "metadata": {},
   "outputs": [
    {
     "data": {
      "image/png": "[encoded data removed]",
      "text/plain": [
       "<Figure size 432x288 with 1 Axes>"
      ]
     },
     "metadata": {
      "needs_background": "light"
     },
     "output_type": "display_data"
    }
   ],
   "source": [
    "plt.plot(hist.history['loss'])\n",
    "plt.plot(hist.history['val_loss'])\n",
    "plt.title('Model loss')\n",
    "plt.ylabel('Loss')\n",
    "plt.xlabel('Epoch')\n",
    "plt.legend(['Train', 'Val'], loc='upper right')\n",
    "plt.show()"
   ]
  },
  {
   "cell_type": "code",
   "execution_count": 23,
   "metadata": {},
   "outputs": [
    {
     "data": {
      "image/png": "[encoded data removed]",
      "text/plain": [
       "<Figure size 432x288 with 1 Axes>"
      ]
     },
     "metadata": {
      "needs_background": "light"
     },
     "output_type": "display_data"
    }
   ],
   "source": [
    "plt.plot(hist.history['accuracy'])\n",
    "plt.plot(hist.history['val_accuracy'])\n",
    "plt.title('Model accuracy')\n",
    "plt.ylabel('Accuracy')\n",
    "plt.xlabel('Epoch')\n",
    "plt.legend(['Train', 'Val'], loc='lower right')\n",
    "plt.show()"
   ]
  },
  {
   "cell_type": "markdown",
   "metadata": {},
   "source": [
    "### **Part 4: Add Regularization to Neural Network. The following step will be completed last:**\n",
    "### - Form a second neural network (model_2) that will badly overfit training set.\n",
    "### - Incorporate L2 regularization and dropout into a third model (model_3) to reduce overfitting.\n"
   ]
  },
  {
   "cell_type": "code",
   "execution_count": 24,
   "metadata": {
    "collapsed": true,
    "jupyter": {
     "outputs_hidden": true
    },
    "tags": []
   },
   "outputs": [
    {
     "name": "stdout",
     "output_type": "stream",
     "text": [
      "Epoch 1/100\n",
      "32/32 [==============================] - 1s 23ms/step - loss: 0.4734 - accuracy: 0.7642 - val_loss: 0.4692 - val_accuracy: 0.8493\n",
      "Epoch 2/100\n",
      "32/32 [==============================] - 1s 18ms/step - loss: 0.3368 - accuracy: 0.8620 - val_loss: 0.3751 - val_accuracy: 0.8356\n",
      "Epoch 3/100\n",
      "32/32 [==============================] - 1s 19ms/step - loss: 0.3168 - accuracy: 0.8650 - val_loss: 0.3397 - val_accuracy: 0.8630\n",
      "Epoch 4/100\n",
      "32/32 [==============================] - 1s 20ms/step - loss: 0.2921 - accuracy: 0.8728 - val_loss: 0.3691 - val_accuracy: 0.8402\n",
      "Epoch 5/100\n",
      "32/32 [==============================] - 1s 19ms/step - loss: 0.2930 - accuracy: 0.8757 - val_loss: 0.3307 - val_accuracy: 0.8539\n",
      "Epoch 6/100\n",
      "32/32 [==============================] - 1s 19ms/step - loss: 0.2475 - accuracy: 0.8982 - val_loss: 0.3755 - val_accuracy: 0.8721\n",
      "Epoch 7/100\n",
      "32/32 [==============================] - 1s 19ms/step - loss: 0.2513 - accuracy: 0.8904 - val_loss: 0.3242 - val_accuracy: 0.8630\n",
      "Epoch 8/100\n",
      "32/32 [==============================] - 1s 19ms/step - loss: 0.2335 - accuracy: 0.8963 - val_loss: 0.3146 - val_accuracy: 0.8904\n",
      "Epoch 9/100\n",
      "32/32 [==============================] - 1s 18ms/step - loss: 0.2450 - accuracy: 0.8885 - val_loss: 0.3140 - val_accuracy: 0.8767\n",
      "Epoch 10/100\n",
      "32/32 [==============================] - 1s 18ms/step - loss: 0.2447 - accuracy: 0.8963 - val_loss: 0.3434 - val_accuracy: 0.8767\n",
      "Epoch 11/100\n",
      "32/32 [==============================] - 1s 18ms/step - loss: 0.2441 - accuracy: 0.9041 - val_loss: 0.3441 - val_accuracy: 0.8721\n",
      "Epoch 12/100\n",
      "32/32 [==============================] - 1s 18ms/step - loss: 0.2325 - accuracy: 0.9031 - val_loss: 0.3920 - val_accuracy: 0.8311\n",
      "Epoch 13/100\n",
      "32/32 [==============================] - 1s 19ms/step - loss: 0.2327 - accuracy: 0.8924 - val_loss: 0.3526 - val_accuracy: 0.8813\n",
      "Epoch 14/100\n",
      "32/32 [==============================] - 1s 18ms/step - loss: 0.2196 - accuracy: 0.9061 - val_loss: 0.4131 - val_accuracy: 0.8539\n",
      "Epoch 15/100\n",
      "32/32 [==============================] - 1s 18ms/step - loss: 0.2177 - accuracy: 0.9080 - val_loss: 0.3357 - val_accuracy: 0.9041\n",
      "Epoch 16/100\n",
      "32/32 [==============================] - 1s 18ms/step - loss: 0.2271 - accuracy: 0.9031 - val_loss: 0.3642 - val_accuracy: 0.8904\n",
      "Epoch 17/100\n",
      "32/32 [==============================] - 1s 19ms/step - loss: 0.2212 - accuracy: 0.9100 - val_loss: 0.3461 - val_accuracy: 0.8813\n",
      "Epoch 18/100\n",
      "32/32 [==============================] - 1s 18ms/step - loss: 0.2115 - accuracy: 0.9168 - val_loss: 0.3814 - val_accuracy: 0.8858\n",
      "Epoch 19/100\n",
      "32/32 [==============================] - 1s 18ms/step - loss: 0.2041 - accuracy: 0.9178 - val_loss: 0.3238 - val_accuracy: 0.8950\n",
      "Epoch 20/100\n",
      "32/32 [==============================] - 1s 18ms/step - loss: 0.2057 - accuracy: 0.9168 - val_loss: 0.3417 - val_accuracy: 0.8858\n",
      "Epoch 21/100\n",
      "32/32 [==============================] - 1s 18ms/step - loss: 0.2046 - accuracy: 0.9159 - val_loss: 0.3427 - val_accuracy: 0.8950\n",
      "Epoch 22/100\n",
      "32/32 [==============================] - 1s 19ms/step - loss: 0.2060 - accuracy: 0.9217 - val_loss: 0.3595 - val_accuracy: 0.8676\n",
      "Epoch 23/100\n",
      "32/32 [==============================] - 1s 18ms/step - loss: 0.2201 - accuracy: 0.9129 - val_loss: 0.3571 - val_accuracy: 0.8630\n",
      "Epoch 24/100\n",
      "32/32 [==============================] - 1s 19ms/step - loss: 0.1988 - accuracy: 0.9178 - val_loss: 0.3849 - val_accuracy: 0.8858\n",
      "Epoch 25/100\n",
      "32/32 [==============================] - 1s 19ms/step - loss: 0.1902 - accuracy: 0.9168 - val_loss: 0.3742 - val_accuracy: 0.8630\n",
      "Epoch 26/100\n",
      "32/32 [==============================] - 1s 18ms/step - loss: 0.2032 - accuracy: 0.9149 - val_loss: 0.4103 - val_accuracy: 0.8721\n",
      "Epoch 27/100\n",
      "32/32 [==============================] - 1s 19ms/step - loss: 0.2042 - accuracy: 0.9168 - val_loss: 0.4492 - val_accuracy: 0.8493\n",
      "Epoch 28/100\n",
      "32/32 [==============================] - 1s 19ms/step - loss: 0.1942 - accuracy: 0.9217 - val_loss: 0.3708 - val_accuracy: 0.8858\n",
      "Epoch 29/100\n",
      "32/32 [==============================] - 1s 18ms/step - loss: 0.1857 - accuracy: 0.9217 - val_loss: 0.4050 - val_accuracy: 0.8767\n",
      "Epoch 30/100\n",
      "32/32 [==============================] - 1s 18ms/step - loss: 0.1968 - accuracy: 0.9247 - val_loss: 0.3851 - val_accuracy: 0.8858\n",
      "Epoch 31/100\n",
      "32/32 [==============================] - 1s 18ms/step - loss: 0.1924 - accuracy: 0.9237 - val_loss: 0.3752 - val_accuracy: 0.8813\n",
      "Epoch 32/100\n",
      "32/32 [==============================] - 1s 19ms/step - loss: 0.1875 - accuracy: 0.9276 - val_loss: 0.4407 - val_accuracy: 0.8904\n",
      "Epoch 33/100\n",
      "32/32 [==============================] - 1s 18ms/step - loss: 0.1877 - accuracy: 0.9295 - val_loss: 0.4132 - val_accuracy: 0.8813\n",
      "Epoch 34/100\n",
      "32/32 [==============================] - 1s 19ms/step - loss: 0.1892 - accuracy: 0.9198 - val_loss: 0.3690 - val_accuracy: 0.9041\n",
      "Epoch 35/100\n",
      "32/32 [==============================] - 1s 18ms/step - loss: 0.2050 - accuracy: 0.9217 - val_loss: 0.3619 - val_accuracy: 0.8721\n",
      "Epoch 36/100\n",
      "32/32 [==============================] - 1s 18ms/step - loss: 0.1817 - accuracy: 0.9305 - val_loss: 0.3991 - val_accuracy: 0.8858\n",
      "Epoch 37/100\n",
      "32/32 [==============================] - 1s 18ms/step - loss: 0.1728 - accuracy: 0.9276 - val_loss: 0.3692 - val_accuracy: 0.8813\n",
      "Epoch 38/100\n",
      "32/32 [==============================] - 1s 18ms/step - loss: 0.2056 - accuracy: 0.9207 - val_loss: 0.3473 - val_accuracy: 0.9041\n",
      "Epoch 39/100\n",
      "32/32 [==============================] - 1s 18ms/step - loss: 0.2060 - accuracy: 0.9129 - val_loss: 0.3635 - val_accuracy: 0.8676\n",
      "Epoch 40/100\n",
      "32/32 [==============================] - 1s 18ms/step - loss: 0.1710 - accuracy: 0.9315 - val_loss: 0.3765 - val_accuracy: 0.8858\n",
      "Epoch 41/100\n",
      "32/32 [==============================] - 1s 18ms/step - loss: 0.1772 - accuracy: 0.9335 - val_loss: 0.3814 - val_accuracy: 0.8721\n",
      "Epoch 42/100\n",
      "32/32 [==============================] - 1s 19ms/step - loss: 0.1750 - accuracy: 0.9286 - val_loss: 0.3883 - val_accuracy: 0.8904\n",
      "Epoch 43/100\n",
      "32/32 [==============================] - 1s 19ms/step - loss: 0.1686 - accuracy: 0.9344 - val_loss: 0.4007 - val_accuracy: 0.8630\n",
      "Epoch 44/100\n",
      "32/32 [==============================] - 1s 19ms/step - loss: 0.1736 - accuracy: 0.9266 - val_loss: 0.4183 - val_accuracy: 0.8767\n",
      "Epoch 45/100\n",
      "32/32 [==============================] - 1s 19ms/step - loss: 0.1772 - accuracy: 0.9364 - val_loss: 0.3599 - val_accuracy: 0.8813\n",
      "Epoch 46/100\n",
      "32/32 [==============================] - 1s 18ms/step - loss: 0.1708 - accuracy: 0.9374 - val_loss: 0.3859 - val_accuracy: 0.8904\n",
      "Epoch 47/100\n",
      "32/32 [==============================] - 1s 19ms/step - loss: 0.1757 - accuracy: 0.9207 - val_loss: 0.3743 - val_accuracy: 0.8858\n",
      "Epoch 48/100\n",
      "32/32 [==============================] - 1s 18ms/step - loss: 0.1563 - accuracy: 0.9413 - val_loss: 0.4496 - val_accuracy: 0.8676\n",
      "Epoch 49/100\n",
      "32/32 [==============================] - 1s 19ms/step - loss: 0.1681 - accuracy: 0.9335 - val_loss: 0.4523 - val_accuracy: 0.8721\n",
      "Epoch 50/100\n",
      "32/32 [==============================] - 1s 18ms/step - loss: 0.1986 - accuracy: 0.9256 - val_loss: 0.5102 - val_accuracy: 0.8539\n",
      "Epoch 51/100\n",
      "32/32 [==============================] - 1s 19ms/step - loss: 0.1974 - accuracy: 0.9178 - val_loss: 0.4135 - val_accuracy: 0.8858\n",
      "Epoch 52/100\n",
      "32/32 [==============================] - 1s 18ms/step - loss: 0.1580 - accuracy: 0.9354 - val_loss: 0.4492 - val_accuracy: 0.8813\n",
      "Epoch 53/100\n",
      "32/32 [==============================] - 1s 19ms/step - loss: 0.1530 - accuracy: 0.9384 - val_loss: 0.4255 - val_accuracy: 0.8950\n",
      "Epoch 54/100\n",
      "32/32 [==============================] - 1s 19ms/step - loss: 0.1851 - accuracy: 0.9364 - val_loss: 0.3561 - val_accuracy: 0.8767\n",
      "Epoch 55/100\n",
      "32/32 [==============================] - 1s 19ms/step - loss: 0.1828 - accuracy: 0.9247 - val_loss: 0.4232 - val_accuracy: 0.8767\n",
      "Epoch 56/100\n",
      "32/32 [==============================] - 1s 18ms/step - loss: 0.1729 - accuracy: 0.9325 - val_loss: 0.4272 - val_accuracy: 0.8721\n",
      "Epoch 57/100\n",
      "32/32 [==============================] - 1s 18ms/step - loss: 0.1597 - accuracy: 0.9364 - val_loss: 0.4065 - val_accuracy: 0.8995\n",
      "Epoch 58/100\n",
      "32/32 [==============================] - 1s 19ms/step - loss: 0.1485 - accuracy: 0.9423 - val_loss: 0.5104 - val_accuracy: 0.8858\n",
      "Epoch 59/100\n",
      "32/32 [==============================] - 1s 18ms/step - loss: 0.1758 - accuracy: 0.9325 - val_loss: 0.4826 - val_accuracy: 0.8950\n",
      "Epoch 60/100\n",
      "32/32 [==============================] - 1s 19ms/step - loss: 0.1801 - accuracy: 0.9305 - val_loss: 0.4252 - val_accuracy: 0.8584\n",
      "Epoch 61/100\n",
      "32/32 [==============================] - 1s 18ms/step - loss: 0.1487 - accuracy: 0.9413 - val_loss: 0.5024 - val_accuracy: 0.8767\n",
      "Epoch 62/100\n",
      "32/32 [==============================] - 1s 18ms/step - loss: 0.1604 - accuracy: 0.9325 - val_loss: 0.4059 - val_accuracy: 0.8858\n",
      "Epoch 63/100\n",
      "32/32 [==============================] - 1s 18ms/step - loss: 0.1638 - accuracy: 0.9295 - val_loss: 0.4256 - val_accuracy: 0.8950\n",
      "Epoch 64/100\n",
      "32/32 [==============================] - 1s 18ms/step - loss: 0.1514 - accuracy: 0.9423 - val_loss: 0.4937 - val_accuracy: 0.8767\n",
      "Epoch 65/100\n",
      "32/32 [==============================] - 1s 19ms/step - loss: 0.1515 - accuracy: 0.9374 - val_loss: 0.4311 - val_accuracy: 0.8813\n",
      "Epoch 66/100\n",
      "32/32 [==============================] - 1s 18ms/step - loss: 0.1414 - accuracy: 0.9452 - val_loss: 0.4518 - val_accuracy: 0.8767\n",
      "Epoch 67/100\n",
      "32/32 [==============================] - 1s 18ms/step - loss: 0.1456 - accuracy: 0.9423 - val_loss: 0.5036 - val_accuracy: 0.8813\n",
      "Epoch 68/100\n",
      "32/32 [==============================] - 1s 18ms/step - loss: 0.1306 - accuracy: 0.9472 - val_loss: 0.4651 - val_accuracy: 0.8721\n",
      "Epoch 69/100\n",
      "32/32 [==============================] - 1s 19ms/step - loss: 0.1388 - accuracy: 0.9354 - val_loss: 0.5293 - val_accuracy: 0.8584\n",
      "Epoch 70/100\n",
      "32/32 [==============================] - 1s 18ms/step - loss: 0.1509 - accuracy: 0.9384 - val_loss: 0.4484 - val_accuracy: 0.8630\n",
      "Epoch 71/100\n",
      "32/32 [==============================] - 1s 18ms/step - loss: 0.1512 - accuracy: 0.9442 - val_loss: 0.4993 - val_accuracy: 0.9041\n",
      "Epoch 72/100\n",
      "32/32 [==============================] - 1s 18ms/step - loss: 0.1718 - accuracy: 0.9305 - val_loss: 0.3943 - val_accuracy: 0.8858\n",
      "Epoch 73/100\n",
      "32/32 [==============================] - 1s 18ms/step - loss: 0.1379 - accuracy: 0.9521 - val_loss: 0.5273 - val_accuracy: 0.8995\n",
      "Epoch 74/100\n",
      "32/32 [==============================] - 1s 19ms/step - loss: 0.1428 - accuracy: 0.9432 - val_loss: 0.4544 - val_accuracy: 0.9087\n",
      "Epoch 75/100\n",
      "32/32 [==============================] - 1s 18ms/step - loss: 0.1444 - accuracy: 0.9403 - val_loss: 0.4398 - val_accuracy: 0.8630\n",
      "Epoch 76/100\n",
      "32/32 [==============================] - 1s 18ms/step - loss: 0.1331 - accuracy: 0.9462 - val_loss: 0.4861 - val_accuracy: 0.9041\n",
      "Epoch 77/100\n",
      "32/32 [==============================] - 1s 18ms/step - loss: 0.1322 - accuracy: 0.9511 - val_loss: 0.6009 - val_accuracy: 0.8858\n",
      "Epoch 78/100\n",
      "32/32 [==============================] - 1s 18ms/step - loss: 0.1530 - accuracy: 0.9452 - val_loss: 0.4804 - val_accuracy: 0.8813\n",
      "Epoch 79/100\n",
      "32/32 [==============================] - 1s 18ms/step - loss: 0.1785 - accuracy: 0.9384 - val_loss: 0.4474 - val_accuracy: 0.8858\n",
      "Epoch 80/100\n",
      "32/32 [==============================] - 1s 19ms/step - loss: 0.1355 - accuracy: 0.9521 - val_loss: 0.4591 - val_accuracy: 0.8904\n",
      "Epoch 81/100\n",
      "32/32 [==============================] - 1s 18ms/step - loss: 0.1206 - accuracy: 0.9560 - val_loss: 0.4808 - val_accuracy: 0.8767\n",
      "Epoch 82/100\n",
      "32/32 [==============================] - 1s 18ms/step - loss: 0.1597 - accuracy: 0.9374 - val_loss: 0.6385 - val_accuracy: 0.8493\n",
      "Epoch 83/100\n",
      "32/32 [==============================] - 1s 19ms/step - loss: 0.1432 - accuracy: 0.9315 - val_loss: 0.4978 - val_accuracy: 0.8995\n",
      "Epoch 84/100\n",
      "32/32 [==============================] - 1s 19ms/step - loss: 0.1275 - accuracy: 0.9491 - val_loss: 0.4373 - val_accuracy: 0.8904\n",
      "Epoch 85/100\n",
      "32/32 [==============================] - 1s 19ms/step - loss: 0.1163 - accuracy: 0.9569 - val_loss: 0.5639 - val_accuracy: 0.8767\n",
      "Epoch 86/100\n",
      "32/32 [==============================] - 1s 19ms/step - loss: 0.1293 - accuracy: 0.9472 - val_loss: 0.5025 - val_accuracy: 0.8493\n",
      "Epoch 87/100\n",
      "32/32 [==============================] - 1s 19ms/step - loss: 0.1529 - accuracy: 0.9374 - val_loss: 0.4341 - val_accuracy: 0.8858\n",
      "Epoch 88/100\n",
      "32/32 [==============================] - 1s 19ms/step - loss: 0.1278 - accuracy: 0.9472 - val_loss: 0.4250 - val_accuracy: 0.8950\n",
      "Epoch 89/100\n",
      "32/32 [==============================] - 1s 19ms/step - loss: 0.1127 - accuracy: 0.9491 - val_loss: 0.6053 - val_accuracy: 0.8630\n",
      "Epoch 90/100\n",
      "32/32 [==============================] - 1s 19ms/step - loss: 0.1211 - accuracy: 0.9569 - val_loss: 0.5904 - val_accuracy: 0.8767\n",
      "Epoch 91/100\n",
      "32/32 [==============================] - 1s 18ms/step - loss: 0.1175 - accuracy: 0.9530 - val_loss: 0.5423 - val_accuracy: 0.9087\n",
      "Epoch 92/100\n",
      "32/32 [==============================] - 1s 19ms/step - loss: 0.1290 - accuracy: 0.9462 - val_loss: 0.4392 - val_accuracy: 0.8858\n",
      "Epoch 93/100\n",
      "32/32 [==============================] - 1s 18ms/step - loss: 0.1149 - accuracy: 0.9511 - val_loss: 0.5206 - val_accuracy: 0.8858\n",
      "Epoch 94/100\n",
      "32/32 [==============================] - 1s 18ms/step - loss: 0.1216 - accuracy: 0.9530 - val_loss: 0.4939 - val_accuracy: 0.8904\n",
      "Epoch 95/100\n",
      "32/32 [==============================] - 1s 18ms/step - loss: 0.1558 - accuracy: 0.9344 - val_loss: 0.4677 - val_accuracy: 0.8676\n",
      "Epoch 96/100\n",
      "32/32 [==============================] - 1s 18ms/step - loss: 0.1366 - accuracy: 0.9472 - val_loss: 0.5565 - val_accuracy: 0.8904\n",
      "Epoch 97/100\n",
      "32/32 [==============================] - 1s 19ms/step - loss: 0.1187 - accuracy: 0.9540 - val_loss: 0.5837 - val_accuracy: 0.8584\n",
      "Epoch 98/100\n",
      "32/32 [==============================] - 1s 18ms/step - loss: 0.0936 - accuracy: 0.9609 - val_loss: 0.7324 - val_accuracy: 0.8904\n",
      "Epoch 99/100\n",
      "32/32 [==============================] - 1s 19ms/step - loss: 0.1063 - accuracy: 0.9550 - val_loss: 0.6771 - val_accuracy: 0.8676\n",
      "Epoch 100/100\n",
      "32/32 [==============================] - 1s 18ms/step - loss: 0.1461 - accuracy: 0.9442 - val_loss: 0.5913 - val_accuracy: 0.8767\n"
     ]
    }
   ],
   "source": [
    "model_2 = Sequential([\n",
    "    Dense(1000, activation='relu', input_shape=(10,)),\n",
    "    Dense(1000, activation='relu'),\n",
    "    Dense(1000, activation='relu'),\n",
    "    Dense(1000, activation='relu'),\n",
    "    Dense(1, activation='sigmoid'),\n",
    "])\n",
    "\n",
    "model_2.compile(optimizer='adam',\n",
    "              loss='binary_crossentropy',\n",
    "              metrics=['accuracy'])\n",
    "              \n",
    "hist_2 = model_2.fit(X_train, Y_train,\n",
    "          batch_size=32, epochs=100,\n",
    "          validation_data=(X_val, Y_val))"
   ]
  },
  {
   "cell_type": "code",
   "execution_count": 25,
   "metadata": {},
   "outputs": [
    {
     "data": {
      "image/png": "[encoded data removed]",
      "text/plain": [
       "<Figure size 432x288 with 1 Axes>"
      ]
     },
     "metadata": {
      "needs_background": "light"
     },
     "output_type": "display_data"
    }
   ],
   "source": [
    "plt.plot(hist_2.history['loss'])\n",
    "plt.plot(hist_2.history['val_loss'])\n",
    "plt.title('Model loss')\n",
    "plt.ylabel('Loss')\n",
    "plt.xlabel('Epoch')\n",
    "plt.legend(['Train', 'Val'], loc='upper right')\n",
    "plt.show()"
   ]
  },
  {
   "cell_type": "code",
   "execution_count": 26,
   "metadata": {},
   "outputs": [
    {
     "data": {
      "image/png": "[encoded data removed]",
      "text/plain": [
       "<Figure size 432x288 with 1 Axes>"
      ]
     },
     "metadata": {
      "needs_background": "light"
     },
     "output_type": "display_data"
    }
   ],
   "source": [
    "plt.plot(hist_2.history['accuracy'])\n",
    "plt.plot(hist_2.history['val_accuracy'])\n",
    "plt.title('Model accuracy')\n",
    "plt.ylabel('Accuracy')\n",
    "plt.xlabel('Epoch')\n",
    "plt.legend(['Train', 'Val'], loc='lower right')\n",
    "plt.show()"
   ]
  },
  {
   "cell_type": "code",
   "execution_count": 27,
   "metadata": {},
   "outputs": [],
   "source": [
    "from keras.layers import Dropout\n",
    "from keras import regularizers"
   ]
  },
  {
   "cell_type": "code",
   "execution_count": 28,
   "metadata": {},
   "outputs": [],
   "source": [
    "model_3 = Sequential([\n",
    "    Dense(1000, activation='relu', kernel_regularizer=regularizers.l2(0.01), input_shape=(10,)),\n",
    "    Dropout(0.3),\n",
    "    Dense(1000, activation='relu', kernel_regularizer=regularizers.l2(0.01)),\n",
    "    Dropout(0.3),\n",
    "    Dense(1000, activation='relu', kernel_regularizer=regularizers.l2(0.01)),\n",
    "    Dropout(0.3),\n",
    "    Dense(1000, activation='relu', kernel_regularizer=regularizers.l2(0.01)),\n",
    "    Dropout(0.3),\n",
    "    Dense(1, activation='sigmoid', kernel_regularizer=regularizers.l2(0.01)),\n",
    "])"
   ]
  },
  {
   "cell_type": "code",
   "execution_count": 29,
   "metadata": {
    "collapsed": true,
    "jupyter": {
     "outputs_hidden": true
    },
    "tags": []
   },
   "outputs": [
    {
     "name": "stdout",
     "output_type": "stream",
     "text": [
      "Epoch 1/100\n",
      "32/32 [==============================] - 1s 32ms/step - loss: 14.2225 - accuracy: 0.5949 - val_loss: 3.9094 - val_accuracy: 0.7808\n",
      "Epoch 2/100\n",
      "32/32 [==============================] - 1s 29ms/step - loss: 1.6704 - accuracy: 0.8249 - val_loss: 0.7139 - val_accuracy: 0.8311\n",
      "Epoch 3/100\n",
      "32/32 [==============================] - 1s 28ms/step - loss: 0.5532 - accuracy: 0.8679 - val_loss: 0.5342 - val_accuracy: 0.8858\n",
      "Epoch 4/100\n",
      "32/32 [==============================] - 1s 27ms/step - loss: 0.5231 - accuracy: 0.8591 - val_loss: 0.5429 - val_accuracy: 0.8630\n",
      "Epoch 5/100\n",
      "32/32 [==============================] - 1s 27ms/step - loss: 0.4990 - accuracy: 0.8591 - val_loss: 0.5612 - val_accuracy: 0.8128\n",
      "Epoch 6/100\n",
      "32/32 [==============================] - 1s 29ms/step - loss: 0.4805 - accuracy: 0.8699 - val_loss: 0.4861 - val_accuracy: 0.8721\n",
      "Epoch 7/100\n",
      "32/32 [==============================] - 1s 28ms/step - loss: 0.4655 - accuracy: 0.8777 - val_loss: 0.6462 - val_accuracy: 0.7945\n",
      "Epoch 8/100\n",
      "32/32 [==============================] - 1s 28ms/step - loss: 0.4888 - accuracy: 0.8650 - val_loss: 0.4802 - val_accuracy: 0.8721\n",
      "Epoch 9/100\n",
      "32/32 [==============================] - 1s 29ms/step - loss: 0.4820 - accuracy: 0.8601 - val_loss: 0.4797 - val_accuracy: 0.8721\n",
      "Epoch 10/100\n",
      "32/32 [==============================] - 1s 28ms/step - loss: 0.4573 - accuracy: 0.8708 - val_loss: 0.4889 - val_accuracy: 0.8767\n",
      "Epoch 11/100\n",
      "32/32 [==============================] - 1s 28ms/step - loss: 0.4569 - accuracy: 0.8650 - val_loss: 0.4662 - val_accuracy: 0.8995\n",
      "Epoch 12/100\n",
      "32/32 [==============================] - 1s 28ms/step - loss: 0.4501 - accuracy: 0.8865 - val_loss: 0.4729 - val_accuracy: 0.8858\n",
      "Epoch 13/100\n",
      "32/32 [==============================] - 1s 28ms/step - loss: 0.4466 - accuracy: 0.8826 - val_loss: 0.4667 - val_accuracy: 0.8813\n",
      "Epoch 14/100\n",
      "32/32 [==============================] - 1s 29ms/step - loss: 0.4441 - accuracy: 0.8845 - val_loss: 0.4695 - val_accuracy: 0.8813\n",
      "Epoch 15/100\n",
      "32/32 [==============================] - 1s 27ms/step - loss: 0.4571 - accuracy: 0.8826 - val_loss: 0.4790 - val_accuracy: 0.8767\n",
      "Epoch 16/100\n",
      "32/32 [==============================] - 1s 29ms/step - loss: 0.4673 - accuracy: 0.8689 - val_loss: 0.4746 - val_accuracy: 0.8813\n",
      "Epoch 17/100\n",
      "32/32 [==============================] - 1s 27ms/step - loss: 0.4368 - accuracy: 0.8845 - val_loss: 0.4666 - val_accuracy: 0.8858\n",
      "Epoch 18/100\n",
      "32/32 [==============================] - 1s 27ms/step - loss: 0.4582 - accuracy: 0.8796 - val_loss: 0.4638 - val_accuracy: 0.8813\n",
      "Epoch 19/100\n",
      "32/32 [==============================] - 1s 27ms/step - loss: 0.4533 - accuracy: 0.8738 - val_loss: 0.4699 - val_accuracy: 0.8676\n",
      "Epoch 20/100\n",
      "32/32 [==============================] - 1s 28ms/step - loss: 0.4338 - accuracy: 0.8787 - val_loss: 0.4757 - val_accuracy: 0.8676\n",
      "Epoch 21/100\n",
      "32/32 [==============================] - 1s 28ms/step - loss: 0.4476 - accuracy: 0.8718 - val_loss: 0.4614 - val_accuracy: 0.8858\n",
      "Epoch 22/100\n",
      "32/32 [==============================] - 1s 28ms/step - loss: 0.4451 - accuracy: 0.8875 - val_loss: 0.4520 - val_accuracy: 0.8950\n",
      "Epoch 23/100\n",
      "32/32 [==============================] - 1s 27ms/step - loss: 0.4649 - accuracy: 0.8581 - val_loss: 0.4551 - val_accuracy: 0.8995\n",
      "Epoch 24/100\n",
      "32/32 [==============================] - 1s 27ms/step - loss: 0.4492 - accuracy: 0.8748 - val_loss: 0.4540 - val_accuracy: 0.8813\n",
      "Epoch 25/100\n",
      "32/32 [==============================] - 1s 27ms/step - loss: 0.4615 - accuracy: 0.8689 - val_loss: 0.4887 - val_accuracy: 0.8676\n",
      "Epoch 26/100\n",
      "32/32 [==============================] - 1s 28ms/step - loss: 0.4470 - accuracy: 0.8806 - val_loss: 0.4526 - val_accuracy: 0.8904\n",
      "Epoch 27/100\n",
      "32/32 [==============================] - 1s 27ms/step - loss: 0.4406 - accuracy: 0.8806 - val_loss: 0.4492 - val_accuracy: 0.8904\n",
      "Epoch 28/100\n",
      "32/32 [==============================] - 1s 28ms/step - loss: 0.4513 - accuracy: 0.8787 - val_loss: 0.4537 - val_accuracy: 0.8995\n",
      "Epoch 29/100\n",
      "32/32 [==============================] - 1s 27ms/step - loss: 0.4629 - accuracy: 0.8523 - val_loss: 0.4875 - val_accuracy: 0.8539\n",
      "Epoch 30/100\n",
      "32/32 [==============================] - 1s 28ms/step - loss: 0.4867 - accuracy: 0.8552 - val_loss: 0.4544 - val_accuracy: 0.8950\n",
      "Epoch 31/100\n",
      "32/32 [==============================] - 1s 28ms/step - loss: 0.4384 - accuracy: 0.8757 - val_loss: 0.4510 - val_accuracy: 0.8858\n",
      "Epoch 32/100\n",
      "32/32 [==============================] - 1s 28ms/step - loss: 0.4475 - accuracy: 0.8748 - val_loss: 0.4564 - val_accuracy: 0.8904\n",
      "Epoch 33/100\n",
      "32/32 [==============================] - 1s 28ms/step - loss: 0.4484 - accuracy: 0.8679 - val_loss: 0.4589 - val_accuracy: 0.8767\n",
      "Epoch 34/100\n",
      "32/32 [==============================] - 1s 28ms/step - loss: 0.4508 - accuracy: 0.8757 - val_loss: 0.4470 - val_accuracy: 0.8995\n",
      "Epoch 35/100\n",
      "32/32 [==============================] - 1s 28ms/step - loss: 0.4402 - accuracy: 0.8796 - val_loss: 0.4732 - val_accuracy: 0.8721\n",
      "Epoch 36/100\n",
      "32/32 [==============================] - 1s 27ms/step - loss: 0.4375 - accuracy: 0.8796 - val_loss: 0.4506 - val_accuracy: 0.8858\n",
      "Epoch 37/100\n",
      "32/32 [==============================] - 1s 29ms/step - loss: 0.4592 - accuracy: 0.8689 - val_loss: 0.4611 - val_accuracy: 0.8858\n",
      "Epoch 38/100\n",
      "32/32 [==============================] - 1s 28ms/step - loss: 0.4405 - accuracy: 0.8806 - val_loss: 0.4466 - val_accuracy: 0.8995\n",
      "Epoch 39/100\n",
      "32/32 [==============================] - 1s 28ms/step - loss: 0.4440 - accuracy: 0.8787 - val_loss: 0.4549 - val_accuracy: 0.8904\n",
      "Epoch 40/100\n",
      "32/32 [==============================] - 1s 28ms/step - loss: 0.4452 - accuracy: 0.8699 - val_loss: 0.5327 - val_accuracy: 0.8447\n",
      "Epoch 41/100\n",
      "32/32 [==============================] - 1s 28ms/step - loss: 0.4473 - accuracy: 0.8865 - val_loss: 0.4658 - val_accuracy: 0.8721\n",
      "Epoch 42/100\n",
      "32/32 [==============================] - 1s 28ms/step - loss: 0.4321 - accuracy: 0.8875 - val_loss: 0.4605 - val_accuracy: 0.8676\n",
      "Epoch 43/100\n",
      "32/32 [==============================] - 1s 28ms/step - loss: 0.4484 - accuracy: 0.8777 - val_loss: 0.4440 - val_accuracy: 0.8995\n",
      "Epoch 44/100\n",
      "32/32 [==============================] - 1s 29ms/step - loss: 0.4292 - accuracy: 0.8767 - val_loss: 0.4812 - val_accuracy: 0.8721\n",
      "Epoch 45/100\n",
      "32/32 [==============================] - 1s 29ms/step - loss: 0.4546 - accuracy: 0.8718 - val_loss: 0.4530 - val_accuracy: 0.8995\n",
      "Epoch 46/100\n",
      "32/32 [==============================] - 1s 29ms/step - loss: 0.4358 - accuracy: 0.8865 - val_loss: 0.4487 - val_accuracy: 0.8995\n",
      "Epoch 47/100\n",
      "32/32 [==============================] - 1s 29ms/step - loss: 0.4342 - accuracy: 0.8855 - val_loss: 0.4530 - val_accuracy: 0.8904\n",
      "Epoch 48/100\n",
      "32/32 [==============================] - 1s 28ms/step - loss: 0.4489 - accuracy: 0.8738 - val_loss: 0.4561 - val_accuracy: 0.8858\n",
      "Epoch 49/100\n",
      "32/32 [==============================] - 1s 27ms/step - loss: 0.4262 - accuracy: 0.8806 - val_loss: 0.4549 - val_accuracy: 0.8767\n",
      "Epoch 50/100\n",
      "32/32 [==============================] - 1s 27ms/step - loss: 0.4373 - accuracy: 0.8777 - val_loss: 0.4469 - val_accuracy: 0.8858\n",
      "Epoch 51/100\n",
      "32/32 [==============================] - 1s 27ms/step - loss: 0.4578 - accuracy: 0.8718 - val_loss: 0.4544 - val_accuracy: 0.8767\n",
      "Epoch 52/100\n",
      "32/32 [==============================] - 1s 27ms/step - loss: 0.4404 - accuracy: 0.8787 - val_loss: 0.4457 - val_accuracy: 0.8995\n",
      "Epoch 53/100\n",
      "32/32 [==============================] - 1s 27ms/step - loss: 0.4431 - accuracy: 0.8757 - val_loss: 0.4472 - val_accuracy: 0.8813\n",
      "Epoch 54/100\n",
      "32/32 [==============================] - 1s 28ms/step - loss: 0.4222 - accuracy: 0.8875 - val_loss: 0.5129 - val_accuracy: 0.8493\n",
      "Epoch 55/100\n",
      "32/32 [==============================] - 1s 28ms/step - loss: 0.4522 - accuracy: 0.8620 - val_loss: 0.4931 - val_accuracy: 0.8447\n",
      "Epoch 56/100\n",
      "32/32 [==============================] - 1s 28ms/step - loss: 0.4362 - accuracy: 0.8836 - val_loss: 0.4513 - val_accuracy: 0.8950\n",
      "Epoch 57/100\n",
      "32/32 [==============================] - 1s 28ms/step - loss: 0.4513 - accuracy: 0.8718 - val_loss: 0.4481 - val_accuracy: 0.8950\n",
      "Epoch 58/100\n",
      "32/32 [==============================] - 1s 27ms/step - loss: 0.4367 - accuracy: 0.8757 - val_loss: 0.4496 - val_accuracy: 0.8950\n",
      "Epoch 59/100\n",
      "32/32 [==============================] - 1s 28ms/step - loss: 0.4406 - accuracy: 0.8806 - val_loss: 0.4946 - val_accuracy: 0.8630\n",
      "Epoch 60/100\n",
      "32/32 [==============================] - 1s 28ms/step - loss: 0.4532 - accuracy: 0.8679 - val_loss: 0.4572 - val_accuracy: 0.8904\n",
      "Epoch 61/100\n",
      "32/32 [==============================] - 1s 29ms/step - loss: 0.4478 - accuracy: 0.8787 - val_loss: 0.4464 - val_accuracy: 0.8858\n",
      "Epoch 62/100\n",
      "32/32 [==============================] - 1s 29ms/step - loss: 0.4506 - accuracy: 0.8796 - val_loss: 0.4485 - val_accuracy: 0.8950\n",
      "Epoch 63/100\n",
      "32/32 [==============================] - 1s 28ms/step - loss: 0.4224 - accuracy: 0.8845 - val_loss: 0.4486 - val_accuracy: 0.8995\n",
      "Epoch 64/100\n",
      "32/32 [==============================] - 1s 27ms/step - loss: 0.4382 - accuracy: 0.8787 - val_loss: 0.4568 - val_accuracy: 0.8950\n",
      "Epoch 65/100\n",
      "32/32 [==============================] - 1s 30ms/step - loss: 0.4366 - accuracy: 0.8777 - val_loss: 0.4479 - val_accuracy: 0.8950\n",
      "Epoch 66/100\n",
      "32/32 [==============================] - 1s 28ms/step - loss: 0.4336 - accuracy: 0.8767 - val_loss: 0.4434 - val_accuracy: 0.8904\n",
      "Epoch 67/100\n",
      "32/32 [==============================] - 1s 27ms/step - loss: 0.4264 - accuracy: 0.8796 - val_loss: 0.4455 - val_accuracy: 0.8995\n",
      "Epoch 68/100\n",
      "32/32 [==============================] - 1s 28ms/step - loss: 0.4341 - accuracy: 0.8787 - val_loss: 0.4458 - val_accuracy: 0.8950\n",
      "Epoch 69/100\n",
      "32/32 [==============================] - 1s 27ms/step - loss: 0.4551 - accuracy: 0.8728 - val_loss: 0.4741 - val_accuracy: 0.8676\n",
      "Epoch 70/100\n",
      "32/32 [==============================] - 1s 29ms/step - loss: 0.4663 - accuracy: 0.8650 - val_loss: 0.4504 - val_accuracy: 0.8904\n",
      "Epoch 71/100\n",
      "32/32 [==============================] - 1s 28ms/step - loss: 0.4400 - accuracy: 0.8757 - val_loss: 0.4432 - val_accuracy: 0.8950\n",
      "Epoch 72/100\n",
      "32/32 [==============================] - 1s 28ms/step - loss: 0.4369 - accuracy: 0.8787 - val_loss: 0.5019 - val_accuracy: 0.8356\n",
      "Epoch 73/100\n",
      "32/32 [==============================] - 1s 27ms/step - loss: 0.4592 - accuracy: 0.8611 - val_loss: 0.4487 - val_accuracy: 0.8995\n",
      "Epoch 74/100\n",
      "32/32 [==============================] - 1s 27ms/step - loss: 0.4389 - accuracy: 0.8806 - val_loss: 0.4946 - val_accuracy: 0.8630\n",
      "Epoch 75/100\n",
      "32/32 [==============================] - 1s 28ms/step - loss: 0.4629 - accuracy: 0.8601 - val_loss: 0.4465 - val_accuracy: 0.8950\n",
      "Epoch 76/100\n",
      "32/32 [==============================] - 1s 28ms/step - loss: 0.4448 - accuracy: 0.8816 - val_loss: 0.4415 - val_accuracy: 0.8904\n",
      "Epoch 77/100\n",
      "32/32 [==============================] - 1s 28ms/step - loss: 0.4461 - accuracy: 0.8738 - val_loss: 0.4711 - val_accuracy: 0.8721\n",
      "Epoch 78/100\n",
      "32/32 [==============================] - 1s 27ms/step - loss: 0.4334 - accuracy: 0.8894 - val_loss: 0.4446 - val_accuracy: 0.8950\n",
      "Epoch 79/100\n",
      "32/32 [==============================] - 1s 29ms/step - loss: 0.4369 - accuracy: 0.8748 - val_loss: 0.4479 - val_accuracy: 0.8858\n",
      "Epoch 80/100\n",
      "32/32 [==============================] - 1s 28ms/step - loss: 0.4339 - accuracy: 0.8806 - val_loss: 0.4517 - val_accuracy: 0.8904\n",
      "Epoch 81/100\n",
      "32/32 [==============================] - 1s 28ms/step - loss: 0.4327 - accuracy: 0.8757 - val_loss: 0.4609 - val_accuracy: 0.8630\n",
      "Epoch 82/100\n",
      "32/32 [==============================] - 1s 29ms/step - loss: 0.4588 - accuracy: 0.8659 - val_loss: 0.5905 - val_accuracy: 0.8128\n",
      "Epoch 83/100\n",
      "32/32 [==============================] - 1s 28ms/step - loss: 0.4477 - accuracy: 0.8924 - val_loss: 0.4740 - val_accuracy: 0.8630\n",
      "Epoch 84/100\n",
      "32/32 [==============================] - 1s 28ms/step - loss: 0.4454 - accuracy: 0.8777 - val_loss: 0.4885 - val_accuracy: 0.8676\n",
      "Epoch 85/100\n",
      "32/32 [==============================] - 1s 30ms/step - loss: 0.4340 - accuracy: 0.8757 - val_loss: 0.4715 - val_accuracy: 0.8630\n",
      "Epoch 86/100\n",
      "32/32 [==============================] - 1s 28ms/step - loss: 0.4380 - accuracy: 0.8748 - val_loss: 0.4690 - val_accuracy: 0.8584\n",
      "Epoch 87/100\n",
      "32/32 [==============================] - 1s 28ms/step - loss: 0.4482 - accuracy: 0.8718 - val_loss: 0.4436 - val_accuracy: 0.8950\n",
      "Epoch 88/100\n",
      "32/32 [==============================] - 1s 28ms/step - loss: 0.4310 - accuracy: 0.8796 - val_loss: 0.4436 - val_accuracy: 0.8950\n",
      "Epoch 89/100\n",
      "32/32 [==============================] - 1s 28ms/step - loss: 0.4299 - accuracy: 0.8924 - val_loss: 0.4610 - val_accuracy: 0.8676\n",
      "Epoch 90/100\n",
      "32/32 [==============================] - 1s 28ms/step - loss: 0.4288 - accuracy: 0.8836 - val_loss: 0.4531 - val_accuracy: 0.8813\n",
      "Epoch 91/100\n",
      "32/32 [==============================] - 1s 28ms/step - loss: 0.4443 - accuracy: 0.8689 - val_loss: 0.4467 - val_accuracy: 0.8950\n",
      "Epoch 92/100\n",
      "32/32 [==============================] - 1s 28ms/step - loss: 0.4492 - accuracy: 0.8718 - val_loss: 0.4725 - val_accuracy: 0.8676\n",
      "Epoch 93/100\n",
      "32/32 [==============================] - 1s 28ms/step - loss: 0.4443 - accuracy: 0.8787 - val_loss: 0.4447 - val_accuracy: 0.8950\n",
      "Epoch 94/100\n",
      "32/32 [==============================] - 1s 35ms/step - loss: 0.4492 - accuracy: 0.8669 - val_loss: 0.4499 - val_accuracy: 0.8995\n",
      "Epoch 95/100\n",
      "32/32 [==============================] - 1s 39ms/step - loss: 0.4378 - accuracy: 0.8806 - val_loss: 0.4675 - val_accuracy: 0.8676\n",
      "Epoch 96/100\n",
      "32/32 [==============================] - 1s 29ms/step - loss: 0.4446 - accuracy: 0.8845 - val_loss: 0.4556 - val_accuracy: 0.8904\n",
      "Epoch 97/100\n",
      "32/32 [==============================] - 1s 26ms/step - loss: 0.4287 - accuracy: 0.8748 - val_loss: 0.4451 - val_accuracy: 0.8950\n",
      "Epoch 98/100\n",
      "32/32 [==============================] - 1s 31ms/step - loss: 0.4264 - accuracy: 0.8885 - val_loss: 0.4474 - val_accuracy: 0.8950\n",
      "Epoch 99/100\n",
      "32/32 [==============================] - 1s 27ms/step - loss: 0.4323 - accuracy: 0.8816 - val_loss: 0.4641 - val_accuracy: 0.8630\n",
      "Epoch 100/100\n",
      "32/32 [==============================] - 1s 27ms/step - loss: 0.4382 - accuracy: 0.8806 - val_loss: 0.4608 - val_accuracy: 0.8676\n"
     ]
    }
   ],
   "source": [
    "model_3.compile(optimizer='adam',\n",
    "              loss='binary_crossentropy',\n",
    "              metrics=['accuracy'])\n",
    "              \n",
    "hist_3 = model_3.fit(X_train, Y_train,\n",
    "          batch_size=32, epochs=100,\n",
    "          validation_data=(X_val, Y_val))"
   ]
  },
  {
   "cell_type": "code",
   "execution_count": 30,
   "metadata": {},
   "outputs": [
    {
     "data": {
      "image/png": "[encoded data removed]",
      "text/plain": [
       "<Figure size 432x288 with 1 Axes>"
      ]
     },
     "metadata": {
      "needs_background": "light"
     },
     "output_type": "display_data"
    }
   ],
   "source": [
    "plt.plot(hist_3.history['loss'])\n",
    "plt.plot(hist_3.history['val_loss'])\n",
    "plt.title('Model loss')\n",
    "plt.ylabel('Loss')\n",
    "plt.xlabel('Epoch')\n",
    "plt.legend(['Train', 'Val'], loc='upper right')\n",
    "plt.ylim(top=1.2, bottom=0)\n",
    "plt.show()"
   ]
  },
  {
   "cell_type": "code",
   "execution_count": 31,
   "metadata": {},
   "outputs": [
    {
     "data": {
      "image/png": "[encoded data removed]",
      "text/plain": [
       "<Figure size 432x288 with 1 Axes>"
      ]
     },
     "metadata": {
      "needs_background": "light"
     },
     "output_type": "display_data"
    }
   ],
   "source": [
    "plt.plot(hist_3.history['accuracy'])\n",
    "plt.plot(hist_3.history['val_accuracy'])\n",
    "plt.title('Model accuracy')\n",
    "plt.ylabel('Accuracy')\n",
    "plt.xlabel('Epoch')\n",
    "plt.legend(['Train', 'Val'], loc='lower right')\n",
    "plt.show()"
   ]
  },
  {
   "cell_type": "code",
   "execution_count": null,
   "metadata": {},
   "outputs": [],
   "source": []
  }
 ],
 "metadata": {
  "kernelspec": {
   "display_name": "Python 3",
   "language": "python",
   "name": "python3"
  },
  "language_info": {
   "codemirror_mode": {
    "name": "ipython",
    "version": 3
   },
   "file_extension": ".py",
   "mimetype": "text/x-python",
   "name": "python",
   "nbconvert_exporter": "python",
   "pygments_lexer": "ipython3",
   "version": "3.8.8"
  }
 },
 "nbformat": 4,
 "nbformat_minor": 4
}
